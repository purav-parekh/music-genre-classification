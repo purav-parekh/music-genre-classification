{
  "nbformat": 4,
  "nbformat_minor": 0,
  "metadata": {
    "colab": {
      "provenance": []
    },
    "kernelspec": {
      "name": "python3",
      "display_name": "Python 3"
    },
    "language_info": {
      "name": "python"
    }
  },
  "cells": [
    {
      "cell_type": "markdown",
      "source": [
        "# Music Genre Classification\n",
        "It aims to categorize audio files into specific genres based on various features using classification algorithms and neural networks.\n",
        "\n",
        "### Motivation\n",
        "We have previously worked with numerical and image data in past projects. We didn’t want to do anything similar again.\n",
        "Our main intention was to ofcourse get a good grade and also learn something new.\n",
        "Hence, we decided to work with audio data. \n",
        "We believed it would help us gain a deeper understanding on how audio files are analyzed and how different it is than numerical and image data."
      ],
      "metadata": {
        "id": "4C7fIbWICw-q"
      }
    },
    {
      "cell_type": "code",
      "source": [
        "# importing all libraries and functions\n",
        "\n",
        "import pandas as pd\n",
        "import numpy as np\n",
        "from numpy import argmax\n",
        "import matplotlib.pyplot as plt\n",
        "%matplotlib inline\n",
        "import librosa\n",
        "import librosa.display\n",
        "import IPython.display\n",
        "import random\n",
        "import warnings\n",
        "import os\n",
        "from PIL import Image\n",
        "import pathlib\n",
        "import csv\n",
        "\n",
        "# Preprocessing\n",
        "import sklearn\n",
        "from sklearn.model_selection import train_test_split\n",
        "from sklearn.preprocessing import LabelEncoder, StandardScaler\n",
        "from sklearn.metrics import classification_report, confusion_matrix, accuracy_score, matthews_corrcoef\n",
        "\n",
        "#Keras\n",
        "import keras\n",
        "import warnings\n",
        "warnings.filterwarnings('ignore')\n",
        "from keras import layers\n",
        "from keras.layers import Activation, Dense, Dropout, Conv1D, Conv2D, Flatten, BatchNormalization, ZeroPadding2D, MaxPooling2D, GlobalMaxPooling2D, GlobalAveragePooling1D, AveragePooling2D, Input, Add\n",
        "from keras.models import Sequential\n",
        "from keras import regularizers\n",
        "from keras.optimizers import SGD\n",
        "import keras.backend as K\n",
        "from keras.models import load_model\n",
        "from keras.callbacks import EarlyStopping"
      ],
      "metadata": {
        "id": "52ZIJZ67mRIS"
      },
      "execution_count": 1,
      "outputs": []
    },
    {
      "cell_type": "code",
      "source": [
        "sklearn.__version__"
      ],
      "metadata": {
        "colab": {
          "base_uri": "https://localhost:8080/",
          "height": 36
        },
        "id": "8XGLvIZfIDXK",
        "outputId": "c481773b-79f1-4499-89d8-3c32cd79e67e"
      },
      "execution_count": null,
      "outputs": [
        {
          "output_type": "execute_result",
          "data": {
            "text/plain": [
              "'1.1.3'"
            ],
            "application/vnd.google.colaboratory.intrinsic+json": {
              "type": "string"
            }
          },
          "metadata": {},
          "execution_count": 3
        }
      ]
    },
    {
      "cell_type": "code",
      "source": [
        "# Uninstalled scikit-learn to reisntall and ugrade to latest version\n",
        "# We need to do this becasue the \"log_loss\" criterion of Random Forest has been added newly in the latest version. Pre-installed sklearn version on Colab is not the latest version as of now.\n",
        "\n",
        "!pip uninstall scikit-learn -y\n",
        "!pip install -U scikit-learn"
      ],
      "metadata": {
        "id": "N2lTwv9XrZBY",
        "colab": {
          "base_uri": "https://localhost:8080/",
          "height": 308
        },
        "outputId": "8df53ca1-fb13-45e6-c823-45be10c644e4"
      },
      "execution_count": null,
      "outputs": [
        {
          "output_type": "stream",
          "name": "stdout",
          "text": [
            "\u001b[33mWARNING: Skipping scikit-learn as it is not installed.\u001b[0m\n",
            "Looking in indexes: https://pypi.org/simple, https://us-python.pkg.dev/colab-wheels/public/simple/\n",
            "Collecting scikit-learn\n",
            "  Downloading scikit_learn-1.1.3-cp38-cp38-manylinux_2_17_x86_64.manylinux2014_x86_64.whl (31.2 MB)\n",
            "\u001b[K     |████████████████████████████████| 31.2 MB 72.2 MB/s \n",
            "\u001b[?25hRequirement already satisfied: joblib>=1.0.0 in /usr/local/lib/python3.8/dist-packages (from scikit-learn) (1.2.0)\n",
            "Requirement already satisfied: scipy>=1.3.2 in /usr/local/lib/python3.8/dist-packages (from scikit-learn) (1.7.3)\n",
            "Requirement already satisfied: numpy>=1.17.3 in /usr/local/lib/python3.8/dist-packages (from scikit-learn) (1.21.6)\n",
            "Requirement already satisfied: threadpoolctl>=2.0.0 in /usr/local/lib/python3.8/dist-packages (from scikit-learn) (3.1.0)\n",
            "Installing collected packages: scikit-learn\n",
            "Successfully installed scikit-learn-1.1.3\n"
          ]
        },
        {
          "output_type": "display_data",
          "data": {
            "application/vnd.colab-display-data+json": {
              "pip_warning": {
                "packages": [
                  "sklearn"
                ]
              }
            }
          },
          "metadata": {}
        }
      ]
    },
    {
      "cell_type": "code",
      "source": [
        "sklearn.__version__"
      ],
      "metadata": {
        "colab": {
          "base_uri": "https://localhost:8080/",
          "height": 36
        },
        "id": "g3mIPdOEIFJw",
        "outputId": "31d60343-3996-48e7-ac4a-61dd316fc023"
      },
      "execution_count": null,
      "outputs": [
        {
          "output_type": "execute_result",
          "data": {
            "text/plain": [
              "'1.1.3'"
            ],
            "application/vnd.google.colaboratory.intrinsic+json": {
              "type": "string"
            }
          },
          "metadata": {},
          "execution_count": 4
        }
      ]
    },
    {
      "cell_type": "code",
      "source": [
        "#Analysing the Data in Pandas\n",
        "data3 = pd.read_csv('https://raw.githubusercontent.com/purav-parekh/music-genre-classification/main/features_3_sec.csv')\n",
        "\n",
        "# Dropping unneccesary columns\n",
        "data = data3.drop(['filename'],axis=1)\n",
        "\n",
        "#Encoding the Labels\n",
        "genre_list = data.iloc[:, -1]\n",
        "encoder = LabelEncoder()\n",
        "y = encoder.fit_transform(genre_list)"
      ],
      "metadata": {
        "id": "Qde7G-SemRGR"
      },
      "execution_count": 2,
      "outputs": []
    },
    {
      "cell_type": "code",
      "source": [
        "data.head()"
      ],
      "metadata": {
        "colab": {
          "base_uri": "https://localhost:8080/",
          "height": 299
        },
        "id": "T2kFzaePnDLi",
        "outputId": "f29cdcab-6409-43f6-cd76-85a19a6bd0c8"
      },
      "execution_count": null,
      "outputs": [
        {
          "output_type": "execute_result",
          "data": {
            "text/plain": [
              "   length  chroma_stft_mean  chroma_stft_var  rms_mean   rms_var  \\\n",
              "0   66149          0.335406         0.091048  0.130405  0.003521   \n",
              "1   66149          0.343065         0.086147  0.112699  0.001450   \n",
              "2   66149          0.346815         0.092243  0.132003  0.004620   \n",
              "3   66149          0.363639         0.086856  0.132565  0.002448   \n",
              "4   66149          0.335579         0.088129  0.143289  0.001701   \n",
              "\n",
              "   spectral_centroid_mean  spectral_centroid_var  spectral_bandwidth_mean  \\\n",
              "0             1773.065032          167541.630869              1972.744388   \n",
              "1             1816.693777           90525.690866              2010.051501   \n",
              "2             1788.539719          111407.437613              2084.565132   \n",
              "3             1655.289045          111952.284517              1960.039988   \n",
              "4             1630.656199           79667.267654              1948.503884   \n",
              "\n",
              "   spectral_bandwidth_var  rolloff_mean  ...  mfcc16_var  mfcc17_mean  \\\n",
              "0           117335.771563   3714.560359  ...   39.687145    -3.241280   \n",
              "1            65671.875673   3869.682242  ...   64.748276    -6.055294   \n",
              "2            75124.921716   3997.639160  ...   67.336563    -1.768610   \n",
              "3            82913.639269   3568.300218  ...   47.739452    -3.841155   \n",
              "4            60204.020268   3469.992864  ...   30.336359     0.664582   \n",
              "\n",
              "   mfcc17_var  mfcc18_mean  mfcc18_var  mfcc19_mean  mfcc19_var  mfcc20_mean  \\\n",
              "0   36.488243     0.722209   38.099152    -5.050335   33.618073    -0.243027   \n",
              "1   40.677654     0.159015   51.264091    -2.837699   97.030830     5.784063   \n",
              "2   28.348579     2.378768   45.717648    -1.938424   53.050835     2.517375   \n",
              "3   28.337118     1.218588   34.770935    -3.580352   50.836224     3.630866   \n",
              "4   45.880913     1.689446   51.363583    -3.392489   26.738789     0.536961   \n",
              "\n",
              "   mfcc20_var  label  \n",
              "0   43.771767  blues  \n",
              "1   59.943081  blues  \n",
              "2   33.105122  blues  \n",
              "3   32.023678  blues  \n",
              "4   29.146694  blues  \n",
              "\n",
              "[5 rows x 59 columns]"
            ],
            "text/html": [
              "\n",
              "  <div id=\"df-67131da5-bdc4-4e15-aff6-87126d22349f\">\n",
              "    <div class=\"colab-df-container\">\n",
              "      <div>\n",
              "<style scoped>\n",
              "    .dataframe tbody tr th:only-of-type {\n",
              "        vertical-align: middle;\n",
              "    }\n",
              "\n",
              "    .dataframe tbody tr th {\n",
              "        vertical-align: top;\n",
              "    }\n",
              "\n",
              "    .dataframe thead th {\n",
              "        text-align: right;\n",
              "    }\n",
              "</style>\n",
              "<table border=\"1\" class=\"dataframe\">\n",
              "  <thead>\n",
              "    <tr style=\"text-align: right;\">\n",
              "      <th></th>\n",
              "      <th>length</th>\n",
              "      <th>chroma_stft_mean</th>\n",
              "      <th>chroma_stft_var</th>\n",
              "      <th>rms_mean</th>\n",
              "      <th>rms_var</th>\n",
              "      <th>spectral_centroid_mean</th>\n",
              "      <th>spectral_centroid_var</th>\n",
              "      <th>spectral_bandwidth_mean</th>\n",
              "      <th>spectral_bandwidth_var</th>\n",
              "      <th>rolloff_mean</th>\n",
              "      <th>...</th>\n",
              "      <th>mfcc16_var</th>\n",
              "      <th>mfcc17_mean</th>\n",
              "      <th>mfcc17_var</th>\n",
              "      <th>mfcc18_mean</th>\n",
              "      <th>mfcc18_var</th>\n",
              "      <th>mfcc19_mean</th>\n",
              "      <th>mfcc19_var</th>\n",
              "      <th>mfcc20_mean</th>\n",
              "      <th>mfcc20_var</th>\n",
              "      <th>label</th>\n",
              "    </tr>\n",
              "  </thead>\n",
              "  <tbody>\n",
              "    <tr>\n",
              "      <th>0</th>\n",
              "      <td>66149</td>\n",
              "      <td>0.335406</td>\n",
              "      <td>0.091048</td>\n",
              "      <td>0.130405</td>\n",
              "      <td>0.003521</td>\n",
              "      <td>1773.065032</td>\n",
              "      <td>167541.630869</td>\n",
              "      <td>1972.744388</td>\n",
              "      <td>117335.771563</td>\n",
              "      <td>3714.560359</td>\n",
              "      <td>...</td>\n",
              "      <td>39.687145</td>\n",
              "      <td>-3.241280</td>\n",
              "      <td>36.488243</td>\n",
              "      <td>0.722209</td>\n",
              "      <td>38.099152</td>\n",
              "      <td>-5.050335</td>\n",
              "      <td>33.618073</td>\n",
              "      <td>-0.243027</td>\n",
              "      <td>43.771767</td>\n",
              "      <td>blues</td>\n",
              "    </tr>\n",
              "    <tr>\n",
              "      <th>1</th>\n",
              "      <td>66149</td>\n",
              "      <td>0.343065</td>\n",
              "      <td>0.086147</td>\n",
              "      <td>0.112699</td>\n",
              "      <td>0.001450</td>\n",
              "      <td>1816.693777</td>\n",
              "      <td>90525.690866</td>\n",
              "      <td>2010.051501</td>\n",
              "      <td>65671.875673</td>\n",
              "      <td>3869.682242</td>\n",
              "      <td>...</td>\n",
              "      <td>64.748276</td>\n",
              "      <td>-6.055294</td>\n",
              "      <td>40.677654</td>\n",
              "      <td>0.159015</td>\n",
              "      <td>51.264091</td>\n",
              "      <td>-2.837699</td>\n",
              "      <td>97.030830</td>\n",
              "      <td>5.784063</td>\n",
              "      <td>59.943081</td>\n",
              "      <td>blues</td>\n",
              "    </tr>\n",
              "    <tr>\n",
              "      <th>2</th>\n",
              "      <td>66149</td>\n",
              "      <td>0.346815</td>\n",
              "      <td>0.092243</td>\n",
              "      <td>0.132003</td>\n",
              "      <td>0.004620</td>\n",
              "      <td>1788.539719</td>\n",
              "      <td>111407.437613</td>\n",
              "      <td>2084.565132</td>\n",
              "      <td>75124.921716</td>\n",
              "      <td>3997.639160</td>\n",
              "      <td>...</td>\n",
              "      <td>67.336563</td>\n",
              "      <td>-1.768610</td>\n",
              "      <td>28.348579</td>\n",
              "      <td>2.378768</td>\n",
              "      <td>45.717648</td>\n",
              "      <td>-1.938424</td>\n",
              "      <td>53.050835</td>\n",
              "      <td>2.517375</td>\n",
              "      <td>33.105122</td>\n",
              "      <td>blues</td>\n",
              "    </tr>\n",
              "    <tr>\n",
              "      <th>3</th>\n",
              "      <td>66149</td>\n",
              "      <td>0.363639</td>\n",
              "      <td>0.086856</td>\n",
              "      <td>0.132565</td>\n",
              "      <td>0.002448</td>\n",
              "      <td>1655.289045</td>\n",
              "      <td>111952.284517</td>\n",
              "      <td>1960.039988</td>\n",
              "      <td>82913.639269</td>\n",
              "      <td>3568.300218</td>\n",
              "      <td>...</td>\n",
              "      <td>47.739452</td>\n",
              "      <td>-3.841155</td>\n",
              "      <td>28.337118</td>\n",
              "      <td>1.218588</td>\n",
              "      <td>34.770935</td>\n",
              "      <td>-3.580352</td>\n",
              "      <td>50.836224</td>\n",
              "      <td>3.630866</td>\n",
              "      <td>32.023678</td>\n",
              "      <td>blues</td>\n",
              "    </tr>\n",
              "    <tr>\n",
              "      <th>4</th>\n",
              "      <td>66149</td>\n",
              "      <td>0.335579</td>\n",
              "      <td>0.088129</td>\n",
              "      <td>0.143289</td>\n",
              "      <td>0.001701</td>\n",
              "      <td>1630.656199</td>\n",
              "      <td>79667.267654</td>\n",
              "      <td>1948.503884</td>\n",
              "      <td>60204.020268</td>\n",
              "      <td>3469.992864</td>\n",
              "      <td>...</td>\n",
              "      <td>30.336359</td>\n",
              "      <td>0.664582</td>\n",
              "      <td>45.880913</td>\n",
              "      <td>1.689446</td>\n",
              "      <td>51.363583</td>\n",
              "      <td>-3.392489</td>\n",
              "      <td>26.738789</td>\n",
              "      <td>0.536961</td>\n",
              "      <td>29.146694</td>\n",
              "      <td>blues</td>\n",
              "    </tr>\n",
              "  </tbody>\n",
              "</table>\n",
              "<p>5 rows × 59 columns</p>\n",
              "</div>\n",
              "      <button class=\"colab-df-convert\" onclick=\"convertToInteractive('df-67131da5-bdc4-4e15-aff6-87126d22349f')\"\n",
              "              title=\"Convert this dataframe to an interactive table.\"\n",
              "              style=\"display:none;\">\n",
              "        \n",
              "  <svg xmlns=\"http://www.w3.org/2000/svg\" height=\"24px\"viewBox=\"0 0 24 24\"\n",
              "       width=\"24px\">\n",
              "    <path d=\"M0 0h24v24H0V0z\" fill=\"none\"/>\n",
              "    <path d=\"M18.56 5.44l.94 2.06.94-2.06 2.06-.94-2.06-.94-.94-2.06-.94 2.06-2.06.94zm-11 1L8.5 8.5l.94-2.06 2.06-.94-2.06-.94L8.5 2.5l-.94 2.06-2.06.94zm10 10l.94 2.06.94-2.06 2.06-.94-2.06-.94-.94-2.06-.94 2.06-2.06.94z\"/><path d=\"M17.41 7.96l-1.37-1.37c-.4-.4-.92-.59-1.43-.59-.52 0-1.04.2-1.43.59L10.3 9.45l-7.72 7.72c-.78.78-.78 2.05 0 2.83L4 21.41c.39.39.9.59 1.41.59.51 0 1.02-.2 1.41-.59l7.78-7.78 2.81-2.81c.8-.78.8-2.07 0-2.86zM5.41 20L4 18.59l7.72-7.72 1.47 1.35L5.41 20z\"/>\n",
              "  </svg>\n",
              "      </button>\n",
              "      \n",
              "  <style>\n",
              "    .colab-df-container {\n",
              "      display:flex;\n",
              "      flex-wrap:wrap;\n",
              "      gap: 12px;\n",
              "    }\n",
              "\n",
              "    .colab-df-convert {\n",
              "      background-color: #E8F0FE;\n",
              "      border: none;\n",
              "      border-radius: 50%;\n",
              "      cursor: pointer;\n",
              "      display: none;\n",
              "      fill: #1967D2;\n",
              "      height: 32px;\n",
              "      padding: 0 0 0 0;\n",
              "      width: 32px;\n",
              "    }\n",
              "\n",
              "    .colab-df-convert:hover {\n",
              "      background-color: #E2EBFA;\n",
              "      box-shadow: 0px 1px 2px rgba(60, 64, 67, 0.3), 0px 1px 3px 1px rgba(60, 64, 67, 0.15);\n",
              "      fill: #174EA6;\n",
              "    }\n",
              "\n",
              "    [theme=dark] .colab-df-convert {\n",
              "      background-color: #3B4455;\n",
              "      fill: #D2E3FC;\n",
              "    }\n",
              "\n",
              "    [theme=dark] .colab-df-convert:hover {\n",
              "      background-color: #434B5C;\n",
              "      box-shadow: 0px 1px 3px 1px rgba(0, 0, 0, 0.15);\n",
              "      filter: drop-shadow(0px 1px 2px rgba(0, 0, 0, 0.3));\n",
              "      fill: #FFFFFF;\n",
              "    }\n",
              "  </style>\n",
              "\n",
              "      <script>\n",
              "        const buttonEl =\n",
              "          document.querySelector('#df-67131da5-bdc4-4e15-aff6-87126d22349f button.colab-df-convert');\n",
              "        buttonEl.style.display =\n",
              "          google.colab.kernel.accessAllowed ? 'block' : 'none';\n",
              "\n",
              "        async function convertToInteractive(key) {\n",
              "          const element = document.querySelector('#df-67131da5-bdc4-4e15-aff6-87126d22349f');\n",
              "          const dataTable =\n",
              "            await google.colab.kernel.invokeFunction('convertToInteractive',\n",
              "                                                     [key], {});\n",
              "          if (!dataTable) return;\n",
              "\n",
              "          const docLinkHtml = 'Like what you see? Visit the ' +\n",
              "            '<a target=\"_blank\" href=https://colab.research.google.com/notebooks/data_table.ipynb>data table notebook</a>'\n",
              "            + ' to learn more about interactive tables.';\n",
              "          element.innerHTML = '';\n",
              "          dataTable['output_type'] = 'display_data';\n",
              "          await google.colab.output.renderOutput(dataTable, element);\n",
              "          const docLink = document.createElement('div');\n",
              "          docLink.innerHTML = docLinkHtml;\n",
              "          element.appendChild(docLink);\n",
              "        }\n",
              "      </script>\n",
              "    </div>\n",
              "  </div>\n",
              "  "
            ]
          },
          "metadata": {},
          "execution_count": 4
        }
      ]
    },
    {
      "cell_type": "markdown",
      "source": [
        "# Data preprocessing\n",
        "\n",
        "To get imporved results the data was first normalized using different techniques to see if there is any improvement/reduction in results. \n",
        "Four techniques were used for normalization:\n",
        "\n",
        "\n",
        "1. Standardization\n",
        "2. L1 Normalization\n",
        "3. L2 Normalization\n",
        "4. Min-Max Normalization\n",
        "\n",
        "Once the data was normalized, it was split into two halves, test and train. Train contained 70% of the data while test contained 30% of the data. \n",
        "\n"
      ],
      "metadata": {
        "id": "UW0q80cjonZc"
      }
    },
    {
      "cell_type": "code",
      "source": [
        "# Dataset without normalization\n",
        "X_train, X_test, y_train, y_test = train_test_split(data.iloc[:, :-1], y, test_size=0.3)"
      ],
      "metadata": {
        "id": "Yj-8U6KQpeYM"
      },
      "execution_count": 3,
      "outputs": []
    },
    {
      "cell_type": "code",
      "source": [
        "#Scaling the Feature columns - StandardScaling\n",
        "scaler = StandardScaler()\n",
        "XStandard = scaler.fit_transform(data.iloc[:, :-1])\n",
        "\n",
        "#Dividing data into training and Testing set\n",
        "X_trainStandard, X_testStandard, y_trainStandard, y_testStandard = train_test_split(XStandard, y, test_size=0.3)"
      ],
      "metadata": {
        "id": "mJOr_q1YpqPP"
      },
      "execution_count": 4,
      "outputs": []
    },
    {
      "cell_type": "code",
      "source": [
        "#Scaling the Feature columns - L1 Normalization\n",
        "XL1 = sklearn.preprocessing.normalize(data.iloc[:, :-1], norm='l1', axis=0, copy=True)\n",
        "\n",
        "#Dividing data into training and Testing set\n",
        "X_trainL1, X_testL1, y_trainL1, y_testL1 = train_test_split(XL1, y, test_size=0.3)"
      ],
      "metadata": {
        "id": "1ZdDlz4YpQGF"
      },
      "execution_count": 5,
      "outputs": []
    },
    {
      "cell_type": "code",
      "source": [
        "#Scaling the Feature columns - L2 Normalization\n",
        "XL2 = sklearn.preprocessing.normalize(data.iloc[:, :-1], norm='l2', axis=0, copy=True)\n",
        "\n",
        "#Dividing data into training and Testing set\n",
        "X_trainL2, X_testL2, y_trainL2, y_testL2 = train_test_split(XL2, y, test_size=0.3)"
      ],
      "metadata": {
        "id": "zFBXncAz1oqJ"
      },
      "execution_count": 6,
      "outputs": []
    },
    {
      "cell_type": "code",
      "source": [
        "#Scaling the Feature columns - Max Normalization\n",
        "XMax = sklearn.preprocessing.normalize(data.iloc[:, :-1], norm='max', axis=0, copy=True)\n",
        "\n",
        "#Dividing data into training and Testing set\n",
        "X_trainMax, X_testMax, y_trainMax, y_testMax = train_test_split(XMax, y, test_size=0.3)"
      ],
      "metadata": {
        "id": "QGohckPb7Dbp"
      },
      "execution_count": 7,
      "outputs": []
    },
    {
      "cell_type": "markdown",
      "source": [
        "# K Nearest Neighbors\n",
        "KNN is a supervised classification algorithm. As the underlying idea of the project was to classify music based on genre, KNN - the simplest classification algorithm was first applied on the data.\n",
        "\n",
        "**Note: As KNN is non-parametric, the initial idea of different techniques of normalization will come to handy here, as we will see further.**"
      ],
      "metadata": {
        "id": "frQj1POU6kFP"
      }
    },
    {
      "cell_type": "markdown",
      "source": [
        "Performance Metrics:\n",
        "1. **Accuracy** - Fraction of predictions the model got right.\n",
        "2. **Precision** - Fraction of positive predictions that were actually correct.\n",
        "3. **Recall** - Fraction of actual positives that were correctly predicted.\n",
        "4. **F1 Score** - Harmonic mean of precision and recall.\n",
        "5. **Matthews Score** - The Matthews correlation coefficient is used in machine learning as a measure of the quality of binary and multiclass classifications. The MCC is in essence a correlation coefficient value between -1 and +1. A coefficient of +1 represents a perfect prediction, 0 an average random prediction and -1 an inverse prediction."
      ],
      "metadata": {
        "id": "WG-vqpq0Z-qi"
      }
    },
    {
      "cell_type": "code",
      "source": [
        "# KNN Implementation\n",
        "from sklearn.neighbors import KNeighborsClassifier\n",
        "classifier3 = KNeighborsClassifier(n_neighbors = 3)"
      ],
      "metadata": {
        "id": "eqgvHCbJzNYg"
      },
      "execution_count": null,
      "outputs": []
    },
    {
      "cell_type": "code",
      "source": [
        "classifier3.fit(X_train, y_train) # non-standardized data\n",
        "classifier3.fit(X_trainStandard, y_trainStandard) # standardized data\n",
        "classifier3.fit(X_trainL1, y_trainL1) # L1 normalized data\n",
        "classifier3.fit(X_trainL2, y_trainL2) # L2 normalized data\n",
        "classifier3.fit(X_trainMax, y_trainMax) # Max normalized data"
      ],
      "metadata": {
        "colab": {
          "base_uri": "https://localhost:8080/"
        },
        "id": "RMn2OnNE7Ret",
        "outputId": "d52f6c47-0ea4-4437-ee6e-770bd94742a2"
      },
      "execution_count": null,
      "outputs": [
        {
          "output_type": "execute_result",
          "data": {
            "text/plain": [
              "KNeighborsClassifier(n_neighbors=3)"
            ]
          },
          "metadata": {},
          "execution_count": 11
        }
      ]
    },
    {
      "cell_type": "code",
      "source": [
        "y_pred = classifier3.predict(X_test)\n",
        "y_predStandard = classifier3.predict(X_testStandard)\n",
        "y_predL1 = classifier3.predict(X_testL1)\n",
        "y_predL2 = classifier3.predict(X_testL2)\n",
        "y_predMax = classifier3.predict(X_testMax)"
      ],
      "metadata": {
        "id": "pv-qhyizzzMj"
      },
      "execution_count": null,
      "outputs": []
    },
    {
      "cell_type": "code",
      "source": [
        "print('Non-scaled Dataset Results:\\n')\n",
        "print(confusion_matrix(y_test, y_pred),'\\n')\n",
        "print (\"Classification Report:\\n\\n\",classification_report(y_test, y_pred))\n",
        "print(\"Accuracy:\",accuracy_score(y_test,y_pred))\n",
        "print(\"Matthews Score:\", sklearn.metrics.matthews_corrcoef(y_test, y_pred))"
      ],
      "metadata": {
        "id": "BEXMaNhksHe9",
        "colab": {
          "base_uri": "https://localhost:8080/"
        },
        "outputId": "ba1f3fa5-1165-49e1-86c4-04f62fde00c5"
      },
      "execution_count": null,
      "outputs": [
        {
          "output_type": "stream",
          "name": "stdout",
          "text": [
            "Non-scaled Dataset Results:\n",
            "\n",
            "[[  0 278   0   0   0   0   0   0   0   0]\n",
            " [  0 287   0   0   3   0   0   0   0   0]\n",
            " [  0 312   0   0   0   0   0   0   0   0]\n",
            " [  0 295   0   0   1   0   0   0   0   0]\n",
            " [  0 301   0   0   7   0   0   0   0   0]\n",
            " [  0 312   0   0   2   0   0   0   0   0]\n",
            " [  0 317   0   0   5   0   0   0   0   0]\n",
            " [  0 287   0   0  13   0   0   0   0   0]\n",
            " [  0 301   0   0   2   0   0   0   0   0]\n",
            " [  0 273   0   0   1   0   0   0   0   0]] \n",
            "\n",
            "Classification Report:\n",
            "\n",
            "               precision    recall  f1-score   support\n",
            "\n",
            "           0       0.00      0.00      0.00       278\n",
            "           1       0.10      0.99      0.18       290\n",
            "           2       0.00      0.00      0.00       312\n",
            "           3       0.00      0.00      0.00       296\n",
            "           4       0.21      0.02      0.04       308\n",
            "           5       0.00      0.00      0.00       314\n",
            "           6       0.00      0.00      0.00       322\n",
            "           7       0.00      0.00      0.00       300\n",
            "           8       0.00      0.00      0.00       303\n",
            "           9       0.00      0.00      0.00       274\n",
            "\n",
            "    accuracy                           0.10      2997\n",
            "   macro avg       0.03      0.10      0.02      2997\n",
            "weighted avg       0.03      0.10      0.02      2997\n",
            "\n",
            "Accuracy: 0.0980980980980981\n",
            "Mathew Score: 0.008914965327051456\n"
          ]
        }
      ]
    },
    {
      "cell_type": "code",
      "source": [
        "print('Standard Scaling Results:\\n')\n",
        "print(confusion_matrix(y_testStandard, y_predStandard),'\\n')\n",
        "print (\"Classification Report:\\n\",classification_report(y_testStandard, y_predStandard))\n",
        "print(\"Accuracy:\",accuracy_score(y_testStandard,y_predStandard))\n",
        "print(\"Matthews Score:\", sklearn.metrics.matthews_corrcoef(y_testStandard, y_predStandard))"
      ],
      "metadata": {
        "colab": {
          "base_uri": "https://localhost:8080/"
        },
        "id": "OvVV24Y2z2RP",
        "outputId": "c3cccaef-f9c9-4b74-b672-fc9a25368d78"
      },
      "execution_count": null,
      "outputs": [
        {
          "output_type": "stream",
          "name": "stdout",
          "text": [
            "Standard Scaling Results:\n",
            "\n",
            "[[215  15   6   2   1  13  36   3   2   2]\n",
            " [  0 298   0   0   0   8   0   2   0   0]\n",
            " [ 31  95  85   2   4  21  10  19   8  19]\n",
            " [  8  15   3  95  15  18  37  37  33  20]\n",
            " [  9  11   3   3 147   2  34  51  14   2]\n",
            " [  9 122   1   0   1 169   0   0   1   0]\n",
            " [  2   0   0   1   2   2 300   1   4   3]\n",
            " [  0  11   1   4  14   4   0 212  66   6]\n",
            " [ 25  36  10   7  20  13   0  20 160   4]\n",
            " [ 20  30   6  14   9  14  28  12  26 153]] \n",
            "\n",
            "Classification Report:\n",
            "               precision    recall  f1-score   support\n",
            "\n",
            "           0       0.67      0.73      0.70       295\n",
            "           1       0.47      0.97      0.63       308\n",
            "           2       0.74      0.29      0.42       294\n",
            "           3       0.74      0.34      0.46       281\n",
            "           4       0.69      0.53      0.60       276\n",
            "           5       0.64      0.56      0.60       303\n",
            "           6       0.67      0.95      0.79       315\n",
            "           7       0.59      0.67      0.63       318\n",
            "           8       0.51      0.54      0.53       295\n",
            "           9       0.73      0.49      0.59       312\n",
            "\n",
            "    accuracy                           0.61      2997\n",
            "   macro avg       0.65      0.61      0.59      2997\n",
            "weighted avg       0.65      0.61      0.60      2997\n",
            "\n",
            "Accuracy: 0.6119452786119453\n",
            "Mathew Score: 0.5752967735748776\n"
          ]
        }
      ]
    },
    {
      "cell_type": "code",
      "source": [
        "print('L1 Normalization Results:\\n')\n",
        "print(confusion_matrix(y_testL1, y_predL1),'\\n')\n",
        "print (\"Classification Report:\\n\",classification_report(y_testL1, y_predL1))\n",
        "print(\"Accuracy:\",accuracy_score(y_testL1,y_predL1))\n",
        "print(\"Matthews Score:\", sklearn.metrics.matthews_corrcoef(y_testL1, y_predL1))"
      ],
      "metadata": {
        "colab": {
          "base_uri": "https://localhost:8080/"
        },
        "id": "gTKWh3hj70m5",
        "outputId": "8b2ea669-6c2c-4a41-d51f-424f0df20ee6"
      },
      "execution_count": null,
      "outputs": [
        {
          "output_type": "stream",
          "name": "stdout",
          "text": [
            "L1 Normalization Results:\n",
            "\n",
            "[[  0 313   0   0   0   0   0   0   0   0]\n",
            " [  0 292   0   0   0   0   0   0   0   0]\n",
            " [  0 271   0   0   0   0   0   0   0   0]\n",
            " [  0 287   0   0   0   0   0   0   0   0]\n",
            " [  0 308   0   0   0   0   0   0   0   0]\n",
            " [  0 301   0   0   0   0   0   0   0   0]\n",
            " [  0 304   0   0   0   0   0   0   0   0]\n",
            " [  0 295   0   0   0   0   0   0   0   0]\n",
            " [  0 304   0   0   0   0   0   0   0   0]\n",
            " [  0 322   0   0   0   0   0   0   0   0]] \n",
            "\n",
            "Classification Report:\n",
            "               precision    recall  f1-score   support\n",
            "\n",
            "           0       0.00      0.00      0.00       313\n",
            "           1       0.10      1.00      0.18       292\n",
            "           2       0.00      0.00      0.00       271\n",
            "           3       0.00      0.00      0.00       287\n",
            "           4       0.00      0.00      0.00       308\n",
            "           5       0.00      0.00      0.00       301\n",
            "           6       0.00      0.00      0.00       304\n",
            "           7       0.00      0.00      0.00       295\n",
            "           8       0.00      0.00      0.00       304\n",
            "           9       0.00      0.00      0.00       322\n",
            "\n",
            "    accuracy                           0.10      2997\n",
            "   macro avg       0.01      0.10      0.02      2997\n",
            "weighted avg       0.01      0.10      0.02      2997\n",
            "\n",
            "Accuracy: 0.09743076409743076\n",
            "Mathew Score: 0.0\n"
          ]
        }
      ]
    },
    {
      "cell_type": "code",
      "source": [
        "print('L2 Normalization Results:\\n')\n",
        "print(confusion_matrix(y_testL2, y_predL2),'\\n')\n",
        "print (\"Classification Report:\\n\",classification_report(y_testL2, y_predL2))\n",
        "print(\"Accuracy:\",accuracy_score(y_testL2,y_predL2))\n",
        "print(\"Matthews Score:\", sklearn.metrics.matthews_corrcoef(y_testL2, y_predL2))"
      ],
      "metadata": {
        "colab": {
          "base_uri": "https://localhost:8080/"
        },
        "id": "muskYEIK70Md",
        "outputId": "fab09ba4-529f-4590-cdc5-e147456545fe"
      },
      "execution_count": null,
      "outputs": [
        {
          "output_type": "stream",
          "name": "stdout",
          "text": [
            "L2 Normalization Results:\n",
            "\n",
            "[[  0 280   0   0   0   0   0   0   0   0]\n",
            " [  0 283   0   0   0   0   0   0   0   0]\n",
            " [  0 286   0   0   0   0   0   0   0   0]\n",
            " [  0 290   0   0   0   0   0   0   0   0]\n",
            " [  0 295   0   0   0   0   0   0   0   0]\n",
            " [  0 336   0   0   0   0   0   0   0   0]\n",
            " [  0 315   0   0   0   0   0   0   0   0]\n",
            " [  0 304   0   0   0   0   0   0   0   0]\n",
            " [  0 283   0   0   0   0   0   0   0   0]\n",
            " [  0 325   0   0   0   0   0   0   0   0]] \n",
            "\n",
            "Classification Report:\n",
            "               precision    recall  f1-score   support\n",
            "\n",
            "           0       0.00      0.00      0.00       280\n",
            "           1       0.09      1.00      0.17       283\n",
            "           2       0.00      0.00      0.00       286\n",
            "           3       0.00      0.00      0.00       290\n",
            "           4       0.00      0.00      0.00       295\n",
            "           5       0.00      0.00      0.00       336\n",
            "           6       0.00      0.00      0.00       315\n",
            "           7       0.00      0.00      0.00       304\n",
            "           8       0.00      0.00      0.00       283\n",
            "           9       0.00      0.00      0.00       325\n",
            "\n",
            "    accuracy                           0.09      2997\n",
            "   macro avg       0.01      0.10      0.02      2997\n",
            "weighted avg       0.01      0.09      0.02      2997\n",
            "\n",
            "Accuracy: 0.09442776109442776\n",
            "Mathew Score: 0.0\n"
          ]
        }
      ]
    },
    {
      "cell_type": "code",
      "source": [
        "print('Max normalization Results:\\n')\n",
        "print(confusion_matrix(y_testMax, y_predMax))\n",
        "print (\"Classification Report:\\n\",classification_report(y_testMax, y_predMax))\n",
        "print(\"Accuracy:\",accuracy_score(y_testMax,y_predMax))\n",
        "print(\"Matthews Score:\", sklearn.metrics.matthews_corrcoef(y_testMax, y_predMax))"
      ],
      "metadata": {
        "colab": {
          "base_uri": "https://localhost:8080/"
        },
        "id": "kXXSRyAu7z2j",
        "outputId": "a2a01afc-b40a-475e-a750-7ef3da70e5d6"
      },
      "execution_count": null,
      "outputs": [
        {
          "output_type": "stream",
          "name": "stdout",
          "text": [
            "Max normalization Results:\n",
            "\n",
            "[[280   0  10   1   0   4   1   0   1   2]\n",
            " [  2 281   0   0   0  12   0   0   0   1]\n",
            " [  8   3 264   3   1   4   0   0  12   4]\n",
            " [  1   2   6 305   2   1   1   0   1   7]\n",
            " [  3   2   3   9 288   0   0   6   3   1]\n",
            " [  5  14   4   2   0 228   0   0   0   1]\n",
            " [  2   0   1   2   0   0 300   0   1   3]\n",
            " [  0   1  10  15   6   2   0 257   3   4]\n",
            " [  0   1   5   3   1   1   0   0 276   2]\n",
            " [  5   3   8  21   2   3   4   2   7 257]]\n",
            "Classification Report:\n",
            "               precision    recall  f1-score   support\n",
            "\n",
            "           0       0.92      0.94      0.93       299\n",
            "           1       0.92      0.95      0.93       296\n",
            "           2       0.85      0.88      0.87       299\n",
            "           3       0.84      0.94      0.89       326\n",
            "           4       0.96      0.91      0.94       315\n",
            "           5       0.89      0.90      0.90       254\n",
            "           6       0.98      0.97      0.98       309\n",
            "           7       0.97      0.86      0.91       298\n",
            "           8       0.91      0.96      0.93       289\n",
            "           9       0.91      0.82      0.87       312\n",
            "\n",
            "    accuracy                           0.91      2997\n",
            "   macro avg       0.91      0.91      0.91      2997\n",
            "weighted avg       0.91      0.91      0.91      2997\n",
            "\n",
            "Accuracy: 0.9129129129129129\n",
            "Mathew Score: 0.9034179352251325\n"
          ]
        }
      ]
    },
    {
      "cell_type": "markdown",
      "source": [
        "It can be observed that for k = 3, different accuracy values for differently \"normalized\" datasets were obtained.\n",
        "\n",
        "To summarise:\n",
        "1. Non-standardized Dataset - 10%\n",
        "2. Standardized Dataset - 62%\n",
        "3. L1 Normalized Dataset - 11%\n",
        "4. L2 Normalized Dataset - 10%\n",
        "5. **Max normalised Dataset - 91%**\n",
        "\n",
        "It can be seen that the dataset with max normalization obtained the highest accuracy.\n",
        "\n",
        "Next, the most optimal 'k' value is to be found out.\n",
        "\n",
        "\n",
        "\n"
      ],
      "metadata": {
        "id": "x63-JN6Ns14p"
      }
    },
    {
      "cell_type": "code",
      "source": [
        "acc = []\n",
        "# Will take some time\n",
        "from sklearn import metrics\n",
        "for i in range(3,40):\n",
        "    neigh = KNeighborsClassifier(n_neighbors = i).fit(X_train,y_train)\n",
        "    yhat = neigh.predict(X_test)\n",
        "    acc.append(metrics.accuracy_score(y_test, yhat))\n",
        "\n",
        "plt.figure(figsize=(10,6))\n",
        "plt.plot(range(3,40),acc,color = 'blue',linestyle='dashed', marker='o',markerfacecolor='red', markersize=10)\n",
        "plt.title('accuracy vs. K Value')\n",
        "plt.xlabel('K')\n",
        "plt.ylabel('Accuracy')\n",
        "print(\"Maximum accuracy:-\",max(acc),\"at K =\",acc.index(max(acc))+3)"
      ],
      "metadata": {
        "id": "WbwaQPOos1lu",
        "colab": {
          "base_uri": "https://localhost:8080/",
          "height": 422
        },
        "outputId": "da7471e2-2b76-4a81-83a1-85fbfd09bde5"
      },
      "execution_count": null,
      "outputs": [
        {
          "output_type": "stream",
          "name": "stdout",
          "text": [
            "Maximum accuracy:- 0.3063063063063063 at K = 22\n"
          ]
        },
        {
          "output_type": "display_data",
          "data": {
            "text/plain": [
              "<Figure size 720x432 with 1 Axes>"
            ],
            "image/png": "[encoded data removed]"
          },
          "metadata": {
            "needs_background": "light"
          }
        }
      ]
    },
    {
      "cell_type": "code",
      "source": [
        "accStandard = []\n",
        "# Will take some time\n",
        "from sklearn import metrics\n",
        "for i in range(3,40):\n",
        "    neighStandard = KNeighborsClassifier(n_neighbors = i).fit(X_trainStandard,y_trainStandard)\n",
        "    yhatStandard = neighStandard.predict(X_testStandard)\n",
        "    accStandard.append(metrics.accuracy_score(y_testStandard, yhatStandard))\n",
        "\n",
        "plt.figure(figsize=(10,6))\n",
        "plt.plot(range(3,40),accStandard,color = 'blue',linestyle='dashed', marker='o',markerfacecolor='red', markersize=10)\n",
        "plt.title('accuracy vs. K Value')\n",
        "plt.xlabel('K')\n",
        "plt.ylabel('Accuracy')\n",
        "print(\"Maximum accuracy:-\",max(accStandard),\"at K =\",accStandard.index(max(accStandard))+3)"
      ],
      "metadata": {
        "colab": {
          "base_uri": "https://localhost:8080/",
          "height": 422
        },
        "id": "38dfsPH30ix0",
        "outputId": "8e053d32-389b-4788-833d-946193601bfe"
      },
      "execution_count": null,
      "outputs": [
        {
          "output_type": "stream",
          "name": "stdout",
          "text": [
            "Maximum accuracy:- 0.8742075408742075 at K = 3\n"
          ]
        },
        {
          "output_type": "display_data",
          "data": {
            "text/plain": [
              "<Figure size 720x432 with 1 Axes>"
            ],
            "image/png": "[encoded data removed]"
          },
          "metadata": {
            "needs_background": "light"
          }
        }
      ]
    },
    {
      "cell_type": "code",
      "source": [
        "accL1 = []\n",
        "# Will take some time\n",
        "from sklearn import metrics\n",
        "for i in range(3,40):\n",
        "    neighL1 = KNeighborsClassifier(n_neighbors = i).fit(X_trainL1,y_trainL1)\n",
        "    yhatL1 = neighL1.predict(X_testL1)\n",
        "    accL1.append(metrics.accuracy_score(y_testL1, yhatL1))\n",
        "\n",
        "plt.figure(figsize=(10,6))\n",
        "plt.plot(range(3,40),accL1,color = 'blue',linestyle='dashed', marker='o',markerfacecolor='red', markersize=10)\n",
        "plt.title('accuracy vs. K Value')\n",
        "plt.xlabel('K')\n",
        "plt.ylabel('Accuracy')\n",
        "print(\"Maximum accuracy:-\",max(accL1),\"at K =\",accL1.index(max(accL1))+3)"
      ],
      "metadata": {
        "colab": {
          "base_uri": "https://localhost:8080/",
          "height": 422
        },
        "id": "CP4Z8ATQ8mdK",
        "outputId": "b0150144-a0d6-4d89-a477-944ad4ed4ee3"
      },
      "execution_count": null,
      "outputs": [
        {
          "output_type": "stream",
          "name": "stdout",
          "text": [
            "Maximum accuracy:- 0.8988988988988988 at K = 3\n"
          ]
        },
        {
          "output_type": "display_data",
          "data": {
            "text/plain": [
              "<Figure size 720x432 with 1 Axes>"
            ],
            "image/png": "[encoded data removed]"
          },
          "metadata": {
            "needs_background": "light"
          }
        }
      ]
    },
    {
      "cell_type": "code",
      "source": [
        "accL2 = []\n",
        "# Will take some time\n",
        "from sklearn import metrics\n",
        "for i in range(3,40):\n",
        "    neighL2 = KNeighborsClassifier(n_neighbors = i).fit(X_trainL2,y_trainL2)\n",
        "    yhatL2 = neighL2.predict(X_testL2)\n",
        "    accL2.append(metrics.accuracy_score(y_testL2, yhatL2))\n",
        "\n",
        "plt.figure(figsize=(10,6))\n",
        "plt.plot(range(3,40),accL2,color = 'blue',linestyle='dashed', marker='o',markerfacecolor='red', markersize=10)\n",
        "plt.title('accuracy vs. K Value')\n",
        "plt.xlabel('K')\n",
        "plt.ylabel('Accuracy')\n",
        "print(\"Maximum accuracy:-\",max(accL2),\"at K =\",accL2.index(max(accL2))+3)"
      ],
      "metadata": {
        "colab": {
          "base_uri": "https://localhost:8080/",
          "height": 422
        },
        "id": "U2_j-QzD8mWL",
        "outputId": "035c6fac-4a6a-495a-f6a3-1aa210922bd9"
      },
      "execution_count": null,
      "outputs": [
        {
          "output_type": "stream",
          "name": "stdout",
          "text": [
            "Maximum accuracy:- 0.9032365699032365 at K = 3\n"
          ]
        },
        {
          "output_type": "display_data",
          "data": {
            "text/plain": [
              "<Figure size 720x432 with 1 Axes>"
            ],
            "image/png": "[encoded data removed]"
          },
          "metadata": {
            "needs_background": "light"
          }
        }
      ]
    },
    {
      "cell_type": "code",
      "source": [
        "accMax = []\n",
        "# Will take some time\n",
        "from sklearn import metrics\n",
        "for i in range(3,40):\n",
        "    neighMax = KNeighborsClassifier(n_neighbors = i).fit(X_trainMax,y_trainMax)\n",
        "    yhatMax = neighMax.predict(X_testMax)\n",
        "    accMax.append(metrics.accuracy_score(y_testMax, yhatMax))\n",
        "\n",
        "plt.figure(figsize=(10,6))\n",
        "plt.plot(range(3,40),accMax,color = 'blue',linestyle='dashed', marker='o',markerfacecolor='red', markersize=10)\n",
        "plt.title('accuracy vs. K Value')\n",
        "plt.xlabel('K')\n",
        "plt.ylabel('Accuracy')\n",
        "print(\"Maximum accuracy:-\",max(accMax),\"at K =\",accMax.index(max(accMax))+3)"
      ],
      "metadata": {
        "colab": {
          "base_uri": "https://localhost:8080/",
          "height": 422
        },
        "id": "oq6ZDqiG8mHO",
        "outputId": "e57900ef-b960-4875-dc58-8ca816f6c65e"
      },
      "execution_count": null,
      "outputs": [
        {
          "output_type": "stream",
          "name": "stdout",
          "text": [
            "Maximum accuracy:- 0.9102435769102436 at K = 3\n"
          ]
        },
        {
          "output_type": "display_data",
          "data": {
            "text/plain": [
              "<Figure size 720x432 with 1 Axes>"
            ],
            "image/png": "[encoded data removed]"
          },
          "metadata": {
            "needs_background": "light"
          }
        }
      ]
    },
    {
      "cell_type": "markdown",
      "source": [
        "Some promising results. \n",
        "\n",
        "* The maximum accuracy was obtained for the max dataset, consistent with the previous findings.\n",
        "* The value of optimal 'k' was always 3, except for the non-standardized dataset where k=22.\n",
        "\n",
        "![KNN_Results.png](data:image/png;base64,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)"
      ],
      "metadata": {
        "id": "AJHEnttPwLAy"
      }
    },
    {
      "cell_type": "markdown",
      "source": [
        "# **Random Forest Classifier**\n",
        "\n",
        "To improve the findings and get a better classifier, another classifier - Random Forest Classifier, is used.\n",
        "\n",
        "Random forest classifier is a non-parametric algorithm with multiple parameters that can be varied. It has around 29 different features that can be varied and set.\n",
        "\n",
        "Multiple versions of the RF classifier with varying parameters is used to train and obtain better results.\n",
        "\n",
        "For this particular use-case, 2 paramters are varied:\n",
        "* No of estimators\n",
        "  * The number of estimators is varied from 10-100 at steps of 10.\n",
        "  * The number of estimators are also varied to find the optimal number. A for loop run between 10-110 wit steps of 10 is used to find the accuracy.\n",
        "* Criterion i.e. the function which will measure the quality of split.\n",
        "  * Three different criterions are used\n",
        "    1. Gini Index\n",
        "    2. Entropy\n",
        "    3. Log loss\n",
        "\n",
        "Similar to KNN, all the 5 types of normalized datasets are used.\n",
        "\n",
        "A total of **6 models** of RF classifiers with different parameters were built.\n",
        "Each of the 6 models were run against **5 datasets**. Results of which are at the end of the section."
      ],
      "metadata": {
        "id": "9qlDcSIFCRl2"
      }
    },
    {
      "cell_type": "markdown",
      "source": [
        "### Random Forest Part I\n",
        "\n",
        "\n",
        "*   Criterion: Gini Index\n",
        "*   Estimators: 100\n",
        "\n"
      ],
      "metadata": {
        "id": "4zqT27k-YL0i"
      }
    },
    {
      "cell_type": "code",
      "source": [
        "# Random Forest - Non-standardized dataset\n",
        "# importing random forest classifier from assemble module\n",
        "from sklearn.ensemble import RandomForestClassifier\n",
        "\n",
        "# creating a RF classifier\n",
        "rf = RandomForestClassifier(n_estimators = 100)\n",
        "\n",
        "# Training the model on the training dataset# fit function is used to train the model using the training sets as parameters\n",
        "rf.fit(X_train, y_train)\n",
        "\n",
        "# performing predictions on the test dataset\n",
        "y_pred_RF_ = rf.predict(X_test)\n",
        "\n",
        "# using metrics module for accuracy calculation\n",
        "print(\"ACCURACY OF THE MODEL: \", metrics.accuracy_score(y_test, y_pred_RF_))"
      ],
      "metadata": {
        "id": "bUDGLYklXyuR",
        "colab": {
          "base_uri": "https://localhost:8080/"
        },
        "outputId": "4ec4453d-7a7a-4e20-cb9c-7548affe7b36"
      },
      "execution_count": null,
      "outputs": [
        {
          "output_type": "stream",
          "name": "stdout",
          "text": [
            "ACCURACY OF THE MODEL:  0.8548548548548549\n",
            "Classification Report:\n",
            "               precision    recall  f1-score   support\n",
            "\n",
            "           0       0.87      0.89      0.88       303\n",
            "           1       0.89      0.94      0.91       293\n",
            "           2       0.76      0.82      0.79       302\n",
            "           3       0.83      0.79      0.81       312\n",
            "           4       0.92      0.87      0.89       280\n",
            "           5       0.82      0.87      0.84       289\n",
            "           6       0.88      0.94      0.91       318\n",
            "           7       0.89      0.89      0.89       299\n",
            "           8       0.82      0.86      0.84       285\n",
            "           9       0.88      0.69      0.77       316\n",
            "\n",
            "    accuracy                           0.85      2997\n",
            "   macro avg       0.86      0.86      0.85      2997\n",
            "weighted avg       0.86      0.85      0.85      2997\n",
            "\n"
          ]
        }
      ]
    },
    {
      "cell_type": "code",
      "source": [
        "# Random Forest - StandardScaler dataset\n",
        "rfStandard = RandomForestClassifier(n_estimators = 100)\n",
        "rfStandard.fit(X_trainStandard, y_trainStandard)\n",
        "y_pred_RF_Standard = rfStandard.predict(X_testStandard)\n",
        "print(\"ACCURACY OF THE MODEL: \", metrics.accuracy_score(y_testStandard, y_pred_RF_Standard))"
      ],
      "metadata": {
        "colab": {
          "base_uri": "https://localhost:8080/"
        },
        "id": "MEd3RbxJCn_F",
        "outputId": "64cfaf2b-022b-444f-f4a9-4bd2c973d893"
      },
      "execution_count": null,
      "outputs": [
        {
          "output_type": "stream",
          "name": "stdout",
          "text": [
            "ACCURACY OF THE MODEL:  0.8491825158491825\n"
          ]
        }
      ]
    },
    {
      "cell_type": "code",
      "source": [
        "# Random Forest - L1 Normalization\n",
        "rfL1 = RandomForestClassifier(n_estimators = 100)\n",
        "rfL1.fit(X_trainL1, y_trainL1)\n",
        "y_pred_RF_L1 = rfL1.predict(X_testL1)\n",
        "print(\"ACCURACY OF THE MODEL: \", metrics.accuracy_score(y_testL1, y_pred_RF_L1))"
      ],
      "metadata": {
        "colab": {
          "base_uri": "https://localhost:8080/"
        },
        "id": "GNepx-LtD_nz",
        "outputId": "3c679766-2c76-4239-cf32-ce36574589a3"
      },
      "execution_count": null,
      "outputs": [
        {
          "output_type": "stream",
          "name": "stdout",
          "text": [
            "ACCURACY OF THE MODEL:  0.8575241908575242\n"
          ]
        }
      ]
    },
    {
      "cell_type": "code",
      "source": [
        "# Random Forest - L2 Normalization\n",
        "rfL2 = RandomForestClassifier(n_estimators = 100)\n",
        "rfL2.fit(X_trainL2, y_trainL2)\n",
        "y_pred_RF_L2 = rfL2.predict(X_testL2)\n",
        "print(\"ACCURACY OF THE MODEL: \", metrics.accuracy_score(y_testL2, y_pred_RF_L2))"
      ],
      "metadata": {
        "colab": {
          "base_uri": "https://localhost:8080/"
        },
        "id": "zdnisRA1EBiJ",
        "outputId": "e0714b93-2af8-4b44-a914-de1c66fb0d7e"
      },
      "execution_count": null,
      "outputs": [
        {
          "output_type": "stream",
          "name": "stdout",
          "text": [
            "ACCURACY OF THE MODEL:  0.8591925258591925\n"
          ]
        }
      ]
    },
    {
      "cell_type": "code",
      "source": [
        "# Random Forest\n",
        "rfMax = RandomForestClassifier(n_estimators = 100)\n",
        "rfMax.fit(X_trainMax, y_trainMax)\n",
        "y_pred_RF_Max = rfMax.predict(X_testMax)\n",
        "print(\"ACCURACY OF THE MODEL: \", metrics.accuracy_score(y_testMax, y_pred_RF_Max))"
      ],
      "metadata": {
        "colab": {
          "base_uri": "https://localhost:8080/"
        },
        "id": "AygcR2mZEPBz",
        "outputId": "cff86e64-dc99-4d47-edc8-bfd00bf3fdee"
      },
      "execution_count": null,
      "outputs": [
        {
          "output_type": "stream",
          "name": "stdout",
          "text": [
            "ACCURACY OF THE MODEL:  0.8655321988655322\n"
          ]
        }
      ]
    },
    {
      "cell_type": "code",
      "source": [
        "# Calculate Feature Importances to make Feature Selection\n",
        "# model = RandomForestClassifier()\n",
        "# model.fit(train.drop(columns='Class'), train.Class)\n",
        "\n",
        "feat_imp = pd.Series(rf.feature_importances_ * 100, index=XtrainStandard.columns).sort_values(ascending=False)\n",
        "feat_imp"
      ],
      "metadata": {
        "id": "ZXa9W1HNjAkb"
      },
      "execution_count": null,
      "outputs": []
    },
    {
      "cell_type": "code",
      "source": [
        "# px.bar(feat_imp.sort_values(ascending=True), orientation='h')\n",
        "# ax.barh(feat_imp, xerr=error, align='center')"
      ],
      "metadata": {
        "id": "pcvq6hXVjP6b"
      },
      "execution_count": null,
      "outputs": []
    },
    {
      "cell_type": "markdown",
      "source": [
        "### Random Forest - Part II\n",
        "\n",
        "\n",
        "*   Criterion: Entropy\n",
        "*   Estimators: 100\n",
        "\n"
      ],
      "metadata": {
        "id": "5RfNbCad3dnU"
      }
    },
    {
      "cell_type": "code",
      "source": [
        "# Random Forest - Non-standardized Dataset\n",
        "rfEntropy = RandomForestClassifier(n_estimators = 100,criterion='entropy')\n",
        "rfEntropy.fit(X_train, y_train)\n",
        "y_pred_RF_Entropy = rfEntropy.predict(X_test)\n",
        "print(\"ACCURACY OF THE MODEL: \", metrics.accuracy_score(y_test, y_pred_RF_Entropy))"
      ],
      "metadata": {
        "id": "vdA2xwC2YpRP",
        "colab": {
          "base_uri": "https://localhost:8080/"
        },
        "outputId": "881a9208-503a-4763-a96c-1df3fdf0a0a1"
      },
      "execution_count": null,
      "outputs": [
        {
          "output_type": "stream",
          "name": "stdout",
          "text": [
            "ACCURACY OF THE MODEL:  0.8651985318651986\n"
          ]
        }
      ]
    },
    {
      "cell_type": "code",
      "source": [
        "# Random Forest - StandardScaler Dataset\n",
        "rfStandardEntropy = RandomForestClassifier(n_estimators = 100,criterion='entropy')\n",
        "rfStandardEntropy.fit(X_trainStandard, y_trainStandard)\n",
        "y_pred_RF_StandardEntropy = rfStandardEntropy.predict(X_testStandard)\n",
        "print(\"ACCURACY OF THE MODEL: \", metrics.accuracy_score(y_testStandard, y_pred_RF_StandardEntropy))"
      ],
      "metadata": {
        "colab": {
          "base_uri": "https://localhost:8080/"
        },
        "id": "kukchdoL3LCi",
        "outputId": "c2df27df-f07f-421a-e7aa-f6b7ed133ce6"
      },
      "execution_count": null,
      "outputs": [
        {
          "output_type": "stream",
          "name": "stdout",
          "text": [
            "ACCURACY OF THE MODEL:  0.8521855188521855\n"
          ]
        }
      ]
    },
    {
      "cell_type": "code",
      "source": [
        "# Random Forest - L1 Normalization\n",
        "rfL1Entropy = RandomForestClassifier(n_estimators = 100,criterion='entropy')\n",
        "rfL1Entropy.fit(X_trainL1, y_trainL1)\n",
        "y_pred_RF_L1Entropy = rfL1Entropy.predict(X_testL1)\n",
        "print(\"ACCURACY OF THE MODEL: \", metrics.accuracy_score(y_testL1, y_pred_RF_L1Entropy))"
      ],
      "metadata": {
        "colab": {
          "base_uri": "https://localhost:8080/"
        },
        "id": "CZRUT-9C3K5z",
        "outputId": "de23941c-e740-4ce4-d301-19378094e5a2"
      },
      "execution_count": null,
      "outputs": [
        {
          "output_type": "stream",
          "name": "stdout",
          "text": [
            "ACCURACY OF THE MODEL:  0.8555221888555222\n"
          ]
        }
      ]
    },
    {
      "cell_type": "code",
      "source": [
        "# Random Forest - L2 Normalization\n",
        "rfL2Entropy = RandomForestClassifier(n_estimators = 100,criterion='entropy')\n",
        "rfL2Entropy.fit(X_trainL2, y_trainL2)\n",
        "y_pred_RF_L2Entropy = rfL2Entropy.predict(X_testL2)\n",
        "print(\"ACCURACY OF THE MODEL: \", metrics.accuracy_score(y_testL2, y_pred_RF_L2Entropy))"
      ],
      "metadata": {
        "colab": {
          "base_uri": "https://localhost:8080/"
        },
        "id": "mu4AOaRh3KVW",
        "outputId": "962fe5b9-90ee-40b9-bc7c-80c483d46aff"
      },
      "execution_count": null,
      "outputs": [
        {
          "output_type": "stream",
          "name": "stdout",
          "text": [
            "ACCURACY OF THE MODEL:  0.8621955288621955\n"
          ]
        }
      ]
    },
    {
      "cell_type": "code",
      "source": [
        "# Random Forest - - Max Normalization\n",
        "rfMaxEntropy = RandomForestClassifier(n_estimators = 100,criterion='entropy')\n",
        "rfMax.fit(X_trainMax, y_trainMax)\n",
        "y_pred_RF_MaxEntropy = rfMax.predict(X_testMax)\n",
        "print(\"ACCURACY OF THE MODEL: \", metrics.accuracy_score(y_testMax, y_pred_RF_MaxEntropy))"
      ],
      "metadata": {
        "colab": {
          "base_uri": "https://localhost:8080/"
        },
        "id": "W47R-f8Y3LNk",
        "outputId": "0a485a51-5b29-498d-c319-512e68b3c390"
      },
      "execution_count": null,
      "outputs": [
        {
          "output_type": "stream",
          "name": "stdout",
          "text": [
            "ACCURACY OF THE MODEL:  0.8705372038705372\n"
          ]
        }
      ]
    },
    {
      "cell_type": "markdown",
      "source": [
        "### Random Forest Part III\n",
        "\n",
        "*   Criterion: Log Loss\n",
        "*   Estimators: 100"
      ],
      "metadata": {
        "id": "7gc7D5W84awW"
      }
    },
    {
      "cell_type": "code",
      "source": [
        "# Random Forest - Non-standardized Dataset\n",
        "rfLogLoss = RandomForestClassifier(n_estimators = 100,criterion='log_loss')\n",
        "rfLogLoss.fit(X_train, y_train)\n",
        "y_pred_RF_LogLoss = rfLogLoss.predict(X_test)\n",
        "print(\"ACCURACY OF THE MODEL: \", metrics.accuracy_score(y_test, y_pred_RF_LogLoss))"
      ],
      "metadata": {
        "id": "VMn9ONy_Y621",
        "colab": {
          "base_uri": "https://localhost:8080/"
        },
        "outputId": "e52b6a6f-b31d-4877-c56e-d6ac17cf3f8c"
      },
      "execution_count": null,
      "outputs": [
        {
          "output_type": "stream",
          "name": "stdout",
          "text": [
            "ACCURACY OF THE MODEL:  0.8635301968635302\n"
          ]
        }
      ]
    },
    {
      "cell_type": "code",
      "source": [
        "# Random Forest\n",
        "rfStandardLogLoss = RandomForestClassifier(n_estimators = 100,criterion='log_loss')\n",
        "rfStandardLogLoss.fit(X_trainStandard, y_trainStandard)\n",
        "y_pred_RF_StandardLogLoss = rfStandardLogLoss.predict(X_testStandard)\n",
        "print(\"ACCURACY OF THE MODEL: \", metrics.accuracy_score(y_testStandard, y_pred_RF_StandardLogLoss))"
      ],
      "metadata": {
        "colab": {
          "base_uri": "https://localhost:8080/"
        },
        "id": "MVY3JMFz4dc4",
        "outputId": "3306bc55-c5b0-4701-e8f6-135a6d131f0f"
      },
      "execution_count": null,
      "outputs": [
        {
          "output_type": "stream",
          "name": "stdout",
          "text": [
            "ACCURACY OF THE MODEL:  0.8588588588588588\n"
          ]
        }
      ]
    },
    {
      "cell_type": "code",
      "source": [
        "# Random Forest\n",
        "rfL1LogLoss = RandomForestClassifier(n_estimators = 100,criterion='log_loss')\n",
        "rfL1LogLoss.fit(X_trainL1, y_trainL1)\n",
        "y_pred_RF_L1LogLoss = rfL1LogLoss.predict(X_testL1)\n",
        "print(\"ACCURACY OF THE MODEL: \", metrics.accuracy_score(y_testL1, y_pred_RF_L1LogLoss))"
      ],
      "metadata": {
        "id": "iDJbKNR34oAP",
        "colab": {
          "base_uri": "https://localhost:8080/"
        },
        "outputId": "3fd96b3f-0d8b-4ef9-a58e-e2293c405d24"
      },
      "execution_count": null,
      "outputs": [
        {
          "output_type": "stream",
          "name": "stdout",
          "text": [
            "ACCURACY OF THE MODEL:  0.8548548548548549\n"
          ]
        }
      ]
    },
    {
      "cell_type": "code",
      "source": [
        "# Random Forest\n",
        "rfL2LogLoss = RandomForestClassifier(n_estimators = 100,criterion='log_loss')\n",
        "rfL2LogLoss.fit(X_trainL2, y_trainL2)\n",
        "y_pred_RF_L2LogLoss = rfL2LogLoss.predict(X_testL2)\n",
        "print(\"ACCURACY OF THE MODEL: \", metrics.accuracy_score(y_testL2, y_pred_RF_L2LogLoss))"
      ],
      "metadata": {
        "id": "zcKS-Hhg4x2O",
        "colab": {
          "base_uri": "https://localhost:8080/"
        },
        "outputId": "081bb61e-9590-4531-832b-27585a82b65e"
      },
      "execution_count": null,
      "outputs": [
        {
          "output_type": "stream",
          "name": "stdout",
          "text": [
            "ACCURACY OF THE MODEL:  0.8591925258591925\n"
          ]
        }
      ]
    },
    {
      "cell_type": "code",
      "source": [
        "# Random Forest\n",
        "rfMaxLogLoss = RandomForestClassifier(n_estimators = 100,criterion='log_loss')\n",
        "rfMaxLogLoss.fit(X_trainMax, y_trainMax)\n",
        "y_pred_RF_MaxLogLoss = rfMaxLogLoss.predict(X_testMax)\n",
        "print(\"ACCURACY OF THE MODEL: \", metrics.accuracy_score(y_testMax, y_pred_RF_MaxLogLoss))"
      ],
      "metadata": {
        "id": "9RJVdG6L407e",
        "colab": {
          "base_uri": "https://localhost:8080/"
        },
        "outputId": "f1219fba-a6be-4595-8f54-f3ac014a2a94"
      },
      "execution_count": null,
      "outputs": [
        {
          "output_type": "stream",
          "name": "stdout",
          "text": [
            "ACCURACY OF THE MODEL:  0.8605271938605272\n"
          ]
        }
      ]
    },
    {
      "cell_type": "markdown",
      "source": [
        "### Random Forest Part IV a\n",
        "\n",
        "\n",
        "*   Criterion: Gini\n",
        "*   Estimators: Varied between 1-100\n",
        "\n",
        "\n"
      ],
      "metadata": {
        "id": "a7QEtWyBZDhO"
      }
    },
    {
      "cell_type": "code",
      "source": [
        "for i in range(10,110,10):\n",
        "  rfEstimators = RandomForestClassifier(n_estimators=i)\n",
        "  rfEstimators.fit(X_train, y_train)\n",
        "  y_pred_RF_Estimators = rfEstimators.predict(X_test)\n",
        "  print(\"ACCURACY OF THE MODEL for N_estimators =\",i,\":\",metrics.accuracy_score(y_test, y_pred_RF_Estimators))"
      ],
      "metadata": {
        "id": "_WEuCEo0ZTET",
        "colab": {
          "base_uri": "https://localhost:8080/"
        },
        "outputId": "b1de298d-3439-4d03-b40b-932cdbbcb4a0"
      },
      "execution_count": null,
      "outputs": [
        {
          "output_type": "stream",
          "name": "stdout",
          "text": [
            "ACCURACY OF THE MODEL for N_estimators = 10 : 0.7640974307640974\n",
            "ACCURACY OF THE MODEL for N_estimators = 20 : 0.8131464798131465\n",
            "ACCURACY OF THE MODEL for N_estimators = 30 : 0.8281614948281615\n",
            "ACCURACY OF THE MODEL for N_estimators = 40 : 0.8425091758425092\n",
            "ACCURACY OF THE MODEL for N_estimators = 50 : 0.8501835168501836\n",
            "ACCURACY OF THE MODEL for N_estimators = 60 : 0.8561895228561895\n",
            "ACCURACY OF THE MODEL for N_estimators = 70 : 0.8501835168501836\n",
            "ACCURACY OF THE MODEL for N_estimators = 80 : 0.8571905238571905\n",
            "ACCURACY OF THE MODEL for N_estimators = 90 : 0.8548548548548549\n",
            "ACCURACY OF THE MODEL for N_estimators = 100 : 0.8565231898565232\n"
          ]
        }
      ]
    },
    {
      "cell_type": "code",
      "source": [
        "for i in range(10,110,10):\n",
        "  rfStandardEstimators = RandomForestClassifier(n_estimators=i)\n",
        "  rfStandardEstimators.fit(X_trainStandard, y_trainStandard)\n",
        "  y_pred_RF_StandardEstimators = rfStandardEstimators.predict(X_testStandard)\n",
        "  print(\"ACCURACY OF THE MODEL for N_estimators =\",i,\":\",metrics.accuracy_score(y_testStandard, y_pred_RF_StandardEstimators))"
      ],
      "metadata": {
        "colab": {
          "base_uri": "https://localhost:8080/"
        },
        "id": "InxhB84Y6cgT",
        "outputId": "9cac9e4b-f152-45e4-8d3c-ff2ea3c0f098"
      },
      "execution_count": null,
      "outputs": [
        {
          "output_type": "stream",
          "name": "stdout",
          "text": [
            "ACCURACY OF THE MODEL for N_estimators = 10 : 0.7681014347681014\n",
            "ACCURACY OF THE MODEL for N_estimators = 20 : 0.8098098098098098\n",
            "ACCURACY OF THE MODEL for N_estimators = 30 : 0.8234901568234901\n",
            "ACCURACY OF THE MODEL for N_estimators = 40 : 0.8321654988321655\n",
            "ACCURACY OF THE MODEL for N_estimators = 50 : 0.8471805138471805\n",
            "ACCURACY OF THE MODEL for N_estimators = 60 : 0.8445111778445111\n",
            "ACCURACY OF THE MODEL for N_estimators = 70 : 0.8485151818485152\n",
            "ACCURACY OF THE MODEL for N_estimators = 80 : 0.8491825158491825\n",
            "ACCURACY OF THE MODEL for N_estimators = 90 : 0.8525191858525192\n",
            "ACCURACY OF THE MODEL for N_estimators = 100 : 0.8541875208541875\n"
          ]
        }
      ]
    },
    {
      "cell_type": "code",
      "source": [
        "for i in range(10,110,10):\n",
        "  rfL1Estimators = RandomForestClassifier(n_estimators=i)\n",
        "  rfL1Estimators.fit(X_trainL1, y_trainL1)\n",
        "  y_pred_RF_L1Estimators = rfL1Estimators.predict(X_testL1)\n",
        "  print(\"ACCURACY OF THE MODEL for N_estimators =\",i,\":\",metrics.accuracy_score(y_testL1, y_pred_RF_L1Estimators))"
      ],
      "metadata": {
        "id": "b8PsSm5XZSw5",
        "colab": {
          "base_uri": "https://localhost:8080/"
        },
        "outputId": "bb13554b-344c-4353-93f8-f7d26437ce23"
      },
      "execution_count": null,
      "outputs": [
        {
          "output_type": "stream",
          "name": "stdout",
          "text": [
            "ACCURACY OF THE MODEL for N_estimators = 10 : 0.7547547547547547\n",
            "ACCURACY OF THE MODEL for N_estimators = 20 : 0.8058058058058059\n",
            "ACCURACY OF THE MODEL for N_estimators = 30 : 0.8274941608274942\n",
            "ACCURACY OF THE MODEL for N_estimators = 40 : 0.8391725058391725\n",
            "ACCURACY OF THE MODEL for N_estimators = 50 : 0.8391725058391725\n",
            "ACCURACY OF THE MODEL for N_estimators = 60 : 0.8451785118451786\n",
            "ACCURACY OF THE MODEL for N_estimators = 70 : 0.8445111778445111\n",
            "ACCURACY OF THE MODEL for N_estimators = 80 : 0.8488488488488488\n",
            "ACCURACY OF THE MODEL for N_estimators = 90 : 0.8555221888555222\n",
            "ACCURACY OF THE MODEL for N_estimators = 100 : 0.8528528528528528\n"
          ]
        }
      ]
    },
    {
      "cell_type": "code",
      "source": [
        "for i in range(10,110,10):\n",
        "  rfL2Estimators = RandomForestClassifier(n_estimators=i)\n",
        "  rfL2Estimators.fit(X_trainL2, y_trainL2)\n",
        "  y_pred_RF_L2Estimators = rfL2Estimators.predict(X_testL2)\n",
        "  print(\"ACCURACY OF THE MODEL for N_estimators =\",i,\":\",metrics.accuracy_score(y_testL2, y_pred_RF_L2Estimators))"
      ],
      "metadata": {
        "id": "AFlBEyBKZSWu",
        "colab": {
          "base_uri": "https://localhost:8080/"
        },
        "outputId": "2a163672-82fb-4c88-a17b-a70085f0700c"
      },
      "execution_count": null,
      "outputs": [
        {
          "output_type": "stream",
          "name": "stdout",
          "text": [
            "ACCURACY OF THE MODEL for N_estimators = 10 : 0.7547547547547547\n",
            "ACCURACY OF THE MODEL for N_estimators = 20 : 0.8131464798131465\n",
            "ACCURACY OF THE MODEL for N_estimators = 30 : 0.8338338338338338\n",
            "ACCURACY OF THE MODEL for N_estimators = 40 : 0.8428428428428428\n",
            "ACCURACY OF THE MODEL for N_estimators = 50 : 0.8461795128461795\n",
            "ACCURACY OF THE MODEL for N_estimators = 60 : 0.8508508508508509\n",
            "ACCURACY OF THE MODEL for N_estimators = 70 : 0.8575241908575242\n",
            "ACCURACY OF THE MODEL for N_estimators = 80 : 0.8611945278611945\n",
            "ACCURACY OF THE MODEL for N_estimators = 90 : 0.8621955288621955\n",
            "ACCURACY OF THE MODEL for N_estimators = 100 : 0.8605271938605272\n"
          ]
        }
      ]
    },
    {
      "cell_type": "code",
      "source": [
        "for i in range(10,110,10):\n",
        "  rfMaxEstimators = RandomForestClassifier(n_estimators=i)\n",
        "  rfMaxEstimators.fit(X_trainMax, y_trainMax)\n",
        "  y_pred_RF_MaxEstimators = rfMaxEstimators.predict(X_testMax)\n",
        "  print(\"ACCURACY OF THE MODEL for N_estimators =\",i,\":\",metrics.accuracy_score(y_testMax, y_pred_RF_MaxEstimators))"
      ],
      "metadata": {
        "id": "HSwnVInnZSPB",
        "colab": {
          "base_uri": "https://localhost:8080/"
        },
        "outputId": "d1cdc90e-89d5-4c75-bd16-f9d063faab88"
      },
      "execution_count": null,
      "outputs": [
        {
          "output_type": "stream",
          "name": "stdout",
          "text": [
            "ACCURACY OF THE MODEL for N_estimators = 10 : 0.7590924257590924\n",
            "ACCURACY OF THE MODEL for N_estimators = 20 : 0.8158158158158159\n",
            "ACCURACY OF THE MODEL for N_estimators = 30 : 0.8435101768435102\n",
            "ACCURACY OF THE MODEL for N_estimators = 40 : 0.8408408408408409\n",
            "ACCURACY OF THE MODEL for N_estimators = 50 : 0.8505171838505172\n",
            "ACCURACY OF THE MODEL for N_estimators = 60 : 0.8561895228561895\n",
            "ACCURACY OF THE MODEL for N_estimators = 70 : 0.8561895228561895\n",
            "ACCURACY OF THE MODEL for N_estimators = 80 : 0.8598598598598599\n",
            "ACCURACY OF THE MODEL for N_estimators = 90 : 0.8641975308641975\n",
            "ACCURACY OF THE MODEL for N_estimators = 100 : 0.8605271938605272\n"
          ]
        }
      ]
    },
    {
      "cell_type": "markdown",
      "source": [
        "### Random Forest Part IV b\n",
        "* Criterion: Entropy\n",
        "* Estimators: Varied between 1-100"
      ],
      "metadata": {
        "id": "TUeDPL5sZlXa"
      }
    },
    {
      "cell_type": "code",
      "source": [
        "for i in range(10,110,10):\n",
        "  rfEntropyEstimators = RandomForestClassifier(n_estimators=i,criterion='entropy')\n",
        "  rfEntropyEstimators.fit(X_train, y_train)\n",
        "  y_pred_RF_EntropyEstimators = rfEntropyEstimators.predict(X_test)\n",
        "  print(\"ACCURACY OF THE MODEL for N_estimators =\",i,\":\",metrics.accuracy_score(y_test, y_pred_RF_EntropyEstimators))"
      ],
      "metadata": {
        "id": "HtUcsFuoZvO9",
        "colab": {
          "base_uri": "https://localhost:8080/"
        },
        "outputId": "3f51c769-9cf7-44d5-9f38-d8cbd827b822"
      },
      "execution_count": null,
      "outputs": [
        {
          "output_type": "stream",
          "name": "stdout",
          "text": [
            "ACCURACY OF THE MODEL for N_estimators = 10 : 0.7727727727727728\n",
            "ACCURACY OF THE MODEL for N_estimators = 20 : 0.8154821488154822\n",
            "ACCURACY OF THE MODEL for N_estimators = 30 : 0.8381715048381715\n",
            "ACCURACY OF THE MODEL for N_estimators = 40 : 0.8365031698365032\n",
            "ACCURACY OF THE MODEL for N_estimators = 50 : 0.8468468468468469\n",
            "ACCURACY OF THE MODEL for N_estimators = 60 : 0.8541875208541875\n",
            "ACCURACY OF THE MODEL for N_estimators = 70 : 0.8605271938605272\n",
            "ACCURACY OF THE MODEL for N_estimators = 80 : 0.8658658658658659\n",
            "ACCURACY OF THE MODEL for N_estimators = 90 : 0.8621955288621955\n",
            "ACCURACY OF THE MODEL for N_estimators = 100 : 0.8608608608608609\n"
          ]
        }
      ]
    },
    {
      "cell_type": "code",
      "source": [
        "for i in range(10,110,10):\n",
        "  rfStandardEntropyEstimators = RandomForestClassifier(n_estimators=i,criterion='entropy')\n",
        "  rfStandardEntropyEstimators.fit(X_trainStandard, y_trainStandard)\n",
        "  y_pred_RF_StandardEntropyEstimators = rfStandardEntropyEstimators.predict(X_testStandard)\n",
        "  print(\"ACCURACY OF THE MODEL for N_estimators =\",i,\":\",metrics.accuracy_score(y_testStandard, y_pred_RF_StandardEntropyEstimators))"
      ],
      "metadata": {
        "id": "kKujFAuNZvJX",
        "colab": {
          "base_uri": "https://localhost:8080/"
        },
        "outputId": "9944910e-34a2-45d7-f7a8-e386859d5110"
      },
      "execution_count": null,
      "outputs": [
        {
          "output_type": "stream",
          "name": "stdout",
          "text": [
            "ACCURACY OF THE MODEL for N_estimators = 10 : 0.7630964297630964\n",
            "ACCURACY OF THE MODEL for N_estimators = 20 : 0.8114781448114782\n",
            "ACCURACY OF THE MODEL for N_estimators = 30 : 0.8365031698365032\n",
            "ACCURACY OF THE MODEL for N_estimators = 40 : 0.8351685018351686\n",
            "ACCURACY OF THE MODEL for N_estimators = 50 : 0.8438438438438438\n",
            "ACCURACY OF THE MODEL for N_estimators = 60 : 0.8445111778445111\n",
            "ACCURACY OF THE MODEL for N_estimators = 70 : 0.8535201868535202\n",
            "ACCURACY OF THE MODEL for N_estimators = 80 : 0.8621955288621955\n",
            "ACCURACY OF THE MODEL for N_estimators = 90 : 0.8518518518518519\n",
            "ACCURACY OF THE MODEL for N_estimators = 100 : 0.8601935268601936\n"
          ]
        }
      ]
    },
    {
      "cell_type": "code",
      "source": [
        "for i in range(10,110,10):\n",
        "  rfL1EntropyEstimators = RandomForestClassifier(n_estimators=i,criterion='entropy')\n",
        "  rfL1EntropyEstimators.fit(X_trainL1, y_trainL1)\n",
        "  y_pred_RF_L1EntropyEstimators = rfL1EntropyEstimators.predict(X_testL1)\n",
        "  print(\"ACCURACY OF THE MODEL for N_estimators =\",i,\":\",metrics.accuracy_score(y_testL1, y_pred_RF_L1EntropyEstimators))"
      ],
      "metadata": {
        "id": "1hQdq6X8Zu8f",
        "colab": {
          "base_uri": "https://localhost:8080/"
        },
        "outputId": "808dfa8b-6577-4f68-bf0c-f500979a7659"
      },
      "execution_count": null,
      "outputs": [
        {
          "output_type": "stream",
          "name": "stdout",
          "text": [
            "ACCURACY OF THE MODEL for N_estimators = 10 : 0.7584250917584251\n",
            "ACCURACY OF THE MODEL for N_estimators = 20 : 0.8154821488154822\n",
            "ACCURACY OF THE MODEL for N_estimators = 30 : 0.8201534868201534\n",
            "ACCURACY OF THE MODEL for N_estimators = 40 : 0.8338338338338338\n",
            "ACCURACY OF THE MODEL for N_estimators = 50 : 0.8365031698365032\n",
            "ACCURACY OF THE MODEL for N_estimators = 60 : 0.8495161828495161\n",
            "ACCURACY OF THE MODEL for N_estimators = 70 : 0.8451785118451786\n",
            "ACCURACY OF THE MODEL for N_estimators = 80 : 0.8475141808475142\n",
            "ACCURACY OF THE MODEL for N_estimators = 90 : 0.8541875208541875\n",
            "ACCURACY OF THE MODEL for N_estimators = 100 : 0.8468468468468469\n"
          ]
        }
      ]
    },
    {
      "cell_type": "code",
      "source": [
        "for i in range(10,110,10):\n",
        "  rfL2EntropyEstimators = RandomForestClassifier(n_estimators=i,criterion='entropy')\n",
        "  rfL2EntropyEstimators.fit(X_trainL2, y_trainL2)\n",
        "  y_pred_RF_L2EntropyEstimators = rfL2EntropyEstimators.predict(X_testL2)\n",
        "  print(\"ACCURACY OF THE MODEL for N_estimators =\",i,\":\",metrics.accuracy_score(y_testL2, y_pred_RF_L2EntropyEstimators))"
      ],
      "metadata": {
        "id": "HJtGE90LZvDX",
        "colab": {
          "base_uri": "https://localhost:8080/"
        },
        "outputId": "2bd9b753-7e23-46f6-b09a-06d28de9adcf"
      },
      "execution_count": null,
      "outputs": [
        {
          "output_type": "stream",
          "name": "stdout",
          "text": [
            "ACCURACY OF THE MODEL for N_estimators = 10 : 0.7784451117784451\n",
            "ACCURACY OF THE MODEL for N_estimators = 20 : 0.8128128128128128\n",
            "ACCURACY OF THE MODEL for N_estimators = 30 : 0.8314981648314982\n",
            "ACCURACY OF THE MODEL for N_estimators = 40 : 0.8408408408408409\n",
            "ACCURACY OF THE MODEL for N_estimators = 50 : 0.8588588588588588\n",
            "ACCURACY OF THE MODEL for N_estimators = 60 : 0.8578578578578578\n",
            "ACCURACY OF THE MODEL for N_estimators = 70 : 0.8605271938605272\n",
            "ACCURACY OF THE MODEL for N_estimators = 80 : 0.8628628628628628\n",
            "ACCURACY OF THE MODEL for N_estimators = 90 : 0.8575241908575242\n",
            "ACCURACY OF THE MODEL for N_estimators = 100 : 0.8601935268601936\n"
          ]
        }
      ]
    },
    {
      "cell_type": "code",
      "source": [
        "for i in range(10,110,10):\n",
        "  rfMaxEntropyEstimators = RandomForestClassifier(n_estimators=i,criterion='entropy')\n",
        "  rfMaxEntropyEstimators.fit(X_trainMax, y_trainMax)\n",
        "  y_pred_RF_MaxEntropyEstimators = rfMaxEntropyEstimators.predict(X_testMax)\n",
        "  print(\"ACCURACY OF THE MODEL for N_estimators =\",i,\":\",metrics.accuracy_score(y_testMax, y_pred_RF_MaxEntropyEstimators))"
      ],
      "metadata": {
        "id": "M7gFRTL-Zu3a",
        "colab": {
          "base_uri": "https://localhost:8080/"
        },
        "outputId": "10a77fdd-d890-4916-e513-f6d09784d296"
      },
      "execution_count": null,
      "outputs": [
        {
          "output_type": "stream",
          "name": "stdout",
          "text": [
            "ACCURACY OF THE MODEL for N_estimators = 10 : 0.7704371037704371\n",
            "ACCURACY OF THE MODEL for N_estimators = 20 : 0.8138138138138138\n",
            "ACCURACY OF THE MODEL for N_estimators = 30 : 0.8321654988321655\n",
            "ACCURACY OF THE MODEL for N_estimators = 40 : 0.8475141808475142\n",
            "ACCURACY OF THE MODEL for N_estimators = 50 : 0.8535201868535202\n",
            "ACCURACY OF THE MODEL for N_estimators = 60 : 0.8621955288621955\n",
            "ACCURACY OF THE MODEL for N_estimators = 70 : 0.8645311978645311\n",
            "ACCURACY OF THE MODEL for N_estimators = 80 : 0.8631965298631965\n",
            "ACCURACY OF THE MODEL for N_estimators = 90 : 0.8588588588588588\n",
            "ACCURACY OF THE MODEL for N_estimators = 100 : 0.8631965298631965\n"
          ]
        }
      ]
    },
    {
      "cell_type": "markdown",
      "source": [
        "### Random Forest Part IV c\n",
        "* Criterion: Log Loss\n",
        "* Estimators: Varied between 1-100"
      ],
      "metadata": {
        "id": "wV37R9k8adYL"
      }
    },
    {
      "cell_type": "code",
      "source": [
        "for i in range(10,110,10):\n",
        "  rfLogLossEstimators = RandomForestClassifier(n_estimators=i,criterion='log_loss')\n",
        "  rfLogLossEstimators.fit(X_train, y_train)\n",
        "  y_pred_RF_LogLossEstimators = rfLogLossEstimators.predict(X_test)\n",
        "  print(\"ACCURACY OF THE MODEL for N_estimators =\",i,\":\",metrics.accuracy_score(y_test, y_pred_RF_LogLossEstimators))"
      ],
      "metadata": {
        "id": "Nt6hgjzJal2y",
        "colab": {
          "base_uri": "https://localhost:8080/"
        },
        "outputId": "abb33e8b-8fa8-419a-fbd8-44e64d106d46"
      },
      "execution_count": null,
      "outputs": [
        {
          "output_type": "stream",
          "name": "stdout",
          "text": [
            "ACCURACY OF THE MODEL for N_estimators = 10 : 0.7607607607607607\n",
            "ACCURACY OF THE MODEL for N_estimators = 20 : 0.8178178178178178\n",
            "ACCURACY OF THE MODEL for N_estimators = 30 : 0.8408408408408409\n",
            "ACCURACY OF THE MODEL for N_estimators = 40 : 0.8441775108441775\n",
            "ACCURACY OF THE MODEL for N_estimators = 50 : 0.8465131798465132\n",
            "ACCURACY OF THE MODEL for N_estimators = 60 : 0.8488488488488488\n",
            "ACCURACY OF THE MODEL for N_estimators = 70 : 0.8478478478478478\n",
            "ACCURACY OF THE MODEL for N_estimators = 80 : 0.8511845178511845\n",
            "ACCURACY OF THE MODEL for N_estimators = 90 : 0.8525191858525192\n",
            "ACCURACY OF THE MODEL for N_estimators = 100 : 0.8605271938605272\n"
          ]
        }
      ]
    },
    {
      "cell_type": "code",
      "source": [
        "for i in range(10,110,10):\n",
        "  rfStandardLogLossEstimators = RandomForestClassifier(n_estimators=i,criterion='log_loss')\n",
        "  rfStandardLogLossEstimators.fit(X_trainStandard, y_trainStandard)\n",
        "  y_pred_RF_StandardLogLossEstimators = rfStandardLogLossEstimators.predict(X_testStandard)\n",
        "  print(\"ACCURACY OF THE MODEL for N_estimators =\",i,\":\",metrics.accuracy_score(y_testStandard, y_pred_RF_StandardLogLossEstimators))"
      ],
      "metadata": {
        "id": "z8rUd2UMalqv",
        "colab": {
          "base_uri": "https://localhost:8080/"
        },
        "outputId": "cf30573c-69ee-4aeb-c1ee-71b08791b0dc"
      },
      "execution_count": null,
      "outputs": [
        {
          "output_type": "stream",
          "name": "stdout",
          "text": [
            "ACCURACY OF THE MODEL for N_estimators = 10 : 0.7734401067734401\n",
            "ACCURACY OF THE MODEL for N_estimators = 20 : 0.8051384718051384\n",
            "ACCURACY OF THE MODEL for N_estimators = 30 : 0.8284951618284951\n",
            "ACCURACY OF THE MODEL for N_estimators = 40 : 0.8298298298298298\n",
            "ACCURACY OF THE MODEL for N_estimators = 50 : 0.8478478478478478\n",
            "ACCURACY OF THE MODEL for N_estimators = 60 : 0.8425091758425092\n",
            "ACCURACY OF THE MODEL for N_estimators = 70 : 0.8578578578578578\n",
            "ACCURACY OF THE MODEL for N_estimators = 80 : 0.8571905238571905\n",
            "ACCURACY OF THE MODEL for N_estimators = 90 : 0.8531865198531865\n",
            "ACCURACY OF THE MODEL for N_estimators = 100 : 0.8575241908575242\n"
          ]
        }
      ]
    },
    {
      "cell_type": "code",
      "source": [
        "for i in range(10,110,10):\n",
        "  rfL1LogLossEstimators = RandomForestClassifier(n_estimators=i,criterion='log_loss')\n",
        "  rfL1LogLossEstimators.fit(X_trainL1, y_trainL1)\n",
        "  y_pred_RF_L1LogLossEstimators = rfL1LogLossEstimators.predict(X_testL1)\n",
        "  print(\"ACCURACY OF THE MODEL for N_estimators =\",i,\":\",metrics.accuracy_score(y_testL1, y_pred_RF_L1LogLossEstimators))"
      ],
      "metadata": {
        "id": "7TwpPZxValjX",
        "colab": {
          "base_uri": "https://localhost:8080/"
        },
        "outputId": "acebe691-2fbd-4431-bf56-64babe3c5541"
      },
      "execution_count": null,
      "outputs": [
        {
          "output_type": "stream",
          "name": "stdout",
          "text": [
            "ACCURACY OF THE MODEL for N_estimators = 10 : 0.7580914247580914\n",
            "ACCURACY OF THE MODEL for N_estimators = 20 : 0.8144811478144811\n",
            "ACCURACY OF THE MODEL for N_estimators = 30 : 0.8261594928261595\n",
            "ACCURACY OF THE MODEL for N_estimators = 40 : 0.8411745078411745\n",
            "ACCURACY OF THE MODEL for N_estimators = 50 : 0.8405071738405072\n",
            "ACCURACY OF THE MODEL for N_estimators = 60 : 0.8401735068401736\n",
            "ACCURACY OF THE MODEL for N_estimators = 70 : 0.8435101768435102\n",
            "ACCURACY OF THE MODEL for N_estimators = 80 : 0.8461795128461795\n",
            "ACCURACY OF THE MODEL for N_estimators = 90 : 0.8441775108441775\n",
            "ACCURACY OF THE MODEL for N_estimators = 100 : 0.8498498498498499\n"
          ]
        }
      ]
    },
    {
      "cell_type": "code",
      "source": [
        "for i in range(10,110,10):\n",
        "  rfL2LogLossEstimators = RandomForestClassifier(n_estimators=i,criterion='log_loss')\n",
        "  rfL2LogLossEstimators.fit(X_trainL2, y_trainL2)\n",
        "  y_pred_RF_L2LogLossEstimators = rfL2LogLossEstimators.predict(X_testL2)\n",
        "  print(\"ACCURACY OF THE MODEL for N_estimators =\",i,\":\",metrics.accuracy_score(y_testL2, y_pred_RF_L2LogLossEstimators))"
      ],
      "metadata": {
        "id": "a38tioBNaldN",
        "colab": {
          "base_uri": "https://localhost:8080/"
        },
        "outputId": "94ff132b-189d-4de4-c4df-24ec9bbdb917"
      },
      "execution_count": null,
      "outputs": [
        {
          "output_type": "stream",
          "name": "stdout",
          "text": [
            "ACCURACY OF THE MODEL for N_estimators = 10 : 0.7671004337671005\n",
            "ACCURACY OF THE MODEL for N_estimators = 20 : 0.8108108108108109\n",
            "ACCURACY OF THE MODEL for N_estimators = 30 : 0.8378378378378378\n",
            "ACCURACY OF THE MODEL for N_estimators = 40 : 0.8478478478478478\n",
            "ACCURACY OF THE MODEL for N_estimators = 50 : 0.8491825158491825\n",
            "ACCURACY OF THE MODEL for N_estimators = 60 : 0.8535201868535202\n",
            "ACCURACY OF THE MODEL for N_estimators = 70 : 0.8611945278611945\n",
            "ACCURACY OF THE MODEL for N_estimators = 80 : 0.8588588588588588\n",
            "ACCURACY OF THE MODEL for N_estimators = 90 : 0.8571905238571905\n",
            "ACCURACY OF THE MODEL for N_estimators = 100 : 0.8545211878545211\n"
          ]
        }
      ]
    },
    {
      "cell_type": "code",
      "source": [
        "for i in range(10,110,10):\n",
        "  rfMaxLogLossEstimators = RandomForestClassifier(n_estimators=i,criterion='log_loss')\n",
        "  rfMaxLogLossEstimators.fit(X_trainMax, y_trainMax)\n",
        "  y_pred_RF_MaxLogLossEstimators = rfMaxLogLossEstimators.predict(X_testMax)\n",
        "  print(\"ACCURACY OF THE MODEL for N_estimators =\",i,\":\",metrics.accuracy_score(y_testMax, y_pred_RF_MaxLogLossEstimators))"
      ],
      "metadata": {
        "id": "A8FxpVehalVt",
        "colab": {
          "base_uri": "https://localhost:8080/"
        },
        "outputId": "08ab6cc7-cc2f-4871-cbe5-470266162d6e"
      },
      "execution_count": null,
      "outputs": [
        {
          "output_type": "stream",
          "name": "stdout",
          "text": [
            "ACCURACY OF THE MODEL for N_estimators = 10 : 0.7747747747747747\n",
            "ACCURACY OF THE MODEL for N_estimators = 20 : 0.8254921588254922\n",
            "ACCURACY OF THE MODEL for N_estimators = 30 : 0.8411745078411745\n",
            "ACCURACY OF THE MODEL for N_estimators = 40 : 0.8478478478478478\n",
            "ACCURACY OF THE MODEL for N_estimators = 50 : 0.8511845178511845\n",
            "ACCURACY OF THE MODEL for N_estimators = 60 : 0.8528528528528528\n",
            "ACCURACY OF THE MODEL for N_estimators = 70 : 0.8641975308641975\n",
            "ACCURACY OF THE MODEL for N_estimators = 80 : 0.8658658658658659\n",
            "ACCURACY OF THE MODEL for N_estimators = 90 : 0.8638638638638638\n",
            "ACCURACY OF THE MODEL for N_estimators = 100 : 0.8645311978645311\n"
          ]
        }
      ]
    },
    {
      "cell_type": "code",
      "source": [
        "rfEstimatorsOpt = RandomForestClassifier(n_estimators=80)\n",
        "rfEstimatorsOpt.fit(X_train, y_train)\n",
        "y_pred_RF_EstimatorsOpt = rfEstimatorsOpt.predict(X_test)\n",
        "\n",
        "print (\"Classification Report:\\n\",classification_report(y_test, y_pred_RF_EstimatorsOpt))"
      ],
      "metadata": {
        "colab": {
          "base_uri": "https://localhost:8080/"
        },
        "id": "oOBhbvlmrAXw",
        "outputId": "1516faa1-7996-4d45-835b-31f8e1e42389"
      },
      "execution_count": null,
      "outputs": [
        {
          "output_type": "stream",
          "name": "stdout",
          "text": [
            "Classification Report:\n",
            "               precision    recall  f1-score   support\n",
            "\n",
            "           0       0.83      0.88      0.85       303\n",
            "           1       0.89      0.94      0.91       293\n",
            "           2       0.79      0.82      0.81       302\n",
            "           3       0.82      0.80      0.81       312\n",
            "           4       0.90      0.86      0.88       280\n",
            "           5       0.82      0.87      0.84       289\n",
            "           6       0.87      0.94      0.90       318\n",
            "           7       0.91      0.87      0.89       299\n",
            "           8       0.83      0.88      0.85       285\n",
            "           9       0.89      0.68      0.77       316\n",
            "\n",
            "    accuracy                           0.85      2997\n",
            "   macro avg       0.85      0.85      0.85      2997\n",
            "weighted avg       0.85      0.85      0.85      2997\n",
            "\n"
          ]
        }
      ]
    },
    {
      "cell_type": "code",
      "source": [
        "rfStandardEstimatorsOpt = RandomForestClassifier(n_estimators=100)\n",
        "rfStandardEstimatorsOpt.fit(X_trainStandard, y_trainStandard)\n",
        "y_pred_RF_StandardEstimatorsOpt = rfStandardEstimatorsOpt.predict(X_testStandard)\n",
        "\n",
        "print (\"Classification Report:\\n\",classification_report(y_testStandard, y_pred_RF_StandardEstimatorsOpt))\n",
        "print(\"Accuracy Score: \",accuracy_score(y_testStandard, y_pred_RF_StandardEstimatorsOpt))"
      ],
      "metadata": {
        "colab": {
          "base_uri": "https://localhost:8080/"
        },
        "id": "q8Rbqdc9tckb",
        "outputId": "54a56050-857f-4f2c-c728-70e550b6ea0e"
      },
      "execution_count": null,
      "outputs": [
        {
          "output_type": "stream",
          "name": "stdout",
          "text": [
            "Classification Report:\n",
            "               precision    recall  f1-score   support\n",
            "\n",
            "           0       0.88      0.91      0.90       285\n",
            "           1       0.90      0.95      0.93       297\n",
            "           2       0.75      0.83      0.79       299\n",
            "           3       0.83      0.79      0.81       289\n",
            "           4       0.92      0.84      0.88       331\n",
            "           5       0.86      0.86      0.86       306\n",
            "           6       0.88      0.94      0.91       284\n",
            "           7       0.87      0.89      0.88       309\n",
            "           8       0.81      0.84      0.83       305\n",
            "           9       0.86      0.71      0.78       292\n",
            "\n",
            "    accuracy                           0.86      2997\n",
            "   macro avg       0.86      0.86      0.86      2997\n",
            "weighted avg       0.86      0.86      0.86      2997\n",
            "\n",
            "Accuracy Score:  0.8568568568568569\n"
          ]
        }
      ]
    },
    {
      "cell_type": "code",
      "source": [
        "rfL1EstimatorsOpt = RandomForestClassifier(n_estimators=90)\n",
        "rfL1EstimatorsOpt.fit(X_trainL1, y_trainL1)\n",
        "y_pred_RF_L1EstimatorsOpt = rfL1EstimatorsOpt.predict(X_testL1)\n",
        "\n",
        "print (\"Classification Report:\\n\",classification_report(y_testL1, y_pred_RF_L1EstimatorsOpt))\n",
        "print(\"Accuracy Score: \",accuracy_score(y_testL1, y_pred_RF_L1EstimatorsOpt))"
      ],
      "metadata": {
        "colab": {
          "base_uri": "https://localhost:8080/"
        },
        "id": "2EBGUORLt_-8",
        "outputId": "d68be877-ebf2-493a-bd74-4b9127f5cc86"
      },
      "execution_count": null,
      "outputs": [
        {
          "output_type": "stream",
          "name": "stdout",
          "text": [
            "Classification Report:\n",
            "               precision    recall  f1-score   support\n",
            "\n",
            "           0       0.84      0.94      0.88       282\n",
            "           1       0.92      0.95      0.93       281\n",
            "           2       0.79      0.78      0.79       305\n",
            "           3       0.77      0.84      0.81       286\n",
            "           4       0.90      0.84      0.87       318\n",
            "           5       0.88      0.89      0.88       324\n",
            "           6       0.89      0.90      0.90       313\n",
            "           7       0.88      0.87      0.88       290\n",
            "           8       0.84      0.85      0.84       302\n",
            "           9       0.83      0.70      0.76       296\n",
            "\n",
            "    accuracy                           0.85      2997\n",
            "   macro avg       0.85      0.86      0.85      2997\n",
            "weighted avg       0.86      0.85      0.85      2997\n",
            "\n",
            "Accuracy Score:  0.8548548548548549\n"
          ]
        }
      ]
    },
    {
      "cell_type": "code",
      "source": [
        "rfL2EstimatorsOpt = RandomForestClassifier(n_estimators=90)\n",
        "rfL2EstimatorsOpt.fit(X_trainL2, y_trainL2)\n",
        "y_pred_RF_L2EstimatorsOpt = rfL2EstimatorsOpt.predict(X_testL2)\n",
        "\n",
        "print (\"Classification Report:\\n\",classification_report(y_testL2, y_pred_RF_L2EstimatorsOpt))\n",
        "print(\"Accuracy Score: \",accuracy_score(y_testL2, y_pred_RF_L2EstimatorsOpt))"
      ],
      "metadata": {
        "colab": {
          "base_uri": "https://localhost:8080/"
        },
        "id": "sOFM3vN9uAkn",
        "outputId": "f7f5157b-9b4b-42be-d110-884435169df7"
      },
      "execution_count": null,
      "outputs": [
        {
          "output_type": "stream",
          "name": "stdout",
          "text": [
            "Classification Report:\n",
            "               precision    recall  f1-score   support\n",
            "\n",
            "           0       0.84      0.85      0.85       274\n",
            "           1       0.91      0.96      0.93       312\n",
            "           2       0.78      0.85      0.81       291\n",
            "           3       0.85      0.81      0.83       299\n",
            "           4       0.89      0.83      0.86       306\n",
            "           5       0.85      0.88      0.86       294\n",
            "           6       0.87      0.95      0.90       319\n",
            "           7       0.93      0.89      0.91       299\n",
            "           8       0.88      0.89      0.88       306\n",
            "           9       0.86      0.72      0.79       297\n",
            "\n",
            "    accuracy                           0.86      2997\n",
            "   macro avg       0.87      0.86      0.86      2997\n",
            "weighted avg       0.87      0.86      0.86      2997\n",
            "\n",
            "Accuracy Score:  0.8648648648648649\n"
          ]
        }
      ]
    },
    {
      "cell_type": "code",
      "source": [
        "rfMaxEstimatorsOpt = RandomForestClassifier(n_estimators=90)\n",
        "rfMaxEstimatorsOpt.fit(X_trainMax, y_trainMax)\n",
        "y_pred_RF_MaxEstimatorsOpt = rfMaxEstimatorsOpt.predict(X_testMax)\n",
        "\n",
        "print (\"Classification Report:\\n\",classification_report(y_testMax, y_pred_RF_MaxEstimatorsOpt))\n",
        "print(\"Accuracy Score: \",accuracy_score(y_testMax, y_pred_RF_MaxEstimatorsOpt))"
      ],
      "metadata": {
        "colab": {
          "base_uri": "https://localhost:8080/"
        },
        "id": "cLYpnLW3uBaT",
        "outputId": "39de46df-6b6f-41f1-9abd-3526b72e4d59"
      },
      "execution_count": null,
      "outputs": [
        {
          "output_type": "stream",
          "name": "stdout",
          "text": [
            "Classification Report:\n",
            "               precision    recall  f1-score   support\n",
            "\n",
            "           0       0.88      0.87      0.88       334\n",
            "           1       0.92      0.96      0.94       305\n",
            "           2       0.78      0.83      0.80       290\n",
            "           3       0.81      0.88      0.84       282\n",
            "           4       0.92      0.85      0.88       298\n",
            "           5       0.84      0.88      0.86       307\n",
            "           6       0.90      0.91      0.91       282\n",
            "           7       0.90      0.88      0.89       299\n",
            "           8       0.85      0.88      0.87       298\n",
            "           9       0.85      0.72      0.78       302\n",
            "\n",
            "    accuracy                           0.87      2997\n",
            "   macro avg       0.87      0.87      0.87      2997\n",
            "weighted avg       0.87      0.87      0.87      2997\n",
            "\n",
            "Accuracy Score:  0.8658658658658659\n"
          ]
        }
      ]
    },
    {
      "cell_type": "code",
      "source": [
        "data.columns"
      ],
      "metadata": {
        "colab": {
          "base_uri": "https://localhost:8080/"
        },
        "id": "J7lBmFP-IfQc",
        "outputId": "05eaab1b-65d4-46b3-8f3c-83d5cd4889a6"
      },
      "execution_count": null,
      "outputs": [
        {
          "output_type": "execute_result",
          "data": {
            "text/plain": [
              "Index(['length', 'chroma_stft_mean', 'chroma_stft_var', 'rms_mean', 'rms_var',\n",
              "       'spectral_centroid_mean', 'spectral_centroid_var',\n",
              "       'spectral_bandwidth_mean', 'spectral_bandwidth_var', 'rolloff_mean',\n",
              "       'rolloff_var', 'zero_crossing_rate_mean', 'zero_crossing_rate_var',\n",
              "       'harmony_mean', 'harmony_var', 'perceptr_mean', 'perceptr_var', 'tempo',\n",
              "       'mfcc1_mean', 'mfcc1_var', 'mfcc2_mean', 'mfcc2_var', 'mfcc3_mean',\n",
              "       'mfcc3_var', 'mfcc4_mean', 'mfcc4_var', 'mfcc5_mean', 'mfcc5_var',\n",
              "       'mfcc6_mean', 'mfcc6_var', 'mfcc7_mean', 'mfcc7_var', 'mfcc8_mean',\n",
              "       'mfcc8_var', 'mfcc9_mean', 'mfcc9_var', 'mfcc10_mean', 'mfcc10_var',\n",
              "       'mfcc11_mean', 'mfcc11_var', 'mfcc12_mean', 'mfcc12_var', 'mfcc13_mean',\n",
              "       'mfcc13_var', 'mfcc14_mean', 'mfcc14_var', 'mfcc15_mean', 'mfcc15_var',\n",
              "       'mfcc16_mean', 'mfcc16_var', 'mfcc17_mean', 'mfcc17_var', 'mfcc18_mean',\n",
              "       'mfcc18_var', 'mfcc19_mean', 'mfcc19_var', 'mfcc20_mean', 'mfcc20_var',\n",
              "       'label'],\n",
              "      dtype='object')"
            ]
          },
          "metadata": {},
          "execution_count": 41
        }
      ]
    },
    {
      "cell_type": "code",
      "source": [
        "cols = list(data.columns)\n",
        "cols.pop()"
      ],
      "metadata": {
        "colab": {
          "base_uri": "https://localhost:8080/"
        },
        "id": "E3YWpZjlIcJk",
        "outputId": "12de24f7-04e4-44c7-a72a-090206f8bbe1"
      },
      "execution_count": null,
      "outputs": [
        {
          "output_type": "stream",
          "name": "stdout",
          "text": [
            "['length', 'chroma_stft_mean', 'chroma_stft_var', 'rms_mean', 'rms_var', 'spectral_centroid_mean', 'spectral_centroid_var', 'spectral_bandwidth_mean', 'spectral_bandwidth_var', 'rolloff_mean', 'rolloff_var', 'zero_crossing_rate_mean', 'zero_crossing_rate_var', 'harmony_mean', 'harmony_var', 'perceptr_mean', 'perceptr_var', 'tempo', 'mfcc1_mean', 'mfcc1_var', 'mfcc2_mean', 'mfcc2_var', 'mfcc3_mean', 'mfcc3_var', 'mfcc4_mean', 'mfcc4_var', 'mfcc5_mean', 'mfcc5_var', 'mfcc6_mean', 'mfcc6_var', 'mfcc7_mean', 'mfcc7_var', 'mfcc8_mean', 'mfcc8_var', 'mfcc9_mean', 'mfcc9_var', 'mfcc10_mean', 'mfcc10_var', 'mfcc11_mean', 'mfcc11_var', 'mfcc12_mean', 'mfcc12_var', 'mfcc13_mean', 'mfcc13_var', 'mfcc14_mean', 'mfcc14_var', 'mfcc15_mean', 'mfcc15_var', 'mfcc16_mean', 'mfcc16_var', 'mfcc17_mean', 'mfcc17_var', 'mfcc18_mean', 'mfcc18_var', 'mfcc19_mean', 'mfcc19_var', 'mfcc20_mean', 'mfcc20_var']\n"
          ]
        }
      ]
    },
    {
      "cell_type": "code",
      "source": [
        "feature_imp = pd.Series(rf.feature_importances_,index=cols).sort_values(ascending=False)\n",
        "feature_imp"
      ],
      "metadata": {
        "colab": {
          "base_uri": "https://localhost:8080/"
        },
        "id": "MxZhDdmVJiYu",
        "outputId": "76c5d788-e244-490f-bbae-e109f3880aaa"
      },
      "execution_count": null,
      "outputs": [
        {
          "output_type": "execute_result",
          "data": {
            "text/plain": [
              "perceptr_var               0.054707\n",
              "rms_var                    0.035656\n",
              "spectral_bandwidth_mean    0.034675\n",
              "chroma_stft_mean           0.033559\n",
              "mfcc4_mean                 0.031117\n",
              "mfcc1_mean                 0.028096\n",
              "rms_mean                   0.027698\n",
              "harmony_var                0.027248\n",
              "perceptr_mean              0.026496\n",
              "spectral_centroid_mean     0.025503\n",
              "rolloff_mean               0.024362\n",
              "mfcc1_var                  0.023735\n",
              "mfcc9_mean                 0.022511\n",
              "rolloff_var                0.022399\n",
              "spectral_centroid_var      0.020972\n",
              "mfcc6_mean                 0.020659\n",
              "harmony_mean               0.020491\n",
              "mfcc3_mean                 0.020028\n",
              "mfcc8_mean                 0.019309\n",
              "mfcc5_var                  0.018859\n",
              "zero_crossing_rate_mean    0.018759\n",
              "mfcc3_var                  0.018695\n",
              "chroma_stft_var            0.018207\n",
              "mfcc4_var                  0.017764\n",
              "mfcc11_mean                0.016587\n",
              "mfcc12_mean                0.016389\n",
              "mfcc7_mean                 0.016244\n",
              "mfcc2_mean                 0.015875\n",
              "mfcc6_var                  0.015838\n",
              "mfcc13_mean                0.015555\n",
              "mfcc5_mean                 0.014857\n",
              "mfcc17_mean                0.014242\n",
              "mfcc7_var                  0.014200\n",
              "spectral_bandwidth_var     0.013947\n",
              "mfcc15_mean                0.013398\n",
              "mfcc8_var                  0.012727\n",
              "mfcc10_var                 0.012009\n",
              "mfcc14_mean                0.011892\n",
              "mfcc10_mean                0.011677\n",
              "mfcc20_var                 0.011057\n",
              "tempo                      0.011034\n",
              "mfcc20_mean                0.010898\n",
              "mfcc2_var                  0.010840\n",
              "mfcc16_mean                0.010707\n",
              "mfcc19_var                 0.010199\n",
              "mfcc9_var                  0.010048\n",
              "zero_crossing_rate_var     0.009977\n",
              "mfcc18_mean                0.009920\n",
              "mfcc19_mean                0.009863\n",
              "mfcc18_var                 0.009319\n",
              "mfcc13_var                 0.009018\n",
              "mfcc12_var                 0.008966\n",
              "mfcc11_var                 0.008713\n",
              "mfcc16_var                 0.008651\n",
              "mfcc17_var                 0.008331\n",
              "mfcc14_var                 0.007904\n",
              "mfcc15_var                 0.007613\n",
              "length                     0.000000\n",
              "dtype: float64"
            ]
          },
          "metadata": {},
          "execution_count": 50
        }
      ]
    },
    {
      "cell_type": "code",
      "source": [
        "import matplotlib.pyplot as plt\n",
        "import seaborn as sns\n",
        "%matplotlib inline\n",
        "# Creating a bar plot\n",
        "sns.barplot(x=feature_imp[0:5], y=feature_imp.index[0:5])\n",
        "# Add labels to your graph\n",
        "plt.xlabel('Feature Importance Score')\n",
        "plt.ylabel('Features')\n",
        "plt.title(\"Visualizing Important Features\")\n",
        "plt.legend()\n",
        "plt.show()"
      ],
      "metadata": {
        "colab": {
          "base_uri": "https://localhost:8080/",
          "height": 313
        },
        "id": "X-7-P6FBJrQz",
        "outputId": "d2a12c8a-5185-4032-bc95-e01aa24f764f"
      },
      "execution_count": null,
      "outputs": [
        {
          "output_type": "stream",
          "name": "stderr",
          "text": [
            "WARNING:matplotlib.legend:No handles with labels found to put in legend.\n"
          ]
        },
        {
          "output_type": "display_data",
          "data": {
            "text/plain": [
              "<Figure size 432x288 with 1 Axes>"
            ],
            "image/png": "[encoded data removed]"
          },
          "metadata": {
            "needs_background": "light"
          }
        }
      ]
    },
    {
      "cell_type": "markdown",
      "source": [
        "## Results:\n",
        "\n",
        "![RF_Results.png](data:image/png;base64,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)\n",
        "\n",
        "As seen in the table abve, the minmax standardized dataset returned the best results in all cases. The best accuracy of **86.58%** was obtained for the minmax normalized dataset with **no of estimators = 80** and when the **criterion = Log loss**.\n",
        "\n",
        "Another observation to be made is that irrespective of the standardization, the results obtained for all 5 datasets were very similar. This is because Random Forest doesn't require data to be normalized and works well with a range of data. This can be specially useful when we have features that belong to different scales."
      ],
      "metadata": {
        "id": "gCP-L-PYkGo3"
      }
    },
    {
      "cell_type": "markdown",
      "source": [
        "# **Artificial Neural Networks**\n",
        "\n",
        "A neural network is a type of machine learning process, called deep learning, that uses interconnected nodes or neurons in a layered structure that resembles the human brain. It creates an adaptive system that computers use to learn from their mistakes and improve continuously. Thus, artificial neural networks attempt to solve complicated problems, like summarizing documents or recognizing faces, with greater accuracy.\n",
        "\n",
        "In this project, two ANNs are created. One without dropout layers, and one with dropout layers.\n",
        "\n",
        "The benefit of adding dropout layers is to avoid over-fitting. The dropout layer randomly \"drops\" or ignores neurons while training.\n",
        "\n",
        "The difference in results can be seen between the two neural networks.\n",
        "\n",
        "Hyper-parameters used are:\n",
        "1. **Optimizer**: Adam\n",
        "2. **Loss Function**: Sparse Categorical Crossentropy\n",
        "\n"
      ],
      "metadata": {
        "id": "WsFzO6X7CYJ9"
      }
    },
    {
      "cell_type": "markdown",
      "source": [
        "## ANN Part I"
      ],
      "metadata": {
        "id": "EqKwvxVZFMSC"
      }
    },
    {
      "cell_type": "code",
      "source": [
        "# Create ANN\n",
        "model = Sequential()\n",
        "model.add(layers.Dense(256, activation='relu', input_shape=(X_trainStandard.shape[1],)))\n",
        "model.add(layers.Dense(128, activation='relu'))\n",
        "model.add(layers.Dense(64, activation='relu'))\n",
        "model.add(layers.Dense(10, activation='softmax'))\n",
        "\n",
        "model.compile(optimizer='adam',loss='sparse_categorical_crossentropy',metrics=['accuracy'])"
      ],
      "metadata": {
        "id": "vpHOKuyd03Y5"
      },
      "execution_count": null,
      "outputs": []
    },
    {
      "cell_type": "code",
      "source": [
        "classifier = np.argmax(model.fit(X_train,y_train,epochs=100,batch_size=128),axis=-1)"
      ],
      "metadata": {
        "colab": {
          "base_uri": "https://localhost:8080/"
        },
        "id": "8Q4Gref306t9",
        "outputId": "362f2cb7-b6f7-4ac3-f3cc-f1e1eb319e73"
      },
      "execution_count": null,
      "outputs": [
        {
          "output_type": "stream",
          "name": "stdout",
          "text": [
            "Epoch 1/100\n",
            "55/55 [==============================] - 1s 5ms/step - loss: 21123.0059 - accuracy: 0.1737\n",
            "Epoch 2/100\n",
            "55/55 [==============================] - 0s 4ms/step - loss: 3815.6624 - accuracy: 0.2045\n",
            "Epoch 3/100\n",
            "55/55 [==============================] - 0s 5ms/step - loss: 3831.8135 - accuracy: 0.2164\n",
            "Epoch 4/100\n",
            "55/55 [==============================] - 0s 5ms/step - loss: 2791.8210 - accuracy: 0.2198\n",
            "Epoch 5/100\n",
            "55/55 [==============================] - 0s 5ms/step - loss: 3442.3667 - accuracy: 0.2162\n",
            "Epoch 6/100\n",
            "55/55 [==============================] - 0s 5ms/step - loss: 3776.0444 - accuracy: 0.2232\n",
            "Epoch 7/100\n",
            "55/55 [==============================] - 0s 5ms/step - loss: 3309.4744 - accuracy: 0.2185\n",
            "Epoch 8/100\n",
            "55/55 [==============================] - 0s 5ms/step - loss: 2369.2061 - accuracy: 0.2349\n",
            "Epoch 9/100\n",
            "55/55 [==============================] - 0s 5ms/step - loss: 2956.5916 - accuracy: 0.2111\n",
            "Epoch 10/100\n",
            "55/55 [==============================] - 0s 5ms/step - loss: 1603.6986 - accuracy: 0.2404\n",
            "Epoch 11/100\n",
            "55/55 [==============================] - 0s 5ms/step - loss: 1873.1312 - accuracy: 0.2302\n",
            "Epoch 12/100\n",
            "55/55 [==============================] - 0s 5ms/step - loss: 1704.0410 - accuracy: 0.2394\n",
            "Epoch 13/100\n",
            "55/55 [==============================] - 0s 5ms/step - loss: 1763.9253 - accuracy: 0.2076\n",
            "Epoch 14/100\n",
            "55/55 [==============================] - 0s 5ms/step - loss: 1170.7927 - accuracy: 0.2102\n",
            "Epoch 15/100\n",
            "55/55 [==============================] - 0s 5ms/step - loss: 1238.9364 - accuracy: 0.2108\n",
            "Epoch 16/100\n",
            "55/55 [==============================] - 0s 5ms/step - loss: 201.4704 - accuracy: 0.1481\n",
            "Epoch 17/100\n",
            "55/55 [==============================] - 0s 5ms/step - loss: 6.9785 - accuracy: 0.1260\n",
            "Epoch 18/100\n",
            "55/55 [==============================] - 0s 5ms/step - loss: 4.6310 - accuracy: 0.1226\n",
            "Epoch 19/100\n",
            "55/55 [==============================] - 0s 5ms/step - loss: 4.6672 - accuracy: 0.1205\n",
            "Epoch 20/100\n",
            "55/55 [==============================] - 0s 6ms/step - loss: 3.4003 - accuracy: 0.1204\n",
            "Epoch 21/100\n",
            "55/55 [==============================] - 0s 5ms/step - loss: 2.8790 - accuracy: 0.1211\n",
            "Epoch 22/100\n",
            "55/55 [==============================] - 0s 5ms/step - loss: 3.2153 - accuracy: 0.1191\n",
            "Epoch 23/100\n",
            "55/55 [==============================] - 0s 5ms/step - loss: 3.2135 - accuracy: 0.1224\n",
            "Epoch 24/100\n",
            "55/55 [==============================] - 0s 5ms/step - loss: 2.7694 - accuracy: 0.1266\n",
            "Epoch 25/100\n",
            "55/55 [==============================] - 0s 5ms/step - loss: 2.9526 - accuracy: 0.1266\n",
            "Epoch 26/100\n",
            "55/55 [==============================] - 0s 4ms/step - loss: 2.9663 - accuracy: 0.1257\n",
            "Epoch 27/100\n",
            "55/55 [==============================] - 0s 5ms/step - loss: 2.9768 - accuracy: 0.1216\n",
            "Epoch 28/100\n",
            "55/55 [==============================] - 0s 4ms/step - loss: 2.6666 - accuracy: 0.1218\n",
            "Epoch 29/100\n",
            "55/55 [==============================] - 0s 5ms/step - loss: 2.7302 - accuracy: 0.1237\n",
            "Epoch 30/100\n",
            "55/55 [==============================] - 0s 5ms/step - loss: 2.5020 - accuracy: 0.1246\n",
            "Epoch 31/100\n",
            "55/55 [==============================] - 0s 5ms/step - loss: 2.5951 - accuracy: 0.1201\n",
            "Epoch 32/100\n",
            "55/55 [==============================] - 0s 4ms/step - loss: 2.8498 - accuracy: 0.1194\n",
            "Epoch 33/100\n",
            "55/55 [==============================] - 0s 5ms/step - loss: 2.7183 - accuracy: 0.1184\n",
            "Epoch 34/100\n",
            "55/55 [==============================] - 0s 4ms/step - loss: 2.4757 - accuracy: 0.1201\n",
            "Epoch 35/100\n",
            "55/55 [==============================] - 0s 5ms/step - loss: 2.6232 - accuracy: 0.1184\n",
            "Epoch 36/100\n",
            "55/55 [==============================] - 0s 5ms/step - loss: 2.8389 - accuracy: 0.1187\n",
            "Epoch 37/100\n",
            "55/55 [==============================] - 0s 5ms/step - loss: 2.3964 - accuracy: 0.1200\n",
            "Epoch 38/100\n",
            "55/55 [==============================] - 0s 5ms/step - loss: 2.5612 - accuracy: 0.1191\n",
            "Epoch 39/100\n",
            "55/55 [==============================] - 0s 5ms/step - loss: 2.6744 - accuracy: 0.1177\n",
            "Epoch 40/100\n",
            "55/55 [==============================] - 0s 5ms/step - loss: 2.9550 - accuracy: 0.1180\n",
            "Epoch 41/100\n",
            "55/55 [==============================] - 0s 4ms/step - loss: 2.6370 - accuracy: 0.1180\n",
            "Epoch 42/100\n",
            "55/55 [==============================] - 0s 5ms/step - loss: 2.4152 - accuracy: 0.1175\n",
            "Epoch 43/100\n",
            "55/55 [==============================] - 0s 5ms/step - loss: 2.4983 - accuracy: 0.1181\n",
            "Epoch 44/100\n",
            "55/55 [==============================] - 0s 5ms/step - loss: 2.7255 - accuracy: 0.1170\n",
            "Epoch 45/100\n",
            "55/55 [==============================] - 0s 5ms/step - loss: 2.5220 - accuracy: 0.1177\n",
            "Epoch 46/100\n",
            "55/55 [==============================] - 0s 6ms/step - loss: 2.4497 - accuracy: 0.1190\n",
            "Epoch 47/100\n",
            "55/55 [==============================] - 0s 5ms/step - loss: 2.5422 - accuracy: 0.1197\n",
            "Epoch 48/100\n",
            "55/55 [==============================] - 0s 5ms/step - loss: 2.6353 - accuracy: 0.1231\n",
            "Epoch 49/100\n",
            "55/55 [==============================] - 0s 5ms/step - loss: 2.4538 - accuracy: 0.1187\n",
            "Epoch 50/100\n",
            "55/55 [==============================] - 0s 5ms/step - loss: 2.7170 - accuracy: 0.1185\n",
            "Epoch 51/100\n",
            "55/55 [==============================] - 0s 5ms/step - loss: 2.5471 - accuracy: 0.1178\n",
            "Epoch 52/100\n",
            "55/55 [==============================] - 0s 5ms/step - loss: 2.4900 - accuracy: 0.1205\n",
            "Epoch 53/100\n",
            "55/55 [==============================] - 0s 5ms/step - loss: 2.6045 - accuracy: 0.1184\n",
            "Epoch 54/100\n",
            "55/55 [==============================] - 0s 5ms/step - loss: 2.5446 - accuracy: 0.1177\n",
            "Epoch 55/100\n",
            "55/55 [==============================] - 0s 5ms/step - loss: 2.6789 - accuracy: 0.1195\n",
            "Epoch 56/100\n",
            "55/55 [==============================] - 0s 5ms/step - loss: 2.8383 - accuracy: 0.1214\n",
            "Epoch 57/100\n",
            "55/55 [==============================] - 0s 5ms/step - loss: 2.5096 - accuracy: 0.1217\n",
            "Epoch 58/100\n",
            "55/55 [==============================] - 0s 5ms/step - loss: 2.8712 - accuracy: 0.1174\n",
            "Epoch 59/100\n",
            "55/55 [==============================] - 0s 5ms/step - loss: 2.5809 - accuracy: 0.1184\n",
            "Epoch 60/100\n",
            "55/55 [==============================] - 0s 5ms/step - loss: 2.4551 - accuracy: 0.1168\n",
            "Epoch 61/100\n",
            "55/55 [==============================] - 0s 5ms/step - loss: 2.4835 - accuracy: 0.1181\n",
            "Epoch 62/100\n",
            "55/55 [==============================] - 0s 5ms/step - loss: 2.5080 - accuracy: 0.1201\n",
            "Epoch 63/100\n",
            "55/55 [==============================] - 0s 4ms/step - loss: 2.5408 - accuracy: 0.1177\n",
            "Epoch 64/100\n",
            "55/55 [==============================] - 0s 5ms/step - loss: 2.5399 - accuracy: 0.1207\n",
            "Epoch 65/100\n",
            "55/55 [==============================] - 0s 5ms/step - loss: 2.4068 - accuracy: 0.1228\n",
            "Epoch 66/100\n",
            "55/55 [==============================] - 0s 5ms/step - loss: 2.4755 - accuracy: 0.1231\n",
            "Epoch 67/100\n",
            "55/55 [==============================] - 0s 5ms/step - loss: 2.5291 - accuracy: 0.1160\n",
            "Epoch 68/100\n",
            "55/55 [==============================] - 0s 5ms/step - loss: 2.4570 - accuracy: 0.1164\n",
            "Epoch 69/100\n",
            "55/55 [==============================] - 0s 5ms/step - loss: 2.5925 - accuracy: 0.1167\n",
            "Epoch 70/100\n",
            "55/55 [==============================] - 0s 5ms/step - loss: 2.3867 - accuracy: 0.1213\n",
            "Epoch 71/100\n",
            "55/55 [==============================] - 0s 5ms/step - loss: 2.5253 - accuracy: 0.1251\n",
            "Epoch 72/100\n",
            "55/55 [==============================] - 0s 5ms/step - loss: 2.4435 - accuracy: 0.1170\n",
            "Epoch 73/100\n",
            "55/55 [==============================] - 0s 5ms/step - loss: 2.6719 - accuracy: 0.1173\n",
            "Epoch 74/100\n",
            "55/55 [==============================] - 0s 5ms/step - loss: 2.4300 - accuracy: 0.1154\n",
            "Epoch 75/100\n",
            "55/55 [==============================] - 0s 5ms/step - loss: 2.6453 - accuracy: 0.1177\n",
            "Epoch 76/100\n",
            "55/55 [==============================] - 0s 5ms/step - loss: 2.3939 - accuracy: 0.1127\n",
            "Epoch 77/100\n",
            "55/55 [==============================] - 0s 5ms/step - loss: 2.6414 - accuracy: 0.1224\n",
            "Epoch 78/100\n",
            "55/55 [==============================] - 0s 4ms/step - loss: 2.3554 - accuracy: 0.1251\n",
            "Epoch 79/100\n",
            "55/55 [==============================] - 0s 5ms/step - loss: 2.3653 - accuracy: 0.1246\n",
            "Epoch 80/100\n",
            "55/55 [==============================] - 0s 5ms/step - loss: 2.4053 - accuracy: 0.1214\n",
            "Epoch 81/100\n",
            "55/55 [==============================] - 0s 5ms/step - loss: 2.5810 - accuracy: 0.1207\n",
            "Epoch 82/100\n",
            "55/55 [==============================] - 0s 5ms/step - loss: 2.3888 - accuracy: 0.1236\n",
            "Epoch 83/100\n",
            "55/55 [==============================] - 0s 5ms/step - loss: 2.3694 - accuracy: 0.1244\n",
            "Epoch 84/100\n",
            "55/55 [==============================] - 0s 5ms/step - loss: 2.4320 - accuracy: 0.1216\n",
            "Epoch 85/100\n",
            "55/55 [==============================] - 0s 5ms/step - loss: 2.3909 - accuracy: 0.1216\n",
            "Epoch 86/100\n",
            "55/55 [==============================] - 0s 5ms/step - loss: 2.3871 - accuracy: 0.1246\n",
            "Epoch 87/100\n",
            "55/55 [==============================] - 0s 5ms/step - loss: 2.4382 - accuracy: 0.1243\n",
            "Epoch 88/100\n",
            "55/55 [==============================] - 0s 5ms/step - loss: 2.4275 - accuracy: 0.1197\n",
            "Epoch 89/100\n",
            "55/55 [==============================] - 0s 5ms/step - loss: 2.6008 - accuracy: 0.1221\n",
            "Epoch 90/100\n",
            "55/55 [==============================] - 0s 5ms/step - loss: 2.3301 - accuracy: 0.1187\n",
            "Epoch 91/100\n",
            "55/55 [==============================] - 0s 5ms/step - loss: 2.3162 - accuracy: 0.1257\n",
            "Epoch 92/100\n",
            "55/55 [==============================] - 0s 5ms/step - loss: 2.4813 - accuracy: 0.1217\n",
            "Epoch 93/100\n",
            "55/55 [==============================] - 0s 5ms/step - loss: 2.3666 - accuracy: 0.1118\n",
            "Epoch 94/100\n",
            "55/55 [==============================] - 0s 5ms/step - loss: 2.3224 - accuracy: 0.1124\n",
            "Epoch 95/100\n",
            "55/55 [==============================] - 0s 5ms/step - loss: 2.3070 - accuracy: 0.1131\n",
            "Epoch 96/100\n",
            "55/55 [==============================] - 0s 5ms/step - loss: 2.3364 - accuracy: 0.1165\n",
            "Epoch 97/100\n",
            "55/55 [==============================] - 0s 5ms/step - loss: 2.3936 - accuracy: 0.1258\n",
            "Epoch 98/100\n",
            "55/55 [==============================] - 0s 5ms/step - loss: 2.3212 - accuracy: 0.1224\n",
            "Epoch 99/100\n",
            "55/55 [==============================] - 0s 5ms/step - loss: 2.2939 - accuracy: 0.1128\n",
            "Epoch 100/100\n",
            "55/55 [==============================] - 0s 5ms/step - loss: 2.3230 - accuracy: 0.1207\n"
          ]
        }
      ]
    },
    {
      "cell_type": "code",
      "source": [
        "classifierStandard = np.argmax(model.fit(X_trainStandard,y_trainStandard,epochs=100,batch_size=128),axis=-1)"
      ],
      "metadata": {
        "colab": {
          "base_uri": "https://localhost:8080/"
        },
        "id": "8Gq2xwtTmL4t",
        "outputId": "72fe00c2-2ac5-4df8-9050-598dfa370133"
      },
      "execution_count": null,
      "outputs": [
        {
          "output_type": "stream",
          "name": "stdout",
          "text": [
            "Epoch 1/100\n",
            "55/55 [==============================] - 1s 5ms/step - loss: 1.3487 - accuracy: 0.5197\n",
            "Epoch 2/100\n",
            "55/55 [==============================] - 0s 5ms/step - loss: 0.8411 - accuracy: 0.7058\n",
            "Epoch 3/100\n",
            "55/55 [==============================] - 0s 5ms/step - loss: 0.6841 - accuracy: 0.7669\n",
            "Epoch 4/100\n",
            "55/55 [==============================] - 0s 5ms/step - loss: 0.5901 - accuracy: 0.7991\n",
            "Epoch 5/100\n",
            "55/55 [==============================] - 0s 5ms/step - loss: 0.5190 - accuracy: 0.8224\n",
            "Epoch 6/100\n",
            "55/55 [==============================] - 0s 4ms/step - loss: 0.4633 - accuracy: 0.8461\n",
            "Epoch 7/100\n",
            "55/55 [==============================] - 0s 5ms/step - loss: 0.4190 - accuracy: 0.8630\n",
            "Epoch 8/100\n",
            "55/55 [==============================] - 0s 5ms/step - loss: 0.3822 - accuracy: 0.8769\n",
            "Epoch 9/100\n",
            "55/55 [==============================] - 0s 5ms/step - loss: 0.3461 - accuracy: 0.8903\n",
            "Epoch 10/100\n",
            "55/55 [==============================] - 0s 5ms/step - loss: 0.3250 - accuracy: 0.8979\n",
            "Epoch 11/100\n",
            "55/55 [==============================] - 0s 5ms/step - loss: 0.2970 - accuracy: 0.9069\n",
            "Epoch 12/100\n",
            "55/55 [==============================] - 0s 5ms/step - loss: 0.2723 - accuracy: 0.9155\n",
            "Epoch 13/100\n",
            "55/55 [==============================] - 0s 5ms/step - loss: 0.2554 - accuracy: 0.9202\n",
            "Epoch 14/100\n",
            "55/55 [==============================] - 0s 5ms/step - loss: 0.2328 - accuracy: 0.9321\n",
            "Epoch 15/100\n",
            "55/55 [==============================] - 0s 4ms/step - loss: 0.2139 - accuracy: 0.9388\n",
            "Epoch 16/100\n",
            "55/55 [==============================] - 0s 4ms/step - loss: 0.1990 - accuracy: 0.9425\n",
            "Epoch 17/100\n",
            "55/55 [==============================] - 0s 5ms/step - loss: 0.1919 - accuracy: 0.9448\n",
            "Epoch 18/100\n",
            "55/55 [==============================] - 0s 5ms/step - loss: 0.1762 - accuracy: 0.9524\n",
            "Epoch 19/100\n",
            "55/55 [==============================] - 0s 5ms/step - loss: 0.1653 - accuracy: 0.9548\n",
            "Epoch 20/100\n",
            "55/55 [==============================] - 0s 5ms/step - loss: 0.1500 - accuracy: 0.9627\n",
            "Epoch 21/100\n",
            "55/55 [==============================] - 0s 5ms/step - loss: 0.1413 - accuracy: 0.9638\n",
            "Epoch 22/100\n",
            "55/55 [==============================] - 0s 5ms/step - loss: 0.1321 - accuracy: 0.9677\n",
            "Epoch 23/100\n",
            "55/55 [==============================] - 0s 5ms/step - loss: 0.1207 - accuracy: 0.9718\n",
            "Epoch 24/100\n",
            "55/55 [==============================] - 0s 5ms/step - loss: 0.1162 - accuracy: 0.9717\n",
            "Epoch 25/100\n",
            "55/55 [==============================] - 0s 4ms/step - loss: 0.1062 - accuracy: 0.9778\n",
            "Epoch 26/100\n",
            "55/55 [==============================] - 0s 5ms/step - loss: 0.0996 - accuracy: 0.9781\n",
            "Epoch 27/100\n",
            "55/55 [==============================] - 0s 5ms/step - loss: 0.0946 - accuracy: 0.9793\n",
            "Epoch 28/100\n",
            "55/55 [==============================] - 0s 5ms/step - loss: 0.0864 - accuracy: 0.9827\n",
            "Epoch 29/100\n",
            "55/55 [==============================] - 0s 5ms/step - loss: 0.0805 - accuracy: 0.9834\n",
            "Epoch 30/100\n",
            "55/55 [==============================] - 0s 5ms/step - loss: 0.0757 - accuracy: 0.9853\n",
            "Epoch 31/100\n",
            "55/55 [==============================] - 0s 5ms/step - loss: 0.0706 - accuracy: 0.9871\n",
            "Epoch 32/100\n",
            "55/55 [==============================] - 0s 5ms/step - loss: 0.0631 - accuracy: 0.9897\n",
            "Epoch 33/100\n",
            "55/55 [==============================] - 0s 5ms/step - loss: 0.0600 - accuracy: 0.9898\n",
            "Epoch 34/100\n",
            "55/55 [==============================] - 0s 4ms/step - loss: 0.0580 - accuracy: 0.9906\n",
            "Epoch 35/100\n",
            "55/55 [==============================] - 0s 5ms/step - loss: 0.0532 - accuracy: 0.9934\n",
            "Epoch 36/100\n",
            "55/55 [==============================] - 0s 6ms/step - loss: 0.0503 - accuracy: 0.9923\n",
            "Epoch 37/100\n",
            "55/55 [==============================] - 0s 5ms/step - loss: 0.0451 - accuracy: 0.9939\n",
            "Epoch 38/100\n",
            "55/55 [==============================] - 0s 5ms/step - loss: 0.0427 - accuracy: 0.9947\n",
            "Epoch 39/100\n",
            "55/55 [==============================] - 0s 5ms/step - loss: 0.0391 - accuracy: 0.9950\n",
            "Epoch 40/100\n",
            "55/55 [==============================] - 0s 5ms/step - loss: 0.0353 - accuracy: 0.9966\n",
            "Epoch 41/100\n",
            "55/55 [==============================] - 0s 4ms/step - loss: 0.0333 - accuracy: 0.9964\n",
            "Epoch 42/100\n",
            "55/55 [==============================] - 0s 5ms/step - loss: 0.0316 - accuracy: 0.9974\n",
            "Epoch 43/100\n",
            "55/55 [==============================] - 0s 5ms/step - loss: 0.0289 - accuracy: 0.9966\n",
            "Epoch 44/100\n",
            "55/55 [==============================] - 0s 5ms/step - loss: 0.0269 - accuracy: 0.9979\n",
            "Epoch 45/100\n",
            "55/55 [==============================] - 0s 4ms/step - loss: 0.0274 - accuracy: 0.9969\n",
            "Epoch 46/100\n",
            "55/55 [==============================] - 0s 5ms/step - loss: 0.0241 - accuracy: 0.9987\n",
            "Epoch 47/100\n",
            "55/55 [==============================] - 0s 5ms/step - loss: 0.0230 - accuracy: 0.9986\n",
            "Epoch 48/100\n",
            "55/55 [==============================] - 0s 5ms/step - loss: 0.0198 - accuracy: 0.9989\n",
            "Epoch 49/100\n",
            "55/55 [==============================] - 0s 5ms/step - loss: 0.0189 - accuracy: 0.9987\n",
            "Epoch 50/100\n",
            "55/55 [==============================] - 0s 5ms/step - loss: 0.0184 - accuracy: 0.9983\n",
            "Epoch 51/100\n",
            "55/55 [==============================] - 0s 5ms/step - loss: 0.0177 - accuracy: 0.9987\n",
            "Epoch 52/100\n",
            "55/55 [==============================] - 0s 5ms/step - loss: 0.0160 - accuracy: 0.9990\n",
            "Epoch 53/100\n",
            "55/55 [==============================] - 0s 5ms/step - loss: 0.0155 - accuracy: 0.9989\n",
            "Epoch 54/100\n",
            "55/55 [==============================] - 0s 5ms/step - loss: 0.0146 - accuracy: 0.9987\n",
            "Epoch 55/100\n",
            "55/55 [==============================] - 0s 5ms/step - loss: 0.0145 - accuracy: 0.9984\n",
            "Epoch 56/100\n",
            "55/55 [==============================] - 0s 5ms/step - loss: 0.0129 - accuracy: 0.9991\n",
            "Epoch 57/100\n",
            "55/55 [==============================] - 0s 5ms/step - loss: 0.0130 - accuracy: 0.9990\n",
            "Epoch 58/100\n",
            "55/55 [==============================] - 0s 5ms/step - loss: 0.0118 - accuracy: 0.9993\n",
            "Epoch 59/100\n",
            "55/55 [==============================] - 0s 5ms/step - loss: 0.0120 - accuracy: 0.9986\n",
            "Epoch 60/100\n",
            "55/55 [==============================] - 0s 5ms/step - loss: 0.0099 - accuracy: 0.9991\n",
            "Epoch 61/100\n",
            "55/55 [==============================] - 0s 4ms/step - loss: 0.0128 - accuracy: 0.9977\n",
            "Epoch 62/100\n",
            "55/55 [==============================] - 0s 5ms/step - loss: 0.0101 - accuracy: 0.9991\n",
            "Epoch 63/100\n",
            "55/55 [==============================] - 0s 4ms/step - loss: 0.0105 - accuracy: 0.9990\n",
            "Epoch 64/100\n",
            "55/55 [==============================] - 0s 5ms/step - loss: 0.0105 - accuracy: 0.9984\n",
            "Epoch 65/100\n",
            "55/55 [==============================] - 0s 5ms/step - loss: 0.0096 - accuracy: 0.9991\n",
            "Epoch 66/100\n",
            "55/55 [==============================] - 0s 5ms/step - loss: 0.0073 - accuracy: 0.9991\n",
            "Epoch 67/100\n",
            "55/55 [==============================] - 0s 5ms/step - loss: 0.0070 - accuracy: 0.9993\n",
            "Epoch 68/100\n",
            "55/55 [==============================] - 0s 5ms/step - loss: 0.0074 - accuracy: 0.9987\n",
            "Epoch 69/100\n",
            "55/55 [==============================] - 0s 5ms/step - loss: 0.0066 - accuracy: 0.9993\n",
            "Epoch 70/100\n",
            "55/55 [==============================] - 0s 5ms/step - loss: 0.0175 - accuracy: 0.9959\n",
            "Epoch 71/100\n",
            "55/55 [==============================] - 0s 4ms/step - loss: 0.0133 - accuracy: 0.9973\n",
            "Epoch 72/100\n",
            "55/55 [==============================] - 0s 5ms/step - loss: 0.0106 - accuracy: 0.9984\n",
            "Epoch 73/100\n",
            "55/55 [==============================] - 0s 5ms/step - loss: 0.0068 - accuracy: 0.9991\n",
            "Epoch 74/100\n",
            "55/55 [==============================] - 0s 5ms/step - loss: 0.0053 - accuracy: 0.9996\n",
            "Epoch 75/100\n",
            "55/55 [==============================] - 0s 5ms/step - loss: 0.0055 - accuracy: 0.9994\n",
            "Epoch 76/100\n",
            "55/55 [==============================] - 0s 5ms/step - loss: 0.0048 - accuracy: 0.9991\n",
            "Epoch 77/100\n",
            "55/55 [==============================] - 0s 5ms/step - loss: 0.0055 - accuracy: 0.9990\n",
            "Epoch 78/100\n",
            "55/55 [==============================] - 0s 5ms/step - loss: 0.0057 - accuracy: 0.9991\n",
            "Epoch 79/100\n",
            "55/55 [==============================] - 0s 5ms/step - loss: 0.0075 - accuracy: 0.9983\n",
            "Epoch 80/100\n",
            "55/55 [==============================] - 0s 4ms/step - loss: 0.0046 - accuracy: 0.9996\n",
            "Epoch 81/100\n",
            "55/55 [==============================] - 0s 5ms/step - loss: 0.0040 - accuracy: 0.9996\n",
            "Epoch 82/100\n",
            "55/55 [==============================] - 0s 5ms/step - loss: 0.0061 - accuracy: 0.9987\n",
            "Epoch 83/100\n",
            "55/55 [==============================] - 0s 5ms/step - loss: 0.0057 - accuracy: 0.9990\n",
            "Epoch 84/100\n",
            "55/55 [==============================] - 0s 5ms/step - loss: 0.0039 - accuracy: 0.9991\n",
            "Epoch 85/100\n",
            "55/55 [==============================] - 0s 5ms/step - loss: 0.0032 - accuracy: 0.9997\n",
            "Epoch 86/100\n",
            "55/55 [==============================] - 0s 5ms/step - loss: 0.0037 - accuracy: 0.9997\n",
            "Epoch 87/100\n",
            "55/55 [==============================] - 0s 5ms/step - loss: 0.0051 - accuracy: 0.9991\n",
            "Epoch 88/100\n",
            "55/55 [==============================] - 0s 4ms/step - loss: 0.0060 - accuracy: 0.9989\n",
            "Epoch 89/100\n",
            "55/55 [==============================] - 0s 5ms/step - loss: 0.0054 - accuracy: 0.9989\n",
            "Epoch 90/100\n",
            "55/55 [==============================] - 0s 5ms/step - loss: 0.0083 - accuracy: 0.9977\n",
            "Epoch 91/100\n",
            "55/55 [==============================] - 0s 5ms/step - loss: 0.0041 - accuracy: 0.9991\n",
            "Epoch 92/100\n",
            "55/55 [==============================] - 0s 5ms/step - loss: 0.0052 - accuracy: 0.9989\n",
            "Epoch 93/100\n",
            "55/55 [==============================] - 0s 5ms/step - loss: 0.0031 - accuracy: 0.9993\n",
            "Epoch 94/100\n",
            "55/55 [==============================] - 0s 5ms/step - loss: 0.0048 - accuracy: 0.9987\n",
            "Epoch 95/100\n",
            "55/55 [==============================] - 0s 4ms/step - loss: 0.0056 - accuracy: 0.9986\n",
            "Epoch 96/100\n",
            "55/55 [==============================] - 0s 5ms/step - loss: 0.0049 - accuracy: 0.9990\n",
            "Epoch 97/100\n",
            "55/55 [==============================] - 0s 5ms/step - loss: 0.0727 - accuracy: 0.9800\n",
            "Epoch 98/100\n",
            "55/55 [==============================] - 0s 5ms/step - loss: 0.0956 - accuracy: 0.9678\n",
            "Epoch 99/100\n",
            "55/55 [==============================] - 0s 4ms/step - loss: 0.0424 - accuracy: 0.9874\n",
            "Epoch 100/100\n",
            "55/55 [==============================] - 0s 5ms/step - loss: 0.0164 - accuracy: 0.9961\n"
          ]
        }
      ]
    },
    {
      "cell_type": "code",
      "source": [
        "classifierL1 = np.argmax(model.fit(X_trainL1,y_trainL1,epochs=100,batch_size=128),axis=-1)"
      ],
      "metadata": {
        "colab": {
          "base_uri": "https://localhost:8080/"
        },
        "id": "oLtv091UmLwl",
        "outputId": "b2d6f156-8d4f-47c7-a73b-a69a8a9b5faa"
      },
      "execution_count": null,
      "outputs": [
        {
          "output_type": "stream",
          "name": "stdout",
          "text": [
            "Epoch 1/100\n",
            "55/55 [==============================] - 0s 5ms/step - loss: 2.5636 - accuracy: 0.1031\n",
            "Epoch 2/100\n",
            "55/55 [==============================] - 0s 5ms/step - loss: 2.3072 - accuracy: 0.1028\n",
            "Epoch 3/100\n",
            "55/55 [==============================] - 0s 5ms/step - loss: 2.3077 - accuracy: 0.1002\n",
            "Epoch 4/100\n",
            "55/55 [==============================] - 0s 5ms/step - loss: 2.3081 - accuracy: 0.0985\n",
            "Epoch 5/100\n",
            "55/55 [==============================] - 0s 5ms/step - loss: 2.3094 - accuracy: 0.0968\n",
            "Epoch 6/100\n",
            "55/55 [==============================] - 0s 5ms/step - loss: 2.3074 - accuracy: 0.0954\n",
            "Epoch 7/100\n",
            "55/55 [==============================] - 0s 5ms/step - loss: 2.3090 - accuracy: 0.1044\n",
            "Epoch 8/100\n",
            "55/55 [==============================] - 0s 5ms/step - loss: 2.3070 - accuracy: 0.0997\n",
            "Epoch 9/100\n",
            "55/55 [==============================] - 0s 5ms/step - loss: 2.3055 - accuracy: 0.1001\n",
            "Epoch 10/100\n",
            "55/55 [==============================] - 0s 5ms/step - loss: 2.3107 - accuracy: 0.0970\n",
            "Epoch 11/100\n",
            "55/55 [==============================] - 0s 5ms/step - loss: 2.3078 - accuracy: 0.0992\n",
            "Epoch 12/100\n",
            "55/55 [==============================] - 0s 5ms/step - loss: 2.3056 - accuracy: 0.1047\n",
            "Epoch 13/100\n",
            "55/55 [==============================] - 0s 5ms/step - loss: 2.3054 - accuracy: 0.1004\n",
            "Epoch 14/100\n",
            "55/55 [==============================] - 0s 5ms/step - loss: 2.3075 - accuracy: 0.0970\n",
            "Epoch 15/100\n",
            "55/55 [==============================] - 0s 5ms/step - loss: 2.3068 - accuracy: 0.1017\n",
            "Epoch 16/100\n",
            "55/55 [==============================] - 0s 5ms/step - loss: 2.3065 - accuracy: 0.1022\n",
            "Epoch 17/100\n",
            "55/55 [==============================] - 0s 5ms/step - loss: 2.3055 - accuracy: 0.0991\n",
            "Epoch 18/100\n",
            "55/55 [==============================] - 0s 5ms/step - loss: 2.3058 - accuracy: 0.0978\n",
            "Epoch 19/100\n",
            "55/55 [==============================] - 0s 5ms/step - loss: 2.3081 - accuracy: 0.1001\n",
            "Epoch 20/100\n",
            "55/55 [==============================] - 0s 5ms/step - loss: 2.3065 - accuracy: 0.0962\n",
            "Epoch 21/100\n",
            "55/55 [==============================] - 0s 5ms/step - loss: 2.3053 - accuracy: 0.0967\n",
            "Epoch 22/100\n",
            "55/55 [==============================] - 0s 5ms/step - loss: 2.3049 - accuracy: 0.1024\n",
            "Epoch 23/100\n",
            "55/55 [==============================] - 0s 5ms/step - loss: 2.3060 - accuracy: 0.1005\n",
            "Epoch 24/100\n",
            "55/55 [==============================] - 0s 5ms/step - loss: 2.3066 - accuracy: 0.0978\n",
            "Epoch 25/100\n",
            "55/55 [==============================] - 0s 5ms/step - loss: 2.3055 - accuracy: 0.0991\n",
            "Epoch 26/100\n",
            "55/55 [==============================] - 0s 5ms/step - loss: 2.3047 - accuracy: 0.1001\n",
            "Epoch 27/100\n",
            "55/55 [==============================] - 0s 5ms/step - loss: 2.3065 - accuracy: 0.0982\n",
            "Epoch 28/100\n",
            "55/55 [==============================] - 0s 5ms/step - loss: 2.3059 - accuracy: 0.1054\n",
            "Epoch 29/100\n",
            "55/55 [==============================] - 0s 5ms/step - loss: 2.3059 - accuracy: 0.0971\n",
            "Epoch 30/100\n",
            "55/55 [==============================] - 0s 5ms/step - loss: 2.3043 - accuracy: 0.1008\n",
            "Epoch 31/100\n",
            "55/55 [==============================] - 0s 5ms/step - loss: 2.3054 - accuracy: 0.1022\n",
            "Epoch 32/100\n",
            "55/55 [==============================] - 0s 5ms/step - loss: 2.3087 - accuracy: 0.0985\n",
            "Epoch 33/100\n",
            "55/55 [==============================] - 0s 5ms/step - loss: 2.3074 - accuracy: 0.0937\n",
            "Epoch 34/100\n",
            "55/55 [==============================] - 0s 4ms/step - loss: 2.3067 - accuracy: 0.1022\n",
            "Epoch 35/100\n",
            "55/55 [==============================] - 0s 5ms/step - loss: 2.3081 - accuracy: 0.0977\n",
            "Epoch 36/100\n",
            "55/55 [==============================] - 0s 5ms/step - loss: 2.3052 - accuracy: 0.1004\n",
            "Epoch 37/100\n",
            "55/55 [==============================] - 0s 5ms/step - loss: 2.3042 - accuracy: 0.1028\n",
            "Epoch 38/100\n",
            "55/55 [==============================] - 0s 5ms/step - loss: 2.3067 - accuracy: 0.1002\n",
            "Epoch 39/100\n",
            "55/55 [==============================] - 0s 5ms/step - loss: 2.3041 - accuracy: 0.1042\n",
            "Epoch 40/100\n",
            "55/55 [==============================] - 0s 5ms/step - loss: 2.3042 - accuracy: 0.1025\n",
            "Epoch 41/100\n",
            "55/55 [==============================] - 0s 5ms/step - loss: 2.3042 - accuracy: 0.1004\n",
            "Epoch 42/100\n",
            "55/55 [==============================] - 0s 5ms/step - loss: 2.3041 - accuracy: 0.1014\n",
            "Epoch 43/100\n",
            "55/55 [==============================] - 0s 5ms/step - loss: 2.3050 - accuracy: 0.0960\n",
            "Epoch 44/100\n",
            "55/55 [==============================] - 0s 5ms/step - loss: 2.3053 - accuracy: 0.0981\n",
            "Epoch 45/100\n",
            "55/55 [==============================] - 0s 5ms/step - loss: 2.3055 - accuracy: 0.1051\n",
            "Epoch 46/100\n",
            "55/55 [==============================] - 0s 5ms/step - loss: 2.3069 - accuracy: 0.0994\n",
            "Epoch 47/100\n",
            "55/55 [==============================] - 0s 5ms/step - loss: 2.3048 - accuracy: 0.0992\n",
            "Epoch 48/100\n",
            "55/55 [==============================] - 0s 5ms/step - loss: 2.3041 - accuracy: 0.1057\n",
            "Epoch 49/100\n",
            "55/55 [==============================] - 0s 5ms/step - loss: 2.3052 - accuracy: 0.1024\n",
            "Epoch 50/100\n",
            "55/55 [==============================] - 0s 5ms/step - loss: 2.3051 - accuracy: 0.0982\n",
            "Epoch 51/100\n",
            "55/55 [==============================] - 0s 5ms/step - loss: 2.3038 - accuracy: 0.1025\n",
            "Epoch 52/100\n",
            "55/55 [==============================] - 0s 5ms/step - loss: 2.3041 - accuracy: 0.1044\n",
            "Epoch 53/100\n",
            "55/55 [==============================] - 0s 5ms/step - loss: 2.3042 - accuracy: 0.1073\n",
            "Epoch 54/100\n",
            "55/55 [==============================] - 0s 5ms/step - loss: 2.3040 - accuracy: 0.1032\n",
            "Epoch 55/100\n",
            "55/55 [==============================] - 0s 5ms/step - loss: 2.3059 - accuracy: 0.1012\n",
            "Epoch 56/100\n",
            "55/55 [==============================] - 0s 5ms/step - loss: 2.3044 - accuracy: 0.1054\n",
            "Epoch 57/100\n",
            "55/55 [==============================] - 0s 5ms/step - loss: 2.3051 - accuracy: 0.0915\n",
            "Epoch 58/100\n",
            "55/55 [==============================] - 0s 5ms/step - loss: 2.3050 - accuracy: 0.1074\n",
            "Epoch 59/100\n",
            "55/55 [==============================] - 0s 5ms/step - loss: 2.3042 - accuracy: 0.0955\n",
            "Epoch 60/100\n",
            "55/55 [==============================] - 0s 5ms/step - loss: 2.3038 - accuracy: 0.1040\n",
            "Epoch 61/100\n",
            "55/55 [==============================] - 0s 5ms/step - loss: 2.3039 - accuracy: 0.1077\n",
            "Epoch 62/100\n",
            "55/55 [==============================] - 0s 4ms/step - loss: 2.3057 - accuracy: 0.1035\n",
            "Epoch 63/100\n",
            "55/55 [==============================] - 0s 5ms/step - loss: 2.3037 - accuracy: 0.1044\n",
            "Epoch 64/100\n",
            "55/55 [==============================] - 0s 5ms/step - loss: 2.3057 - accuracy: 0.0951\n",
            "Epoch 65/100\n",
            "55/55 [==============================] - 0s 5ms/step - loss: 2.3048 - accuracy: 0.0951\n",
            "Epoch 66/100\n",
            "55/55 [==============================] - 0s 5ms/step - loss: 2.3040 - accuracy: 0.1070\n",
            "Epoch 67/100\n",
            "55/55 [==============================] - 0s 5ms/step - loss: 2.3041 - accuracy: 0.1014\n",
            "Epoch 68/100\n",
            "55/55 [==============================] - 0s 5ms/step - loss: 2.3048 - accuracy: 0.1028\n",
            "Epoch 69/100\n",
            "55/55 [==============================] - 0s 5ms/step - loss: 2.3044 - accuracy: 0.0990\n",
            "Epoch 70/100\n",
            "55/55 [==============================] - 0s 5ms/step - loss: 2.3035 - accuracy: 0.1034\n",
            "Epoch 71/100\n",
            "55/55 [==============================] - 0s 5ms/step - loss: 2.3034 - accuracy: 0.1034\n",
            "Epoch 72/100\n",
            "55/55 [==============================] - 0s 5ms/step - loss: 2.3037 - accuracy: 0.1040\n",
            "Epoch 73/100\n",
            "55/55 [==============================] - 0s 5ms/step - loss: 2.3037 - accuracy: 0.1012\n",
            "Epoch 74/100\n",
            "55/55 [==============================] - 0s 5ms/step - loss: 2.3050 - accuracy: 0.1032\n",
            "Epoch 75/100\n",
            "55/55 [==============================] - 0s 5ms/step - loss: 2.3046 - accuracy: 0.1010\n",
            "Epoch 76/100\n",
            "55/55 [==============================] - 0s 5ms/step - loss: 2.3031 - accuracy: 0.1044\n",
            "Epoch 77/100\n",
            "55/55 [==============================] - 0s 5ms/step - loss: 2.3055 - accuracy: 0.0948\n",
            "Epoch 78/100\n",
            "55/55 [==============================] - 0s 5ms/step - loss: 2.3036 - accuracy: 0.0935\n",
            "Epoch 79/100\n",
            "55/55 [==============================] - 0s 5ms/step - loss: 2.3037 - accuracy: 0.1014\n",
            "Epoch 80/100\n",
            "55/55 [==============================] - 0s 5ms/step - loss: 2.3038 - accuracy: 0.1031\n",
            "Epoch 81/100\n",
            "55/55 [==============================] - 0s 5ms/step - loss: 2.3030 - accuracy: 0.1058\n",
            "Epoch 82/100\n",
            "55/55 [==============================] - 0s 5ms/step - loss: 2.3050 - accuracy: 0.1004\n",
            "Epoch 83/100\n",
            "55/55 [==============================] - 0s 5ms/step - loss: 2.3032 - accuracy: 0.0988\n",
            "Epoch 84/100\n",
            "55/55 [==============================] - 0s 5ms/step - loss: 2.3030 - accuracy: 0.0981\n",
            "Epoch 85/100\n",
            "55/55 [==============================] - 0s 5ms/step - loss: 2.3035 - accuracy: 0.0967\n",
            "Epoch 86/100\n",
            "55/55 [==============================] - 0s 5ms/step - loss: 2.3035 - accuracy: 0.0954\n",
            "Epoch 87/100\n",
            "55/55 [==============================] - 0s 5ms/step - loss: 2.3031 - accuracy: 0.1065\n",
            "Epoch 88/100\n",
            "55/55 [==============================] - 0s 5ms/step - loss: 2.3037 - accuracy: 0.0997\n",
            "Epoch 89/100\n",
            "55/55 [==============================] - 0s 5ms/step - loss: 2.3035 - accuracy: 0.0994\n",
            "Epoch 90/100\n",
            "55/55 [==============================] - 0s 5ms/step - loss: 2.3033 - accuracy: 0.1027\n",
            "Epoch 91/100\n",
            "55/55 [==============================] - 0s 5ms/step - loss: 2.3036 - accuracy: 0.1025\n",
            "Epoch 92/100\n",
            "55/55 [==============================] - 0s 5ms/step - loss: 2.3023 - accuracy: 0.1028\n",
            "Epoch 93/100\n",
            "55/55 [==============================] - 0s 5ms/step - loss: 2.3042 - accuracy: 0.1018\n",
            "Epoch 94/100\n",
            "55/55 [==============================] - 0s 4ms/step - loss: 2.3041 - accuracy: 0.1014\n",
            "Epoch 95/100\n",
            "55/55 [==============================] - 0s 5ms/step - loss: 2.3033 - accuracy: 0.0995\n",
            "Epoch 96/100\n",
            "55/55 [==============================] - 0s 5ms/step - loss: 2.3034 - accuracy: 0.1037\n",
            "Epoch 97/100\n",
            "55/55 [==============================] - 0s 5ms/step - loss: 2.3033 - accuracy: 0.1028\n",
            "Epoch 98/100\n",
            "55/55 [==============================] - 0s 5ms/step - loss: 2.3033 - accuracy: 0.1073\n",
            "Epoch 99/100\n",
            "55/55 [==============================] - 0s 5ms/step - loss: 2.3027 - accuracy: 0.1067\n",
            "Epoch 100/100\n",
            "55/55 [==============================] - 0s 5ms/step - loss: 2.3027 - accuracy: 0.0998\n"
          ]
        }
      ]
    },
    {
      "cell_type": "code",
      "source": [
        "classifierL2 = np.argmax(model.fit(X_trainL2,y_trainL2,epochs=100,batch_size=128),axis=-1)"
      ],
      "metadata": {
        "colab": {
          "base_uri": "https://localhost:8080/"
        },
        "id": "g0qHBCGRmLa_",
        "outputId": "ff6b13c4-a7e8-4932-cc41-03717dbcc749"
      },
      "execution_count": null,
      "outputs": [
        {
          "output_type": "stream",
          "name": "stdout",
          "text": [
            "Epoch 1/100\n",
            "55/55 [==============================] - 0s 5ms/step - loss: 2.0840 - accuracy: 0.2630\n",
            "Epoch 2/100\n",
            "55/55 [==============================] - 0s 5ms/step - loss: 1.7328 - accuracy: 0.3801\n",
            "Epoch 3/100\n",
            "55/55 [==============================] - 0s 5ms/step - loss: 1.4826 - accuracy: 0.4573\n",
            "Epoch 4/100\n",
            "55/55 [==============================] - 0s 5ms/step - loss: 1.3623 - accuracy: 0.5055\n",
            "Epoch 5/100\n",
            "55/55 [==============================] - 0s 5ms/step - loss: 1.2880 - accuracy: 0.5267\n",
            "Epoch 6/100\n",
            "55/55 [==============================] - 0s 5ms/step - loss: 1.2372 - accuracy: 0.5421\n",
            "Epoch 7/100\n",
            "55/55 [==============================] - 0s 4ms/step - loss: 1.1931 - accuracy: 0.5666\n",
            "Epoch 8/100\n",
            "55/55 [==============================] - 0s 5ms/step - loss: 1.1584 - accuracy: 0.5784\n",
            "Epoch 9/100\n",
            "55/55 [==============================] - 0s 4ms/step - loss: 1.1261 - accuracy: 0.6007\n",
            "Epoch 10/100\n",
            "55/55 [==============================] - 0s 5ms/step - loss: 1.1018 - accuracy: 0.6066\n",
            "Epoch 11/100\n",
            "55/55 [==============================] - 0s 5ms/step - loss: 1.0775 - accuracy: 0.6148\n",
            "Epoch 12/100\n",
            "55/55 [==============================] - 0s 5ms/step - loss: 1.0554 - accuracy: 0.6256\n",
            "Epoch 13/100\n",
            "55/55 [==============================] - 0s 5ms/step - loss: 1.0358 - accuracy: 0.6351\n",
            "Epoch 14/100\n",
            "55/55 [==============================] - 0s 5ms/step - loss: 1.0175 - accuracy: 0.6432\n",
            "Epoch 15/100\n",
            "55/55 [==============================] - 0s 5ms/step - loss: 1.0079 - accuracy: 0.6444\n",
            "Epoch 16/100\n",
            "55/55 [==============================] - 0s 4ms/step - loss: 0.9835 - accuracy: 0.6551\n",
            "Epoch 17/100\n",
            "55/55 [==============================] - 0s 5ms/step - loss: 0.9795 - accuracy: 0.6614\n",
            "Epoch 18/100\n",
            "55/55 [==============================] - 0s 5ms/step - loss: 0.9530 - accuracy: 0.6732\n",
            "Epoch 19/100\n",
            "55/55 [==============================] - 0s 5ms/step - loss: 0.9417 - accuracy: 0.6740\n",
            "Epoch 20/100\n",
            "55/55 [==============================] - 0s 5ms/step - loss: 0.9378 - accuracy: 0.6718\n",
            "Epoch 21/100\n",
            "55/55 [==============================] - 0s 5ms/step - loss: 0.9167 - accuracy: 0.6861\n",
            "Epoch 22/100\n",
            "55/55 [==============================] - 0s 5ms/step - loss: 0.9040 - accuracy: 0.6915\n",
            "Epoch 23/100\n",
            "55/55 [==============================] - 0s 5ms/step - loss: 0.8895 - accuracy: 0.6958\n",
            "Epoch 24/100\n",
            "55/55 [==============================] - 0s 5ms/step - loss: 0.8850 - accuracy: 0.6940\n",
            "Epoch 25/100\n",
            "55/55 [==============================] - 0s 4ms/step - loss: 0.8771 - accuracy: 0.6971\n",
            "Epoch 26/100\n",
            "55/55 [==============================] - 0s 5ms/step - loss: 0.8612 - accuracy: 0.7040\n",
            "Epoch 27/100\n",
            "55/55 [==============================] - 0s 5ms/step - loss: 0.8497 - accuracy: 0.7077\n",
            "Epoch 28/100\n",
            "55/55 [==============================] - 0s 5ms/step - loss: 0.8426 - accuracy: 0.7099\n",
            "Epoch 29/100\n",
            "55/55 [==============================] - 0s 5ms/step - loss: 0.8305 - accuracy: 0.7143\n",
            "Epoch 30/100\n",
            "55/55 [==============================] - 0s 5ms/step - loss: 0.8192 - accuracy: 0.7193\n",
            "Epoch 31/100\n",
            "55/55 [==============================] - 0s 5ms/step - loss: 0.8083 - accuracy: 0.7200\n",
            "Epoch 32/100\n",
            "55/55 [==============================] - 0s 5ms/step - loss: 0.8060 - accuracy: 0.7257\n",
            "Epoch 33/100\n",
            "55/55 [==============================] - 0s 5ms/step - loss: 0.7940 - accuracy: 0.7292\n",
            "Epoch 34/100\n",
            "55/55 [==============================] - 0s 4ms/step - loss: 0.7887 - accuracy: 0.7307\n",
            "Epoch 35/100\n",
            "55/55 [==============================] - 0s 5ms/step - loss: 0.7783 - accuracy: 0.7379\n",
            "Epoch 36/100\n",
            "55/55 [==============================] - 0s 4ms/step - loss: 0.7711 - accuracy: 0.7352\n",
            "Epoch 37/100\n",
            "55/55 [==============================] - 0s 5ms/step - loss: 0.7614 - accuracy: 0.7417\n",
            "Epoch 38/100\n",
            "55/55 [==============================] - 0s 5ms/step - loss: 0.7601 - accuracy: 0.7397\n",
            "Epoch 39/100\n",
            "55/55 [==============================] - 0s 5ms/step - loss: 0.7534 - accuracy: 0.7420\n",
            "Epoch 40/100\n",
            "55/55 [==============================] - 0s 5ms/step - loss: 0.7436 - accuracy: 0.7457\n",
            "Epoch 41/100\n",
            "55/55 [==============================] - 0s 5ms/step - loss: 0.7442 - accuracy: 0.7416\n",
            "Epoch 42/100\n",
            "55/55 [==============================] - 0s 5ms/step - loss: 0.7305 - accuracy: 0.7538\n",
            "Epoch 43/100\n",
            "55/55 [==============================] - 0s 5ms/step - loss: 0.7266 - accuracy: 0.7549\n",
            "Epoch 44/100\n",
            "55/55 [==============================] - 0s 4ms/step - loss: 0.7277 - accuracy: 0.7499\n",
            "Epoch 45/100\n",
            "55/55 [==============================] - 0s 5ms/step - loss: 0.7143 - accuracy: 0.7566\n",
            "Epoch 46/100\n",
            "55/55 [==============================] - 0s 5ms/step - loss: 0.7057 - accuracy: 0.7605\n",
            "Epoch 47/100\n",
            "55/55 [==============================] - 0s 5ms/step - loss: 0.7053 - accuracy: 0.7625\n",
            "Epoch 48/100\n",
            "55/55 [==============================] - 0s 5ms/step - loss: 0.6955 - accuracy: 0.7639\n",
            "Epoch 49/100\n",
            "55/55 [==============================] - 0s 5ms/step - loss: 0.6850 - accuracy: 0.7699\n",
            "Epoch 50/100\n",
            "55/55 [==============================] - 0s 5ms/step - loss: 0.6833 - accuracy: 0.7683\n",
            "Epoch 51/100\n",
            "55/55 [==============================] - 0s 4ms/step - loss: 0.6769 - accuracy: 0.7742\n",
            "Epoch 52/100\n",
            "55/55 [==============================] - 0s 5ms/step - loss: 0.6745 - accuracy: 0.7712\n",
            "Epoch 53/100\n",
            "55/55 [==============================] - 0s 5ms/step - loss: 0.6697 - accuracy: 0.7759\n",
            "Epoch 54/100\n",
            "55/55 [==============================] - 0s 5ms/step - loss: 0.6688 - accuracy: 0.7722\n",
            "Epoch 55/100\n",
            "55/55 [==============================] - 0s 5ms/step - loss: 0.6550 - accuracy: 0.7775\n",
            "Epoch 56/100\n",
            "55/55 [==============================] - 0s 5ms/step - loss: 0.6501 - accuracy: 0.7759\n",
            "Epoch 57/100\n",
            "55/55 [==============================] - 0s 5ms/step - loss: 0.6547 - accuracy: 0.7755\n",
            "Epoch 58/100\n",
            "55/55 [==============================] - 0s 5ms/step - loss: 0.6462 - accuracy: 0.7806\n",
            "Epoch 59/100\n",
            "55/55 [==============================] - 0s 5ms/step - loss: 0.6396 - accuracy: 0.7815\n",
            "Epoch 60/100\n",
            "55/55 [==============================] - 0s 5ms/step - loss: 0.6311 - accuracy: 0.7882\n",
            "Epoch 61/100\n",
            "55/55 [==============================] - 0s 4ms/step - loss: 0.6320 - accuracy: 0.7818\n",
            "Epoch 62/100\n",
            "55/55 [==============================] - 0s 4ms/step - loss: 0.6280 - accuracy: 0.7831\n",
            "Epoch 63/100\n",
            "55/55 [==============================] - 0s 5ms/step - loss: 0.6246 - accuracy: 0.7904\n",
            "Epoch 64/100\n",
            "55/55 [==============================] - 0s 5ms/step - loss: 0.6206 - accuracy: 0.7878\n",
            "Epoch 65/100\n",
            "55/55 [==============================] - 0s 5ms/step - loss: 0.6098 - accuracy: 0.7958\n",
            "Epoch 66/100\n",
            "55/55 [==============================] - 0s 5ms/step - loss: 0.6082 - accuracy: 0.7916\n",
            "Epoch 67/100\n",
            "55/55 [==============================] - 0s 5ms/step - loss: 0.5986 - accuracy: 0.7981\n",
            "Epoch 68/100\n",
            "55/55 [==============================] - 0s 4ms/step - loss: 0.5949 - accuracy: 0.8001\n",
            "Epoch 69/100\n",
            "55/55 [==============================] - 0s 5ms/step - loss: 0.5971 - accuracy: 0.7948\n",
            "Epoch 70/100\n",
            "55/55 [==============================] - 0s 5ms/step - loss: 0.5902 - accuracy: 0.8024\n",
            "Epoch 71/100\n",
            "55/55 [==============================] - 0s 5ms/step - loss: 0.5878 - accuracy: 0.7989\n",
            "Epoch 72/100\n",
            "55/55 [==============================] - 0s 5ms/step - loss: 0.5782 - accuracy: 0.8062\n",
            "Epoch 73/100\n",
            "55/55 [==============================] - 0s 5ms/step - loss: 0.5717 - accuracy: 0.8081\n",
            "Epoch 74/100\n",
            "55/55 [==============================] - 0s 5ms/step - loss: 0.5758 - accuracy: 0.8054\n",
            "Epoch 75/100\n",
            "55/55 [==============================] - 0s 4ms/step - loss: 0.5725 - accuracy: 0.8035\n",
            "Epoch 76/100\n",
            "55/55 [==============================] - 0s 5ms/step - loss: 0.5683 - accuracy: 0.8067\n",
            "Epoch 77/100\n",
            "55/55 [==============================] - 0s 5ms/step - loss: 0.5602 - accuracy: 0.8112\n",
            "Epoch 78/100\n",
            "55/55 [==============================] - 0s 5ms/step - loss: 0.5574 - accuracy: 0.8091\n",
            "Epoch 79/100\n",
            "55/55 [==============================] - 0s 5ms/step - loss: 0.5503 - accuracy: 0.8121\n",
            "Epoch 80/100\n",
            "55/55 [==============================] - 0s 5ms/step - loss: 0.5470 - accuracy: 0.8128\n",
            "Epoch 81/100\n",
            "55/55 [==============================] - 0s 5ms/step - loss: 0.5430 - accuracy: 0.8158\n",
            "Epoch 82/100\n",
            "55/55 [==============================] - 0s 5ms/step - loss: 0.5411 - accuracy: 0.8151\n",
            "Epoch 83/100\n",
            "55/55 [==============================] - 0s 5ms/step - loss: 0.5406 - accuracy: 0.8170\n",
            "Epoch 84/100\n",
            "55/55 [==============================] - 0s 5ms/step - loss: 0.5332 - accuracy: 0.8194\n",
            "Epoch 85/100\n",
            "55/55 [==============================] - 0s 4ms/step - loss: 0.5304 - accuracy: 0.8218\n",
            "Epoch 86/100\n",
            "55/55 [==============================] - 0s 5ms/step - loss: 0.5219 - accuracy: 0.8225\n",
            "Epoch 87/100\n",
            "55/55 [==============================] - 0s 5ms/step - loss: 0.5204 - accuracy: 0.8233\n",
            "Epoch 88/100\n",
            "55/55 [==============================] - 0s 5ms/step - loss: 0.5141 - accuracy: 0.8278\n",
            "Epoch 89/100\n",
            "55/55 [==============================] - 0s 5ms/step - loss: 0.5123 - accuracy: 0.8241\n",
            "Epoch 90/100\n",
            "55/55 [==============================] - 0s 5ms/step - loss: 0.5066 - accuracy: 0.8293\n",
            "Epoch 91/100\n",
            "55/55 [==============================] - 0s 5ms/step - loss: 0.5021 - accuracy: 0.8285\n",
            "Epoch 92/100\n",
            "55/55 [==============================] - 0s 5ms/step - loss: 0.4973 - accuracy: 0.8308\n",
            "Epoch 93/100\n",
            "55/55 [==============================] - 0s 5ms/step - loss: 0.4990 - accuracy: 0.8317\n",
            "Epoch 94/100\n",
            "55/55 [==============================] - 0s 5ms/step - loss: 0.4939 - accuracy: 0.8328\n",
            "Epoch 95/100\n",
            "55/55 [==============================] - 0s 5ms/step - loss: 0.4913 - accuracy: 0.8335\n",
            "Epoch 96/100\n",
            "55/55 [==============================] - 0s 5ms/step - loss: 0.4885 - accuracy: 0.8344\n",
            "Epoch 97/100\n",
            "55/55 [==============================] - 0s 5ms/step - loss: 0.4798 - accuracy: 0.8390\n",
            "Epoch 98/100\n",
            "55/55 [==============================] - 0s 5ms/step - loss: 0.4763 - accuracy: 0.8381\n",
            "Epoch 99/100\n",
            "55/55 [==============================] - 0s 5ms/step - loss: 0.4739 - accuracy: 0.8396\n",
            "Epoch 100/100\n",
            "55/55 [==============================] - 0s 5ms/step - loss: 0.4729 - accuracy: 0.8378\n"
          ]
        }
      ]
    },
    {
      "cell_type": "code",
      "source": [
        "classifierMax = np.argmax(model.fit(X_trainMax,y_trainMax,epochs=100,batch_size=128),axis=-1)"
      ],
      "metadata": {
        "colab": {
          "base_uri": "https://localhost:8080/"
        },
        "id": "Wu6ok293mR8b",
        "outputId": "aa567683-cfcb-4957-f238-8da23c14cbe7"
      },
      "execution_count": null,
      "outputs": [
        {
          "output_type": "stream",
          "name": "stdout",
          "text": [
            "Epoch 1/100\n",
            "55/55 [==============================] - 0s 5ms/step - loss: 11.0333 - accuracy: 0.5647\n",
            "Epoch 2/100\n",
            "55/55 [==============================] - 0s 5ms/step - loss: 1.2238 - accuracy: 0.6857\n",
            "Epoch 3/100\n",
            "55/55 [==============================] - 0s 5ms/step - loss: 0.8999 - accuracy: 0.7199\n",
            "Epoch 4/100\n",
            "55/55 [==============================] - 0s 5ms/step - loss: 0.7820 - accuracy: 0.7485\n",
            "Epoch 5/100\n",
            "55/55 [==============================] - 0s 5ms/step - loss: 0.7030 - accuracy: 0.7671\n",
            "Epoch 6/100\n",
            "55/55 [==============================] - 0s 4ms/step - loss: 0.6391 - accuracy: 0.7902\n",
            "Epoch 7/100\n",
            "55/55 [==============================] - 0s 5ms/step - loss: 0.5971 - accuracy: 0.7982\n",
            "Epoch 8/100\n",
            "55/55 [==============================] - 0s 5ms/step - loss: 0.5577 - accuracy: 0.8137\n",
            "Epoch 9/100\n",
            "55/55 [==============================] - 0s 4ms/step - loss: 0.5217 - accuracy: 0.8283\n",
            "Epoch 10/100\n",
            "55/55 [==============================] - 0s 5ms/step - loss: 0.4873 - accuracy: 0.8333\n",
            "Epoch 11/100\n",
            "55/55 [==============================] - 0s 5ms/step - loss: 0.4644 - accuracy: 0.8401\n",
            "Epoch 12/100\n",
            "55/55 [==============================] - 0s 5ms/step - loss: 0.4381 - accuracy: 0.8510\n",
            "Epoch 13/100\n",
            "55/55 [==============================] - 0s 5ms/step - loss: 0.4207 - accuracy: 0.8604\n",
            "Epoch 14/100\n",
            "55/55 [==============================] - 0s 5ms/step - loss: 0.4006 - accuracy: 0.8633\n",
            "Epoch 15/100\n",
            "55/55 [==============================] - 0s 5ms/step - loss: 0.3774 - accuracy: 0.8726\n",
            "Epoch 16/100\n",
            "55/55 [==============================] - 0s 5ms/step - loss: 0.3656 - accuracy: 0.8753\n",
            "Epoch 17/100\n",
            "55/55 [==============================] - 0s 4ms/step - loss: 0.3462 - accuracy: 0.8845\n",
            "Epoch 18/100\n",
            "55/55 [==============================] - 0s 5ms/step - loss: 0.3313 - accuracy: 0.8890\n",
            "Epoch 19/100\n",
            "55/55 [==============================] - 0s 5ms/step - loss: 0.3155 - accuracy: 0.8936\n",
            "Epoch 20/100\n",
            "55/55 [==============================] - 0s 4ms/step - loss: 0.3053 - accuracy: 0.8965\n",
            "Epoch 21/100\n",
            "55/55 [==============================] - 0s 5ms/step - loss: 0.2950 - accuracy: 0.9008\n",
            "Epoch 22/100\n",
            "55/55 [==============================] - 0s 4ms/step - loss: 0.2808 - accuracy: 0.9052\n",
            "Epoch 23/100\n",
            "55/55 [==============================] - 0s 5ms/step - loss: 0.2689 - accuracy: 0.9106\n",
            "Epoch 24/100\n",
            "55/55 [==============================] - 0s 5ms/step - loss: 0.2569 - accuracy: 0.9156\n",
            "Epoch 25/100\n",
            "55/55 [==============================] - 0s 5ms/step - loss: 0.2470 - accuracy: 0.9198\n",
            "Epoch 26/100\n",
            "55/55 [==============================] - 0s 4ms/step - loss: 0.2410 - accuracy: 0.9212\n",
            "Epoch 27/100\n",
            "55/55 [==============================] - 0s 5ms/step - loss: 0.2285 - accuracy: 0.9248\n",
            "Epoch 28/100\n",
            "55/55 [==============================] - 0s 5ms/step - loss: 0.2186 - accuracy: 0.9299\n",
            "Epoch 29/100\n",
            "55/55 [==============================] - 0s 4ms/step - loss: 0.2107 - accuracy: 0.9355\n",
            "Epoch 30/100\n",
            "55/55 [==============================] - 0s 5ms/step - loss: 0.2019 - accuracy: 0.9362\n",
            "Epoch 31/100\n",
            "55/55 [==============================] - 0s 5ms/step - loss: 0.1952 - accuracy: 0.9387\n",
            "Epoch 32/100\n",
            "55/55 [==============================] - 0s 5ms/step - loss: 0.1857 - accuracy: 0.9419\n",
            "Epoch 33/100\n",
            "55/55 [==============================] - 0s 4ms/step - loss: 0.1765 - accuracy: 0.9475\n",
            "Epoch 34/100\n",
            "55/55 [==============================] - 0s 5ms/step - loss: 0.1693 - accuracy: 0.9489\n",
            "Epoch 35/100\n",
            "55/55 [==============================] - 0s 5ms/step - loss: 0.1654 - accuracy: 0.9522\n",
            "Epoch 36/100\n",
            "55/55 [==============================] - 0s 5ms/step - loss: 0.1567 - accuracy: 0.9550\n",
            "Epoch 37/100\n",
            "55/55 [==============================] - 0s 4ms/step - loss: 0.1510 - accuracy: 0.9584\n",
            "Epoch 38/100\n",
            "55/55 [==============================] - 0s 4ms/step - loss: 0.1462 - accuracy: 0.9595\n",
            "Epoch 39/100\n",
            "55/55 [==============================] - 0s 4ms/step - loss: 0.1399 - accuracy: 0.9602\n",
            "Epoch 40/100\n",
            "55/55 [==============================] - 0s 5ms/step - loss: 0.1351 - accuracy: 0.9630\n",
            "Epoch 41/100\n",
            "55/55 [==============================] - 0s 5ms/step - loss: 0.1250 - accuracy: 0.9654\n",
            "Epoch 42/100\n",
            "55/55 [==============================] - 0s 5ms/step - loss: 0.1209 - accuracy: 0.9693\n",
            "Epoch 43/100\n",
            "55/55 [==============================] - 0s 5ms/step - loss: 0.1186 - accuracy: 0.9688\n",
            "Epoch 44/100\n",
            "55/55 [==============================] - 0s 5ms/step - loss: 0.1113 - accuracy: 0.9714\n",
            "Epoch 45/100\n",
            "55/55 [==============================] - 0s 5ms/step - loss: 0.1054 - accuracy: 0.9721\n",
            "Epoch 46/100\n",
            "55/55 [==============================] - 0s 5ms/step - loss: 0.1032 - accuracy: 0.9753\n",
            "Epoch 47/100\n",
            "55/55 [==============================] - 0s 4ms/step - loss: 0.0995 - accuracy: 0.9751\n",
            "Epoch 48/100\n",
            "55/55 [==============================] - 0s 5ms/step - loss: 0.0919 - accuracy: 0.9775\n",
            "Epoch 49/100\n",
            "55/55 [==============================] - 0s 5ms/step - loss: 0.0874 - accuracy: 0.9806\n",
            "Epoch 50/100\n",
            "55/55 [==============================] - 0s 5ms/step - loss: 0.0831 - accuracy: 0.9796\n",
            "Epoch 51/100\n",
            "55/55 [==============================] - 0s 5ms/step - loss: 0.0804 - accuracy: 0.9816\n",
            "Epoch 52/100\n",
            "55/55 [==============================] - 0s 5ms/step - loss: 0.0765 - accuracy: 0.9820\n",
            "Epoch 53/100\n",
            "55/55 [==============================] - 0s 5ms/step - loss: 0.0720 - accuracy: 0.9848\n",
            "Epoch 54/100\n",
            "55/55 [==============================] - 0s 5ms/step - loss: 0.0695 - accuracy: 0.9840\n",
            "Epoch 55/100\n",
            "55/55 [==============================] - 0s 5ms/step - loss: 0.0695 - accuracy: 0.9857\n",
            "Epoch 56/100\n",
            "55/55 [==============================] - 0s 4ms/step - loss: 0.0636 - accuracy: 0.9857\n",
            "Epoch 57/100\n",
            "55/55 [==============================] - 0s 5ms/step - loss: 0.0621 - accuracy: 0.9876\n",
            "Epoch 58/100\n",
            "55/55 [==============================] - 0s 5ms/step - loss: 0.0593 - accuracy: 0.9868\n",
            "Epoch 59/100\n",
            "55/55 [==============================] - 0s 5ms/step - loss: 0.0561 - accuracy: 0.9884\n",
            "Epoch 60/100\n",
            "55/55 [==============================] - 0s 5ms/step - loss: 0.0545 - accuracy: 0.9876\n",
            "Epoch 61/100\n",
            "55/55 [==============================] - 0s 5ms/step - loss: 0.0534 - accuracy: 0.9884\n",
            "Epoch 62/100\n",
            "55/55 [==============================] - 0s 5ms/step - loss: 0.0505 - accuracy: 0.9900\n",
            "Epoch 63/100\n",
            "55/55 [==============================] - 0s 5ms/step - loss: 0.0517 - accuracy: 0.9874\n",
            "Epoch 64/100\n",
            "55/55 [==============================] - 0s 5ms/step - loss: 0.0438 - accuracy: 0.9924\n",
            "Epoch 65/100\n",
            "55/55 [==============================] - 0s 4ms/step - loss: 0.0425 - accuracy: 0.9930\n",
            "Epoch 66/100\n",
            "55/55 [==============================] - 0s 5ms/step - loss: 0.0413 - accuracy: 0.9918\n",
            "Epoch 67/100\n",
            "55/55 [==============================] - 0s 5ms/step - loss: 0.0371 - accuracy: 0.9933\n",
            "Epoch 68/100\n",
            "55/55 [==============================] - 0s 5ms/step - loss: 0.0336 - accuracy: 0.9956\n",
            "Epoch 69/100\n",
            "55/55 [==============================] - 0s 5ms/step - loss: 0.0316 - accuracy: 0.9957\n",
            "Epoch 70/100\n",
            "55/55 [==============================] - 0s 5ms/step - loss: 0.0317 - accuracy: 0.9949\n",
            "Epoch 71/100\n",
            "55/55 [==============================] - 0s 5ms/step - loss: 0.0308 - accuracy: 0.9951\n",
            "Epoch 72/100\n",
            "55/55 [==============================] - 0s 4ms/step - loss: 0.0297 - accuracy: 0.9951\n",
            "Epoch 73/100\n",
            "55/55 [==============================] - 0s 5ms/step - loss: 0.0286 - accuracy: 0.9963\n",
            "Epoch 74/100\n",
            "55/55 [==============================] - 0s 4ms/step - loss: 0.0240 - accuracy: 0.9974\n",
            "Epoch 75/100\n",
            "55/55 [==============================] - 0s 5ms/step - loss: 0.0237 - accuracy: 0.9971\n",
            "Epoch 76/100\n",
            "55/55 [==============================] - 0s 5ms/step - loss: 0.0230 - accuracy: 0.9973\n",
            "Epoch 77/100\n",
            "55/55 [==============================] - 0s 5ms/step - loss: 0.0235 - accuracy: 0.9967\n",
            "Epoch 78/100\n",
            "55/55 [==============================] - 0s 5ms/step - loss: 0.0220 - accuracy: 0.9966\n",
            "Epoch 79/100\n",
            "55/55 [==============================] - 0s 5ms/step - loss: 0.0220 - accuracy: 0.9970\n",
            "Epoch 80/100\n",
            "55/55 [==============================] - 0s 4ms/step - loss: 0.0199 - accuracy: 0.9967\n",
            "Epoch 81/100\n",
            "55/55 [==============================] - 0s 5ms/step - loss: 0.0210 - accuracy: 0.9969\n",
            "Epoch 82/100\n",
            "55/55 [==============================] - 0s 5ms/step - loss: 0.0159 - accuracy: 0.9984\n",
            "Epoch 83/100\n",
            "55/55 [==============================] - 0s 5ms/step - loss: 0.0173 - accuracy: 0.9976\n",
            "Epoch 84/100\n",
            "55/55 [==============================] - 0s 5ms/step - loss: 0.0155 - accuracy: 0.9980\n",
            "Epoch 85/100\n",
            "55/55 [==============================] - 0s 5ms/step - loss: 0.0155 - accuracy: 0.9983\n",
            "Epoch 86/100\n",
            "55/55 [==============================] - 0s 4ms/step - loss: 0.0166 - accuracy: 0.9973\n",
            "Epoch 87/100\n",
            "55/55 [==============================] - 0s 5ms/step - loss: 0.0167 - accuracy: 0.9967\n",
            "Epoch 88/100\n",
            "55/55 [==============================] - 0s 5ms/step - loss: 0.0195 - accuracy: 0.9973\n",
            "Epoch 89/100\n",
            "55/55 [==============================] - 0s 5ms/step - loss: 0.0155 - accuracy: 0.9976\n",
            "Epoch 90/100\n",
            "55/55 [==============================] - 0s 5ms/step - loss: 0.0134 - accuracy: 0.9973\n",
            "Epoch 91/100\n",
            "55/55 [==============================] - 0s 5ms/step - loss: 0.0114 - accuracy: 0.9987\n",
            "Epoch 92/100\n",
            "55/55 [==============================] - 0s 4ms/step - loss: 0.0128 - accuracy: 0.9980\n",
            "Epoch 93/100\n",
            "55/55 [==============================] - 0s 5ms/step - loss: 0.0119 - accuracy: 0.9980\n",
            "Epoch 94/100\n",
            "55/55 [==============================] - 0s 5ms/step - loss: 0.0147 - accuracy: 0.9969\n",
            "Epoch 95/100\n",
            "55/55 [==============================] - 0s 4ms/step - loss: 0.0095 - accuracy: 0.9983\n",
            "Epoch 96/100\n",
            "55/55 [==============================] - 0s 5ms/step - loss: 0.0109 - accuracy: 0.9981\n",
            "Epoch 97/100\n",
            "55/55 [==============================] - 0s 5ms/step - loss: 0.0210 - accuracy: 0.9947\n",
            "Epoch 98/100\n",
            "55/55 [==============================] - 0s 4ms/step - loss: 0.0114 - accuracy: 0.9987\n",
            "Epoch 99/100\n",
            "55/55 [==============================] - 0s 5ms/step - loss: 0.0101 - accuracy: 0.9987\n",
            "Epoch 100/100\n",
            "55/55 [==============================] - 0s 5ms/step - loss: 0.0097 - accuracy: 0.9983\n"
          ]
        }
      ]
    },
    {
      "cell_type": "code",
      "source": [
        "test_loss, test_acc = model.evaluate(X_test,y_test)\n",
        "print('test_acc: ',test_acc)\n",
        "\n",
        "#Validating our approach¶\n",
        "x_val = X_train\n",
        "partial_x_train = X_train\n",
        "\n",
        "y_val = y_train\n",
        "partial_y_train = y_train"
      ],
      "metadata": {
        "colab": {
          "base_uri": "https://localhost:8080/"
        },
        "id": "DN7xwRbsnh-y",
        "outputId": "6df54ea3-c5ff-4136-f6f1-072029dbd3bd"
      },
      "execution_count": null,
      "outputs": [
        {
          "output_type": "stream",
          "name": "stdout",
          "text": [
            "94/94 [==============================] - 0s 2ms/step - loss: 7658286.5000 - accuracy: 0.1024\n",
            "test_acc:  0.10243576765060425\n"
          ]
        }
      ]
    },
    {
      "cell_type": "code",
      "source": [
        "test_lossStandard, test_accStandard = model.evaluate(X_testStandard,y_testStandard)\n",
        "print('test_acc: ',test_accStandard)\n",
        "\n",
        "#Validating our approach¶\n",
        "x_val = X_trainStandard\n",
        "partial_x_train = X_trainStandard\n",
        "\n",
        "y_val = y_trainStandard\n",
        "partial_y_train = y_trainStandard"
      ],
      "metadata": {
        "colab": {
          "base_uri": "https://localhost:8080/"
        },
        "id": "yGS6x2RK1EOo",
        "outputId": "d39c81c0-407a-4ebf-e5fa-be6dbb3c740c"
      },
      "execution_count": null,
      "outputs": [
        {
          "output_type": "stream",
          "name": "stdout",
          "text": [
            "94/94 [==============================] - 0s 2ms/step - loss: 76.6341 - accuracy: 0.5506\n",
            "test_acc:  0.5505505800247192\n"
          ]
        }
      ]
    },
    {
      "cell_type": "code",
      "source": [
        "test_lossL1, test_accL1 = model.evaluate(X_testL1,y_testL1)\n",
        "print('test_acc: ',test_accL1)\n",
        "\n",
        "#Validating our approach¶\n",
        "x_val = X_trainL1\n",
        "partial_x_train = X_trainL1\n",
        "\n",
        "y_val = y_trainL1\n",
        "partial_y_train = y_trainL1"
      ],
      "metadata": {
        "colab": {
          "base_uri": "https://localhost:8080/"
        },
        "id": "XLDG4zoUnjGN",
        "outputId": "316d66f4-4b38-4e90-fc1b-df6ab6a133c8"
      },
      "execution_count": null,
      "outputs": [
        {
          "output_type": "stream",
          "name": "stdout",
          "text": [
            "94/94 [==============================] - 0s 2ms/step - loss: 7.7861 - accuracy: 0.0951\n",
            "test_acc:  0.09509509801864624\n"
          ]
        }
      ]
    },
    {
      "cell_type": "code",
      "source": [
        "test_lossL2, test_accL2 = model.evaluate(X_testL2,y_testL2)\n",
        "print('test_acc: ',test_accL2)\n",
        "\n",
        "#Validating our approach¶\n",
        "x_val = X_trainL2\n",
        "partial_x_train = X_trainL2\n",
        "\n",
        "y_val = y_trainL2\n",
        "partial_y_train = y_trainL2"
      ],
      "metadata": {
        "colab": {
          "base_uri": "https://localhost:8080/"
        },
        "id": "Sex8vBvmni7z",
        "outputId": "3dce8980-beed-498d-8fcc-3d6bfcebde62"
      },
      "execution_count": null,
      "outputs": [
        {
          "output_type": "stream",
          "name": "stdout",
          "text": [
            "94/94 [==============================] - 0s 2ms/step - loss: 6.4207 - accuracy: 0.2396\n",
            "test_acc:  0.2395729124546051\n"
          ]
        }
      ]
    },
    {
      "cell_type": "code",
      "source": [
        "test_lossMax, test_accMax = model.evaluate(X_testMax,y_testMax)\n",
        "print('test_acc: ',test_accMax)\n",
        "\n",
        "#Validating our approach¶\n",
        "x_val = X_trainMax\n",
        "partial_x_train = X_trainMax\n",
        "\n",
        "y_val = y_trainMax\n",
        "partial_y_train = y_trainMax"
      ],
      "metadata": {
        "colab": {
          "base_uri": "https://localhost:8080/"
        },
        "id": "qQcl8W3knixV",
        "outputId": "114e2156-8178-4bde-fc87-12c3aaf21110"
      },
      "execution_count": null,
      "outputs": [
        {
          "output_type": "stream",
          "name": "stdout",
          "text": [
            "94/94 [==============================] - 0s 2ms/step - loss: 0.5209 - accuracy: 0.8849\n",
            "test_acc:  0.8848848938941956\n"
          ]
        }
      ]
    },
    {
      "cell_type": "markdown",
      "source": [
        "# ANN Part II\n",
        "The above neural network showed some good results, but the test accuracy dropped showing hints of overfitting. Hence, it was decided to add dropout layers to get a more generalised model and hope for better results on the test dataset."
      ],
      "metadata": {
        "id": "rq9BVURvoPdg"
      }
    },
    {
      "cell_type": "code",
      "source": [
        "# Create ANN\n",
        "model = Sequential()\n",
        "model.add(layers.Dense(256, activation='relu', input_shape=(X_trainStandard.shape[1],)))\n",
        "model.add(layers.Dropout(.2))\n",
        "model.add(layers.Dense(128, activation='relu'))\n",
        "model.add(layers.Dropout(.3))\n",
        "model.add(layers.Dense(64, activation='relu'))\n",
        "model.add(layers.Dropout(.25))\n",
        "model.add(layers.Dense(10, activation='softmax'))\n",
        "model.compile(optimizer='adam',loss='sparse_categorical_crossentropy',metrics=['accuracy'])"
      ],
      "metadata": {
        "id": "Kekrc_ynoTsy"
      },
      "execution_count": 8,
      "outputs": []
    },
    {
      "cell_type": "code",
      "source": [
        "classifierDP = np.argmax(model.fit(X_train,y_train,epochs=100,batch_size=128),axis=-1)"
      ],
      "metadata": {
        "colab": {
          "base_uri": "https://localhost:8080/"
        },
        "id": "4TUIg9JuoTog",
        "outputId": "6bb07859-af2f-44b9-a812-5e7bc1de544d"
      },
      "execution_count": null,
      "outputs": [
        {
          "output_type": "stream",
          "name": "stdout",
          "text": [
            "Epoch 1/100\n",
            "55/55 [==============================] - 1s 6ms/step - loss: 36936.9922 - accuracy: 0.1075\n",
            "Epoch 2/100\n",
            "55/55 [==============================] - 0s 6ms/step - loss: 2107.3083 - accuracy: 0.0977\n",
            "Epoch 3/100\n",
            "55/55 [==============================] - 0s 6ms/step - loss: 151.3832 - accuracy: 0.0907\n",
            "Epoch 4/100\n",
            "55/55 [==============================] - 0s 6ms/step - loss: 69.4059 - accuracy: 0.0897\n",
            "Epoch 5/100\n",
            "55/55 [==============================] - 0s 6ms/step - loss: 47.2471 - accuracy: 0.0901\n",
            "Epoch 6/100\n",
            "55/55 [==============================] - 0s 6ms/step - loss: 41.7743 - accuracy: 0.1005\n",
            "Epoch 7/100\n",
            "55/55 [==============================] - 0s 6ms/step - loss: 16.0862 - accuracy: 0.1075\n",
            "Epoch 8/100\n",
            "55/55 [==============================] - 0s 6ms/step - loss: 14.2037 - accuracy: 0.1061\n",
            "Epoch 9/100\n",
            "55/55 [==============================] - 0s 6ms/step - loss: 7.3520 - accuracy: 0.1032\n",
            "Epoch 10/100\n",
            "55/55 [==============================] - 0s 6ms/step - loss: 7.9756 - accuracy: 0.1025\n",
            "Epoch 11/100\n",
            "55/55 [==============================] - 0s 5ms/step - loss: 8.9862 - accuracy: 0.1002\n",
            "Epoch 12/100\n",
            "55/55 [==============================] - 0s 5ms/step - loss: 4.3660 - accuracy: 0.1030\n",
            "Epoch 13/100\n",
            "55/55 [==============================] - 0s 5ms/step - loss: 4.4052 - accuracy: 0.1030\n",
            "Epoch 14/100\n",
            "55/55 [==============================] - 0s 6ms/step - loss: 8.1490 - accuracy: 0.0988\n",
            "Epoch 15/100\n",
            "55/55 [==============================] - 0s 6ms/step - loss: 8.0356 - accuracy: 0.1021\n",
            "Epoch 16/100\n",
            "55/55 [==============================] - 0s 5ms/step - loss: 4.0858 - accuracy: 0.1020\n",
            "Epoch 17/100\n",
            "55/55 [==============================] - 0s 6ms/step - loss: 5.7410 - accuracy: 0.1020\n",
            "Epoch 18/100\n",
            "55/55 [==============================] - 0s 6ms/step - loss: 4.3135 - accuracy: 0.1031\n",
            "Epoch 19/100\n",
            "55/55 [==============================] - 0s 5ms/step - loss: 3.5250 - accuracy: 0.1024\n",
            "Epoch 20/100\n",
            "55/55 [==============================] - 0s 6ms/step - loss: 7.8114 - accuracy: 0.1017\n",
            "Epoch 21/100\n",
            "55/55 [==============================] - 0s 5ms/step - loss: 5.2999 - accuracy: 0.1001\n",
            "Epoch 22/100\n",
            "55/55 [==============================] - 0s 5ms/step - loss: 3.1687 - accuracy: 0.1048\n",
            "Epoch 23/100\n",
            "55/55 [==============================] - 0s 6ms/step - loss: 13.0222 - accuracy: 0.1024\n",
            "Epoch 24/100\n",
            "55/55 [==============================] - 0s 6ms/step - loss: 2.3977 - accuracy: 0.1011\n",
            "Epoch 25/100\n",
            "55/55 [==============================] - 0s 5ms/step - loss: 2.7985 - accuracy: 0.1031\n",
            "Epoch 26/100\n",
            "55/55 [==============================] - 0s 5ms/step - loss: 2.6459 - accuracy: 0.1018\n",
            "Epoch 27/100\n",
            "55/55 [==============================] - 0s 6ms/step - loss: 2.3408 - accuracy: 0.0991\n",
            "Epoch 28/100\n",
            "55/55 [==============================] - 0s 5ms/step - loss: 4.1705 - accuracy: 0.1041\n",
            "Epoch 29/100\n",
            "55/55 [==============================] - 0s 6ms/step - loss: 2.3311 - accuracy: 0.0991\n",
            "Epoch 30/100\n",
            "55/55 [==============================] - 0s 6ms/step - loss: 2.4708 - accuracy: 0.0992\n",
            "Epoch 31/100\n",
            "55/55 [==============================] - 0s 5ms/step - loss: 2.5274 - accuracy: 0.1030\n",
            "Epoch 32/100\n",
            "55/55 [==============================] - 0s 5ms/step - loss: 3.2335 - accuracy: 0.1015\n",
            "Epoch 33/100\n",
            "55/55 [==============================] - 0s 6ms/step - loss: 2.3024 - accuracy: 0.0962\n",
            "Epoch 34/100\n",
            "55/55 [==============================] - 0s 5ms/step - loss: 2.4455 - accuracy: 0.0995\n",
            "Epoch 35/100\n",
            "55/55 [==============================] - 0s 5ms/step - loss: 2.3025 - accuracy: 0.0974\n",
            "Epoch 36/100\n",
            "55/55 [==============================] - 0s 6ms/step - loss: 2.3023 - accuracy: 0.0997\n",
            "Epoch 37/100\n",
            "55/55 [==============================] - 0s 6ms/step - loss: 3.6526 - accuracy: 0.1034\n",
            "Epoch 38/100\n",
            "55/55 [==============================] - 0s 5ms/step - loss: 2.3379 - accuracy: 0.0974\n",
            "Epoch 39/100\n",
            "55/55 [==============================] - 0s 5ms/step - loss: 2.4783 - accuracy: 0.0961\n",
            "Epoch 40/100\n",
            "55/55 [==============================] - 0s 6ms/step - loss: 2.6669 - accuracy: 0.1017\n",
            "Epoch 41/100\n",
            "55/55 [==============================] - 0s 6ms/step - loss: 2.5328 - accuracy: 0.0968\n",
            "Epoch 42/100\n",
            "55/55 [==============================] - 0s 6ms/step - loss: 2.3354 - accuracy: 0.0992\n",
            "Epoch 43/100\n",
            "55/55 [==============================] - 0s 6ms/step - loss: 2.3026 - accuracy: 0.0968\n",
            "Epoch 44/100\n",
            "55/55 [==============================] - 0s 5ms/step - loss: 2.3019 - accuracy: 0.0961\n",
            "Epoch 45/100\n",
            "55/55 [==============================] - 0s 6ms/step - loss: 2.3486 - accuracy: 0.1011\n",
            "Epoch 46/100\n",
            "55/55 [==============================] - 0s 6ms/step - loss: 2.7686 - accuracy: 0.0984\n",
            "Epoch 47/100\n",
            "55/55 [==============================] - 0s 5ms/step - loss: 2.3025 - accuracy: 0.0985\n",
            "Epoch 48/100\n",
            "55/55 [==============================] - 0s 5ms/step - loss: 3.4256 - accuracy: 0.1014\n",
            "Epoch 49/100\n",
            "55/55 [==============================] - 0s 6ms/step - loss: 2.3825 - accuracy: 0.1021\n",
            "Epoch 50/100\n",
            "55/55 [==============================] - 0s 6ms/step - loss: 2.4419 - accuracy: 0.0985\n",
            "Epoch 51/100\n",
            "55/55 [==============================] - 0s 6ms/step - loss: 2.7226 - accuracy: 0.1020\n",
            "Epoch 52/100\n",
            "55/55 [==============================] - 0s 5ms/step - loss: 2.3266 - accuracy: 0.0967\n",
            "Epoch 53/100\n",
            "55/55 [==============================] - 0s 6ms/step - loss: 2.3025 - accuracy: 0.1022\n",
            "Epoch 54/100\n",
            "55/55 [==============================] - 0s 6ms/step - loss: 2.3827 - accuracy: 0.0992\n",
            "Epoch 55/100\n",
            "55/55 [==============================] - 0s 6ms/step - loss: 2.8008 - accuracy: 0.1022\n",
            "Epoch 56/100\n",
            "55/55 [==============================] - 0s 5ms/step - loss: 2.3055 - accuracy: 0.1021\n",
            "Epoch 57/100\n",
            "55/55 [==============================] - 0s 5ms/step - loss: 2.3025 - accuracy: 0.1022\n",
            "Epoch 58/100\n",
            "55/55 [==============================] - 0s 6ms/step - loss: 2.3632 - accuracy: 0.1021\n",
            "Epoch 59/100\n",
            "55/55 [==============================] - 0s 6ms/step - loss: 3.4624 - accuracy: 0.0978\n",
            "Epoch 60/100\n",
            "55/55 [==============================] - 0s 6ms/step - loss: 2.3022 - accuracy: 0.1022\n",
            "Epoch 61/100\n",
            "55/55 [==============================] - 0s 6ms/step - loss: 2.3025 - accuracy: 0.1022\n",
            "Epoch 62/100\n",
            "55/55 [==============================] - 0s 6ms/step - loss: 2.3025 - accuracy: 0.1022\n",
            "Epoch 63/100\n",
            "55/55 [==============================] - 0s 6ms/step - loss: 2.3019 - accuracy: 0.1022\n",
            "Epoch 64/100\n",
            "55/55 [==============================] - 0s 6ms/step - loss: 2.3033 - accuracy: 0.1022\n",
            "Epoch 65/100\n",
            "55/55 [==============================] - 0s 6ms/step - loss: 2.3022 - accuracy: 0.1022\n",
            "Epoch 66/100\n",
            "55/55 [==============================] - 0s 6ms/step - loss: 2.3025 - accuracy: 0.1022\n",
            "Epoch 67/100\n",
            "55/55 [==============================] - 0s 6ms/step - loss: 2.7707 - accuracy: 0.1007\n",
            "Epoch 68/100\n",
            "55/55 [==============================] - 0s 5ms/step - loss: 2.3474 - accuracy: 0.1022\n",
            "Epoch 69/100\n",
            "55/55 [==============================] - 0s 6ms/step - loss: 2.3100 - accuracy: 0.0995\n",
            "Epoch 70/100\n",
            "55/55 [==============================] - 0s 6ms/step - loss: 2.3025 - accuracy: 0.0998\n",
            "Epoch 71/100\n",
            "55/55 [==============================] - 0s 6ms/step - loss: 2.4587 - accuracy: 0.1020\n",
            "Epoch 72/100\n",
            "55/55 [==============================] - 0s 6ms/step - loss: 2.4419 - accuracy: 0.0971\n",
            "Epoch 73/100\n",
            "55/55 [==============================] - 0s 5ms/step - loss: 2.3019 - accuracy: 0.1022\n",
            "Epoch 74/100\n",
            "55/55 [==============================] - 0s 6ms/step - loss: 2.3111 - accuracy: 0.0958\n",
            "Epoch 75/100\n",
            "55/55 [==============================] - 0s 6ms/step - loss: 2.3036 - accuracy: 0.1002\n",
            "Epoch 76/100\n",
            "55/55 [==============================] - 0s 6ms/step - loss: 2.3022 - accuracy: 0.1022\n",
            "Epoch 77/100\n",
            "55/55 [==============================] - 0s 6ms/step - loss: 2.3580 - accuracy: 0.1020\n",
            "Epoch 78/100\n",
            "55/55 [==============================] - 0s 6ms/step - loss: 2.7212 - accuracy: 0.1022\n",
            "Epoch 79/100\n",
            "55/55 [==============================] - 0s 5ms/step - loss: 2.3280 - accuracy: 0.1022\n",
            "Epoch 80/100\n",
            "55/55 [==============================] - 0s 6ms/step - loss: 2.3025 - accuracy: 0.1022\n",
            "Epoch 81/100\n",
            "55/55 [==============================] - 0s 6ms/step - loss: 2.3025 - accuracy: 0.1022\n",
            "Epoch 82/100\n",
            "55/55 [==============================] - 0s 5ms/step - loss: 2.3025 - accuracy: 0.0958\n",
            "Epoch 83/100\n",
            "55/55 [==============================] - 0s 6ms/step - loss: 2.3399 - accuracy: 0.1002\n",
            "Epoch 84/100\n",
            "55/55 [==============================] - 0s 6ms/step - loss: 2.3400 - accuracy: 0.1020\n",
            "Epoch 85/100\n",
            "55/55 [==============================] - 0s 6ms/step - loss: 2.8741 - accuracy: 0.1022\n",
            "Epoch 86/100\n",
            "55/55 [==============================] - 0s 6ms/step - loss: 2.3022 - accuracy: 0.0997\n",
            "Epoch 87/100\n",
            "55/55 [==============================] - 0s 6ms/step - loss: 2.3921 - accuracy: 0.0982\n",
            "Epoch 88/100\n",
            "55/55 [==============================] - 0s 6ms/step - loss: 3.0950 - accuracy: 0.0965\n",
            "Epoch 89/100\n",
            "55/55 [==============================] - 0s 6ms/step - loss: 2.3022 - accuracy: 0.1022\n",
            "Epoch 90/100\n",
            "55/55 [==============================] - 0s 6ms/step - loss: 2.3022 - accuracy: 0.1022\n",
            "Epoch 91/100\n",
            "55/55 [==============================] - 0s 5ms/step - loss: 2.3025 - accuracy: 0.0978\n",
            "Epoch 92/100\n",
            "55/55 [==============================] - 0s 6ms/step - loss: 3.2497 - accuracy: 0.1001\n",
            "Epoch 93/100\n",
            "55/55 [==============================] - 0s 5ms/step - loss: 2.3941 - accuracy: 0.0991\n",
            "Epoch 94/100\n",
            "55/55 [==============================] - 0s 6ms/step - loss: 2.3058 - accuracy: 0.0997\n",
            "Epoch 95/100\n",
            "55/55 [==============================] - 0s 6ms/step - loss: 2.3025 - accuracy: 0.1011\n",
            "Epoch 96/100\n",
            "55/55 [==============================] - 0s 6ms/step - loss: 2.3025 - accuracy: 0.0995\n",
            "Epoch 97/100\n",
            "55/55 [==============================] - 0s 6ms/step - loss: 2.3022 - accuracy: 0.1007\n",
            "Epoch 98/100\n",
            "55/55 [==============================] - 0s 6ms/step - loss: 2.3198 - accuracy: 0.0991\n",
            "Epoch 99/100\n",
            "55/55 [==============================] - 0s 6ms/step - loss: 2.3022 - accuracy: 0.1022\n",
            "Epoch 100/100\n",
            "55/55 [==============================] - 0s 5ms/step - loss: 2.3025 - accuracy: 0.0970\n"
          ]
        }
      ]
    },
    {
      "cell_type": "code",
      "source": [
        "classifierDPStandard = np.argmax(model.fit(X_trainStandard,y_trainStandard,epochs=100,batch_size=128),axis=-1)"
      ],
      "metadata": {
        "colab": {
          "base_uri": "https://localhost:8080/"
        },
        "outputId": "7e3f131f-ccea-4dd9-a52d-6b60227f83d7",
        "id": "t7Kh87a-odAS"
      },
      "execution_count": null,
      "outputs": [
        {
          "output_type": "stream",
          "name": "stdout",
          "text": [
            "Epoch 1/100\n",
            "55/55 [==============================] - 1s 6ms/step - loss: 1.9987 - accuracy: 0.2555\n",
            "Epoch 2/100\n",
            "55/55 [==============================] - 0s 5ms/step - loss: 1.5704 - accuracy: 0.4489\n",
            "Epoch 3/100\n",
            "55/55 [==============================] - 0s 6ms/step - loss: 1.3626 - accuracy: 0.5290\n",
            "Epoch 4/100\n",
            "55/55 [==============================] - 0s 5ms/step - loss: 1.2366 - accuracy: 0.5796\n",
            "Epoch 5/100\n",
            "55/55 [==============================] - 0s 6ms/step - loss: 1.1703 - accuracy: 0.6000\n",
            "Epoch 6/100\n",
            "55/55 [==============================] - 0s 6ms/step - loss: 1.1256 - accuracy: 0.6321\n",
            "Epoch 7/100\n",
            "55/55 [==============================] - 0s 6ms/step - loss: 1.0804 - accuracy: 0.6399\n",
            "Epoch 8/100\n",
            "55/55 [==============================] - 0s 5ms/step - loss: 1.0463 - accuracy: 0.6494\n",
            "Epoch 9/100\n",
            "55/55 [==============================] - 0s 6ms/step - loss: 1.0095 - accuracy: 0.6662\n",
            "Epoch 10/100\n",
            "55/55 [==============================] - 0s 5ms/step - loss: 0.9819 - accuracy: 0.6717\n",
            "Epoch 11/100\n",
            "55/55 [==============================] - 0s 6ms/step - loss: 0.9655 - accuracy: 0.6790\n",
            "Epoch 12/100\n",
            "55/55 [==============================] - 0s 5ms/step - loss: 0.9369 - accuracy: 0.6865\n",
            "Epoch 13/100\n",
            "55/55 [==============================] - 0s 6ms/step - loss: 0.9144 - accuracy: 0.7010\n",
            "Epoch 14/100\n",
            "55/55 [==============================] - 0s 5ms/step - loss: 0.9214 - accuracy: 0.6970\n",
            "Epoch 15/100\n",
            "55/55 [==============================] - 0s 5ms/step - loss: 0.8851 - accuracy: 0.7058\n",
            "Epoch 16/100\n",
            "55/55 [==============================] - 0s 6ms/step - loss: 0.8752 - accuracy: 0.7179\n",
            "Epoch 17/100\n",
            "55/55 [==============================] - 0s 5ms/step - loss: 0.8531 - accuracy: 0.7217\n",
            "Epoch 18/100\n",
            "55/55 [==============================] - 0s 5ms/step - loss: 0.8356 - accuracy: 0.7273\n",
            "Epoch 19/100\n",
            "55/55 [==============================] - 0s 6ms/step - loss: 0.8215 - accuracy: 0.7279\n",
            "Epoch 20/100\n",
            "55/55 [==============================] - 0s 5ms/step - loss: 0.8155 - accuracy: 0.7260\n",
            "Epoch 21/100\n",
            "55/55 [==============================] - 0s 5ms/step - loss: 0.8052 - accuracy: 0.7369\n",
            "Epoch 22/100\n",
            "55/55 [==============================] - 0s 6ms/step - loss: 0.7915 - accuracy: 0.7417\n",
            "Epoch 23/100\n",
            "55/55 [==============================] - 0s 5ms/step - loss: 0.7841 - accuracy: 0.7425\n",
            "Epoch 24/100\n",
            "55/55 [==============================] - 0s 5ms/step - loss: 0.7607 - accuracy: 0.7552\n",
            "Epoch 25/100\n",
            "55/55 [==============================] - 0s 5ms/step - loss: 0.7410 - accuracy: 0.7540\n",
            "Epoch 26/100\n",
            "55/55 [==============================] - 0s 6ms/step - loss: 0.7494 - accuracy: 0.7582\n",
            "Epoch 27/100\n",
            "55/55 [==============================] - 0s 6ms/step - loss: 0.7283 - accuracy: 0.7595\n",
            "Epoch 28/100\n",
            "55/55 [==============================] - 0s 5ms/step - loss: 0.7247 - accuracy: 0.7610\n",
            "Epoch 29/100\n",
            "55/55 [==============================] - 0s 6ms/step - loss: 0.7076 - accuracy: 0.7679\n",
            "Epoch 30/100\n",
            "55/55 [==============================] - 0s 5ms/step - loss: 0.7108 - accuracy: 0.7725\n",
            "Epoch 31/100\n",
            "55/55 [==============================] - 0s 5ms/step - loss: 0.6970 - accuracy: 0.7729\n",
            "Epoch 32/100\n",
            "55/55 [==============================] - 0s 6ms/step - loss: 0.6995 - accuracy: 0.7765\n",
            "Epoch 33/100\n",
            "55/55 [==============================] - 0s 5ms/step - loss: 0.6895 - accuracy: 0.7706\n",
            "Epoch 34/100\n",
            "55/55 [==============================] - 0s 5ms/step - loss: 0.6719 - accuracy: 0.7824\n",
            "Epoch 35/100\n",
            "55/55 [==============================] - 0s 6ms/step - loss: 0.6741 - accuracy: 0.7769\n",
            "Epoch 36/100\n",
            "55/55 [==============================] - 0s 6ms/step - loss: 0.6648 - accuracy: 0.7839\n",
            "Epoch 37/100\n",
            "55/55 [==============================] - 0s 5ms/step - loss: 0.6588 - accuracy: 0.7861\n",
            "Epoch 38/100\n",
            "55/55 [==============================] - 0s 6ms/step - loss: 0.6613 - accuracy: 0.7844\n",
            "Epoch 39/100\n",
            "55/55 [==============================] - 0s 6ms/step - loss: 0.6396 - accuracy: 0.7961\n",
            "Epoch 40/100\n",
            "55/55 [==============================] - 0s 6ms/step - loss: 0.6347 - accuracy: 0.7921\n",
            "Epoch 41/100\n",
            "55/55 [==============================] - 0s 5ms/step - loss: 0.6210 - accuracy: 0.8029\n",
            "Epoch 42/100\n",
            "55/55 [==============================] - 0s 6ms/step - loss: 0.6211 - accuracy: 0.7952\n",
            "Epoch 43/100\n",
            "55/55 [==============================] - 0s 6ms/step - loss: 0.6088 - accuracy: 0.8038\n",
            "Epoch 44/100\n",
            "55/55 [==============================] - 0s 5ms/step - loss: 0.6062 - accuracy: 0.7994\n",
            "Epoch 45/100\n",
            "55/55 [==============================] - 0s 6ms/step - loss: 0.6138 - accuracy: 0.8014\n",
            "Epoch 46/100\n",
            "55/55 [==============================] - 0s 5ms/step - loss: 0.5886 - accuracy: 0.8102\n",
            "Epoch 47/100\n",
            "55/55 [==============================] - 0s 5ms/step - loss: 0.5775 - accuracy: 0.8150\n",
            "Epoch 48/100\n",
            "55/55 [==============================] - 0s 6ms/step - loss: 0.5840 - accuracy: 0.8095\n",
            "Epoch 49/100\n",
            "55/55 [==============================] - 0s 5ms/step - loss: 0.5848 - accuracy: 0.8095\n",
            "Epoch 50/100\n",
            "55/55 [==============================] - 0s 6ms/step - loss: 0.5748 - accuracy: 0.8135\n",
            "Epoch 51/100\n",
            "55/55 [==============================] - 0s 5ms/step - loss: 0.5698 - accuracy: 0.8188\n",
            "Epoch 52/100\n",
            "55/55 [==============================] - 0s 6ms/step - loss: 0.5606 - accuracy: 0.8174\n",
            "Epoch 53/100\n",
            "55/55 [==============================] - 0s 5ms/step - loss: 0.5483 - accuracy: 0.8184\n",
            "Epoch 54/100\n",
            "55/55 [==============================] - 0s 6ms/step - loss: 0.5355 - accuracy: 0.8274\n",
            "Epoch 55/100\n",
            "55/55 [==============================] - 0s 6ms/step - loss: 0.5432 - accuracy: 0.8214\n",
            "Epoch 56/100\n",
            "55/55 [==============================] - 0s 5ms/step - loss: 0.5408 - accuracy: 0.8172\n",
            "Epoch 57/100\n",
            "55/55 [==============================] - 0s 6ms/step - loss: 0.5378 - accuracy: 0.8275\n",
            "Epoch 58/100\n",
            "55/55 [==============================] - 0s 6ms/step - loss: 0.5318 - accuracy: 0.8288\n",
            "Epoch 59/100\n",
            "55/55 [==============================] - 0s 6ms/step - loss: 0.5133 - accuracy: 0.8341\n",
            "Epoch 60/100\n",
            "55/55 [==============================] - 0s 5ms/step - loss: 0.5218 - accuracy: 0.8315\n",
            "Epoch 61/100\n",
            "55/55 [==============================] - 0s 6ms/step - loss: 0.5012 - accuracy: 0.8347\n",
            "Epoch 62/100\n",
            "55/55 [==============================] - 0s 5ms/step - loss: 0.5014 - accuracy: 0.8327\n",
            "Epoch 63/100\n",
            "55/55 [==============================] - 0s 5ms/step - loss: 0.5048 - accuracy: 0.8384\n",
            "Epoch 64/100\n",
            "55/55 [==============================] - 0s 6ms/step - loss: 0.4927 - accuracy: 0.8390\n",
            "Epoch 65/100\n",
            "55/55 [==============================] - 0s 6ms/step - loss: 0.4962 - accuracy: 0.8350\n",
            "Epoch 66/100\n",
            "55/55 [==============================] - 0s 6ms/step - loss: 0.4765 - accuracy: 0.8470\n",
            "Epoch 67/100\n",
            "55/55 [==============================] - 0s 6ms/step - loss: 0.5025 - accuracy: 0.8355\n",
            "Epoch 68/100\n",
            "55/55 [==============================] - 0s 6ms/step - loss: 0.4759 - accuracy: 0.8494\n",
            "Epoch 69/100\n",
            "55/55 [==============================] - 0s 5ms/step - loss: 0.4828 - accuracy: 0.8458\n",
            "Epoch 70/100\n",
            "55/55 [==============================] - 0s 6ms/step - loss: 0.4676 - accuracy: 0.8488\n",
            "Epoch 71/100\n",
            "55/55 [==============================] - 0s 6ms/step - loss: 0.4702 - accuracy: 0.8481\n",
            "Epoch 72/100\n",
            "55/55 [==============================] - 0s 6ms/step - loss: 0.4583 - accuracy: 0.8498\n",
            "Epoch 73/100\n",
            "55/55 [==============================] - 0s 5ms/step - loss: 0.4507 - accuracy: 0.8491\n",
            "Epoch 74/100\n",
            "55/55 [==============================] - 0s 6ms/step - loss: 0.4440 - accuracy: 0.8551\n",
            "Epoch 75/100\n",
            "55/55 [==============================] - 0s 5ms/step - loss: 0.4557 - accuracy: 0.8510\n",
            "Epoch 76/100\n",
            "55/55 [==============================] - 0s 6ms/step - loss: 0.4536 - accuracy: 0.8524\n",
            "Epoch 77/100\n",
            "55/55 [==============================] - 0s 6ms/step - loss: 0.4438 - accuracy: 0.8544\n",
            "Epoch 78/100\n",
            "55/55 [==============================] - 0s 6ms/step - loss: 0.4345 - accuracy: 0.8617\n",
            "Epoch 79/100\n",
            "55/55 [==============================] - 0s 6ms/step - loss: 0.4465 - accuracy: 0.8571\n",
            "Epoch 80/100\n",
            "55/55 [==============================] - 0s 6ms/step - loss: 0.4361 - accuracy: 0.8581\n",
            "Epoch 81/100\n",
            "55/55 [==============================] - 0s 6ms/step - loss: 0.4248 - accuracy: 0.8616\n",
            "Epoch 82/100\n",
            "55/55 [==============================] - 0s 6ms/step - loss: 0.4222 - accuracy: 0.8640\n",
            "Epoch 83/100\n",
            "55/55 [==============================] - 0s 6ms/step - loss: 0.4187 - accuracy: 0.8624\n",
            "Epoch 84/100\n",
            "55/55 [==============================] - 0s 6ms/step - loss: 0.4119 - accuracy: 0.8662\n",
            "Epoch 85/100\n",
            "55/55 [==============================] - 0s 5ms/step - loss: 0.3956 - accuracy: 0.8702\n",
            "Epoch 86/100\n",
            "55/55 [==============================] - 0s 5ms/step - loss: 0.4014 - accuracy: 0.8704\n",
            "Epoch 87/100\n",
            "55/55 [==============================] - 0s 6ms/step - loss: 0.4166 - accuracy: 0.8623\n",
            "Epoch 88/100\n",
            "55/55 [==============================] - 0s 5ms/step - loss: 0.4001 - accuracy: 0.8733\n",
            "Epoch 89/100\n",
            "55/55 [==============================] - 0s 6ms/step - loss: 0.3962 - accuracy: 0.8727\n",
            "Epoch 90/100\n",
            "55/55 [==============================] - 0s 6ms/step - loss: 0.3898 - accuracy: 0.8733\n",
            "Epoch 91/100\n",
            "55/55 [==============================] - 0s 6ms/step - loss: 0.3890 - accuracy: 0.8724\n",
            "Epoch 92/100\n",
            "55/55 [==============================] - 0s 6ms/step - loss: 0.3844 - accuracy: 0.8759\n",
            "Epoch 93/100\n",
            "55/55 [==============================] - 0s 5ms/step - loss: 0.3882 - accuracy: 0.8744\n",
            "Epoch 94/100\n",
            "55/55 [==============================] - 0s 6ms/step - loss: 0.3873 - accuracy: 0.8749\n",
            "Epoch 95/100\n",
            "55/55 [==============================] - 0s 6ms/step - loss: 0.3839 - accuracy: 0.8752\n",
            "Epoch 96/100\n",
            "55/55 [==============================] - 0s 6ms/step - loss: 0.3690 - accuracy: 0.8793\n",
            "Epoch 97/100\n",
            "55/55 [==============================] - 0s 6ms/step - loss: 0.3607 - accuracy: 0.8799\n",
            "Epoch 98/100\n",
            "55/55 [==============================] - 0s 5ms/step - loss: 0.3710 - accuracy: 0.8800\n",
            "Epoch 99/100\n",
            "55/55 [==============================] - 0s 5ms/step - loss: 0.3512 - accuracy: 0.8826\n",
            "Epoch 100/100\n",
            "55/55 [==============================] - 0s 6ms/step - loss: 0.3575 - accuracy: 0.8867\n"
          ]
        }
      ]
    },
    {
      "cell_type": "code",
      "source": [
        "classifierDPL1 = np.argmax(model.fit(X_trainL1,y_trainL1,epochs=100,batch_size=128),axis=-1)"
      ],
      "metadata": {
        "colab": {
          "base_uri": "https://localhost:8080/"
        },
        "id": "prmKRj7MoTlz",
        "outputId": "cac511b4-f126-444c-8b42-1d72321800c1"
      },
      "execution_count": null,
      "outputs": [
        {
          "output_type": "stream",
          "name": "stdout",
          "text": [
            "Epoch 1/100\n",
            "55/55 [==============================] - 0s 5ms/step - loss: 2.8151 - accuracy: 0.0991\n",
            "Epoch 2/100\n",
            "55/55 [==============================] - 0s 6ms/step - loss: 2.3972 - accuracy: 0.1011\n",
            "Epoch 3/100\n",
            "55/55 [==============================] - 0s 6ms/step - loss: 2.3697 - accuracy: 0.0987\n",
            "Epoch 4/100\n",
            "55/55 [==============================] - 0s 5ms/step - loss: 2.3561 - accuracy: 0.0972\n",
            "Epoch 5/100\n",
            "55/55 [==============================] - 0s 6ms/step - loss: 2.3543 - accuracy: 0.0957\n",
            "Epoch 6/100\n",
            "55/55 [==============================] - 0s 6ms/step - loss: 2.3433 - accuracy: 0.1020\n",
            "Epoch 7/100\n",
            "55/55 [==============================] - 0s 6ms/step - loss: 2.3365 - accuracy: 0.0994\n",
            "Epoch 8/100\n",
            "55/55 [==============================] - 0s 5ms/step - loss: 2.3374 - accuracy: 0.0950\n",
            "Epoch 9/100\n",
            "55/55 [==============================] - 0s 5ms/step - loss: 2.3317 - accuracy: 0.0977\n",
            "Epoch 10/100\n",
            "55/55 [==============================] - 0s 6ms/step - loss: 2.3277 - accuracy: 0.0985\n",
            "Epoch 11/100\n",
            "55/55 [==============================] - 0s 6ms/step - loss: 2.3247 - accuracy: 0.1011\n",
            "Epoch 12/100\n",
            "55/55 [==============================] - 0s 6ms/step - loss: 2.3231 - accuracy: 0.1001\n",
            "Epoch 13/100\n",
            "55/55 [==============================] - 0s 6ms/step - loss: 2.3224 - accuracy: 0.0992\n",
            "Epoch 14/100\n",
            "55/55 [==============================] - 0s 6ms/step - loss: 2.3182 - accuracy: 0.1015\n",
            "Epoch 15/100\n",
            "55/55 [==============================] - 0s 6ms/step - loss: 2.3168 - accuracy: 0.1010\n",
            "Epoch 16/100\n",
            "55/55 [==============================] - 0s 6ms/step - loss: 2.3163 - accuracy: 0.0964\n",
            "Epoch 17/100\n",
            "55/55 [==============================] - 0s 5ms/step - loss: 2.3121 - accuracy: 0.1034\n",
            "Epoch 18/100\n",
            "55/55 [==============================] - 0s 5ms/step - loss: 2.3157 - accuracy: 0.0972\n",
            "Epoch 19/100\n",
            "55/55 [==============================] - 0s 6ms/step - loss: 2.3110 - accuracy: 0.1002\n",
            "Epoch 20/100\n",
            "55/55 [==============================] - 0s 5ms/step - loss: 2.3137 - accuracy: 0.0992\n",
            "Epoch 21/100\n",
            "55/55 [==============================] - 0s 5ms/step - loss: 2.3118 - accuracy: 0.0985\n",
            "Epoch 22/100\n",
            "55/55 [==============================] - 0s 5ms/step - loss: 2.3118 - accuracy: 0.0997\n",
            "Epoch 23/100\n",
            "55/55 [==============================] - 0s 5ms/step - loss: 2.3128 - accuracy: 0.0935\n",
            "Epoch 24/100\n",
            "55/55 [==============================] - 0s 6ms/step - loss: 2.3081 - accuracy: 0.1048\n",
            "Epoch 25/100\n",
            "55/55 [==============================] - 0s 6ms/step - loss: 2.3096 - accuracy: 0.1017\n",
            "Epoch 26/100\n",
            "55/55 [==============================] - 0s 6ms/step - loss: 2.3080 - accuracy: 0.1062\n",
            "Epoch 27/100\n",
            "55/55 [==============================] - 0s 5ms/step - loss: 2.3108 - accuracy: 0.1005\n",
            "Epoch 28/100\n",
            "55/55 [==============================] - 0s 5ms/step - loss: 2.3077 - accuracy: 0.0991\n",
            "Epoch 29/100\n",
            "55/55 [==============================] - 0s 6ms/step - loss: 2.3052 - accuracy: 0.1060\n",
            "Epoch 30/100\n",
            "55/55 [==============================] - 0s 5ms/step - loss: 2.3080 - accuracy: 0.0962\n",
            "Epoch 31/100\n",
            "55/55 [==============================] - 0s 5ms/step - loss: 2.3083 - accuracy: 0.0962\n",
            "Epoch 32/100\n",
            "55/55 [==============================] - 0s 6ms/step - loss: 2.3051 - accuracy: 0.1015\n",
            "Epoch 33/100\n",
            "55/55 [==============================] - 0s 6ms/step - loss: 2.3074 - accuracy: 0.0994\n",
            "Epoch 34/100\n",
            "55/55 [==============================] - 0s 6ms/step - loss: 2.3066 - accuracy: 0.0982\n",
            "Epoch 35/100\n",
            "55/55 [==============================] - 0s 6ms/step - loss: 2.3067 - accuracy: 0.1012\n",
            "Epoch 36/100\n",
            "55/55 [==============================] - 0s 6ms/step - loss: 2.3070 - accuracy: 0.1014\n",
            "Epoch 37/100\n",
            "55/55 [==============================] - 0s 5ms/step - loss: 2.3062 - accuracy: 0.0981\n",
            "Epoch 38/100\n",
            "55/55 [==============================] - 0s 6ms/step - loss: 2.3044 - accuracy: 0.1008\n",
            "Epoch 39/100\n",
            "55/55 [==============================] - 0s 6ms/step - loss: 2.3061 - accuracy: 0.1005\n",
            "Epoch 40/100\n",
            "55/55 [==============================] - 0s 5ms/step - loss: 2.3084 - accuracy: 0.0978\n",
            "Epoch 41/100\n",
            "55/55 [==============================] - 0s 5ms/step - loss: 2.3060 - accuracy: 0.0995\n",
            "Epoch 42/100\n",
            "55/55 [==============================] - 0s 6ms/step - loss: 2.3053 - accuracy: 0.0971\n",
            "Epoch 43/100\n",
            "55/55 [==============================] - 0s 6ms/step - loss: 2.3043 - accuracy: 0.1047\n",
            "Epoch 44/100\n",
            "55/55 [==============================] - 0s 6ms/step - loss: 2.3063 - accuracy: 0.0985\n",
            "Epoch 45/100\n",
            "55/55 [==============================] - 0s 6ms/step - loss: 2.3033 - accuracy: 0.1028\n",
            "Epoch 46/100\n",
            "55/55 [==============================] - 0s 6ms/step - loss: 2.3041 - accuracy: 0.1004\n",
            "Epoch 47/100\n",
            "55/55 [==============================] - 0s 5ms/step - loss: 2.3069 - accuracy: 0.0958\n",
            "Epoch 48/100\n",
            "55/55 [==============================] - 0s 5ms/step - loss: 2.3053 - accuracy: 0.1007\n",
            "Epoch 49/100\n",
            "55/55 [==============================] - 0s 6ms/step - loss: 2.3033 - accuracy: 0.1024\n",
            "Epoch 50/100\n",
            "55/55 [==============================] - 0s 6ms/step - loss: 2.3047 - accuracy: 0.0990\n",
            "Epoch 51/100\n",
            "55/55 [==============================] - 0s 6ms/step - loss: 2.3042 - accuracy: 0.1017\n",
            "Epoch 52/100\n",
            "55/55 [==============================] - 0s 6ms/step - loss: 2.3032 - accuracy: 0.1038\n",
            "Epoch 53/100\n",
            "55/55 [==============================] - 0s 5ms/step - loss: 2.3052 - accuracy: 0.1048\n",
            "Epoch 54/100\n",
            "55/55 [==============================] - 0s 6ms/step - loss: 2.3025 - accuracy: 0.1011\n",
            "Epoch 55/100\n",
            "55/55 [==============================] - 0s 7ms/step - loss: 2.3034 - accuracy: 0.1051\n",
            "Epoch 56/100\n",
            "55/55 [==============================] - 0s 6ms/step - loss: 2.3027 - accuracy: 0.1037\n",
            "Epoch 57/100\n",
            "55/55 [==============================] - 0s 5ms/step - loss: 2.3044 - accuracy: 0.0891\n",
            "Epoch 58/100\n",
            "55/55 [==============================] - 0s 6ms/step - loss: 2.3038 - accuracy: 0.1000\n",
            "Epoch 59/100\n",
            "55/55 [==============================] - 0s 6ms/step - loss: 2.3033 - accuracy: 0.1052\n",
            "Epoch 60/100\n",
            "55/55 [==============================] - 0s 6ms/step - loss: 2.3041 - accuracy: 0.0947\n",
            "Epoch 61/100\n",
            "55/55 [==============================] - 0s 6ms/step - loss: 2.3034 - accuracy: 0.1008\n",
            "Epoch 62/100\n",
            "55/55 [==============================] - 0s 6ms/step - loss: 2.3029 - accuracy: 0.1040\n",
            "Epoch 63/100\n",
            "55/55 [==============================] - 0s 6ms/step - loss: 2.3033 - accuracy: 0.1030\n",
            "Epoch 64/100\n",
            "55/55 [==============================] - 0s 6ms/step - loss: 2.3033 - accuracy: 0.1001\n",
            "Epoch 65/100\n",
            "55/55 [==============================] - 0s 5ms/step - loss: 2.3034 - accuracy: 0.1007\n",
            "Epoch 66/100\n",
            "55/55 [==============================] - 0s 5ms/step - loss: 2.3031 - accuracy: 0.1014\n",
            "Epoch 67/100\n",
            "55/55 [==============================] - 0s 6ms/step - loss: 2.3029 - accuracy: 0.1021\n",
            "Epoch 68/100\n",
            "55/55 [==============================] - 0s 6ms/step - loss: 2.3029 - accuracy: 0.0995\n",
            "Epoch 69/100\n",
            "55/55 [==============================] - 0s 5ms/step - loss: 2.3030 - accuracy: 0.1031\n",
            "Epoch 70/100\n",
            "55/55 [==============================] - 0s 6ms/step - loss: 2.3029 - accuracy: 0.1038\n",
            "Epoch 71/100\n",
            "55/55 [==============================] - 0s 6ms/step - loss: 2.3026 - accuracy: 0.1001\n",
            "Epoch 72/100\n",
            "55/55 [==============================] - 0s 5ms/step - loss: 2.3028 - accuracy: 0.1037\n",
            "Epoch 73/100\n",
            "55/55 [==============================] - 0s 6ms/step - loss: 2.3030 - accuracy: 0.1022\n",
            "Epoch 74/100\n",
            "55/55 [==============================] - 0s 6ms/step - loss: 2.3029 - accuracy: 0.1042\n",
            "Epoch 75/100\n",
            "55/55 [==============================] - 0s 6ms/step - loss: 2.3018 - accuracy: 0.1070\n",
            "Epoch 76/100\n",
            "55/55 [==============================] - 0s 5ms/step - loss: 2.3034 - accuracy: 0.0985\n",
            "Epoch 77/100\n",
            "55/55 [==============================] - 0s 6ms/step - loss: 2.3034 - accuracy: 0.0985\n",
            "Epoch 78/100\n",
            "55/55 [==============================] - 0s 5ms/step - loss: 2.3024 - accuracy: 0.1028\n",
            "Epoch 79/100\n",
            "55/55 [==============================] - 0s 5ms/step - loss: 2.3025 - accuracy: 0.1021\n",
            "Epoch 80/100\n",
            "55/55 [==============================] - 0s 6ms/step - loss: 2.3025 - accuracy: 0.1011\n",
            "Epoch 81/100\n",
            "55/55 [==============================] - 0s 6ms/step - loss: 2.3028 - accuracy: 0.0987\n",
            "Epoch 82/100\n",
            "55/55 [==============================] - 0s 5ms/step - loss: 2.3028 - accuracy: 0.1015\n",
            "Epoch 83/100\n",
            "55/55 [==============================] - 0s 6ms/step - loss: 2.3028 - accuracy: 0.1018\n",
            "Epoch 84/100\n",
            "55/55 [==============================] - 0s 6ms/step - loss: 2.3023 - accuracy: 0.1015\n",
            "Epoch 85/100\n",
            "55/55 [==============================] - 0s 5ms/step - loss: 2.3024 - accuracy: 0.1055\n",
            "Epoch 86/100\n",
            "55/55 [==============================] - 0s 6ms/step - loss: 2.3031 - accuracy: 0.1018\n",
            "Epoch 87/100\n",
            "55/55 [==============================] - 0s 6ms/step - loss: 2.3026 - accuracy: 0.1078\n",
            "Epoch 88/100\n",
            "55/55 [==============================] - 0s 6ms/step - loss: 2.3026 - accuracy: 0.0995\n",
            "Epoch 89/100\n",
            "55/55 [==============================] - 0s 6ms/step - loss: 2.3023 - accuracy: 0.1070\n",
            "Epoch 90/100\n",
            "55/55 [==============================] - 0s 6ms/step - loss: 2.3029 - accuracy: 0.1025\n",
            "Epoch 91/100\n",
            "55/55 [==============================] - 0s 5ms/step - loss: 2.3026 - accuracy: 0.0998\n",
            "Epoch 92/100\n",
            "55/55 [==============================] - 0s 6ms/step - loss: 2.3025 - accuracy: 0.1018\n",
            "Epoch 93/100\n",
            "55/55 [==============================] - 0s 6ms/step - loss: 2.3027 - accuracy: 0.1004\n",
            "Epoch 94/100\n",
            "55/55 [==============================] - 0s 5ms/step - loss: 2.3023 - accuracy: 0.1047\n",
            "Epoch 95/100\n",
            "55/55 [==============================] - 0s 5ms/step - loss: 2.3023 - accuracy: 0.1021\n",
            "Epoch 96/100\n",
            "55/55 [==============================] - 0s 6ms/step - loss: 2.3026 - accuracy: 0.1058\n",
            "Epoch 97/100\n",
            "55/55 [==============================] - 0s 5ms/step - loss: 2.3026 - accuracy: 0.1068\n",
            "Epoch 98/100\n",
            "55/55 [==============================] - 0s 6ms/step - loss: 2.3026 - accuracy: 0.1037\n",
            "Epoch 99/100\n",
            "55/55 [==============================] - 0s 6ms/step - loss: 2.3027 - accuracy: 0.1041\n",
            "Epoch 100/100\n",
            "55/55 [==============================] - 0s 5ms/step - loss: 2.3024 - accuracy: 0.1047\n"
          ]
        }
      ]
    },
    {
      "cell_type": "code",
      "source": [
        "classifierDPL2 = np.argmax(model.fit(X_trainL2,y_trainL2,epochs=100,batch_size=128),axis=-1)"
      ],
      "metadata": {
        "colab": {
          "base_uri": "https://localhost:8080/"
        },
        "id": "ZAN6PSMioTi2",
        "outputId": "6649cdd7-a22d-4f10-d9c0-7f8c30847dec"
      },
      "execution_count": null,
      "outputs": [
        {
          "output_type": "stream",
          "name": "stdout",
          "text": [
            "Epoch 1/100\n",
            "55/55 [==============================] - 0s 6ms/step - loss: 2.3032 - accuracy: 0.0978\n",
            "Epoch 2/100\n",
            "55/55 [==============================] - 0s 6ms/step - loss: 2.3028 - accuracy: 0.0991\n",
            "Epoch 3/100\n",
            "55/55 [==============================] - 0s 6ms/step - loss: 2.3031 - accuracy: 0.0955\n",
            "Epoch 4/100\n",
            "55/55 [==============================] - 0s 6ms/step - loss: 2.3027 - accuracy: 0.1040\n",
            "Epoch 5/100\n",
            "55/55 [==============================] - 0s 6ms/step - loss: 2.3027 - accuracy: 0.0981\n",
            "Epoch 6/100\n",
            "55/55 [==============================] - 0s 6ms/step - loss: 2.3029 - accuracy: 0.0978\n",
            "Epoch 7/100\n",
            "55/55 [==============================] - 0s 5ms/step - loss: 2.3026 - accuracy: 0.1017\n",
            "Epoch 8/100\n",
            "55/55 [==============================] - 0s 5ms/step - loss: 2.3025 - accuracy: 0.1038\n",
            "Epoch 9/100\n",
            "55/55 [==============================] - 0s 6ms/step - loss: 2.3026 - accuracy: 0.1020\n",
            "Epoch 10/100\n",
            "55/55 [==============================] - 0s 5ms/step - loss: 2.3023 - accuracy: 0.1021\n",
            "Epoch 11/100\n",
            "55/55 [==============================] - 0s 6ms/step - loss: 2.3017 - accuracy: 0.1018\n",
            "Epoch 12/100\n",
            "55/55 [==============================] - 0s 6ms/step - loss: 2.3016 - accuracy: 0.1022\n",
            "Epoch 13/100\n",
            "55/55 [==============================] - 0s 5ms/step - loss: 2.2996 - accuracy: 0.1067\n",
            "Epoch 14/100\n",
            "55/55 [==============================] - 0s 6ms/step - loss: 2.2962 - accuracy: 0.1101\n",
            "Epoch 15/100\n",
            "55/55 [==============================] - 0s 5ms/step - loss: 2.2888 - accuracy: 0.1128\n",
            "Epoch 16/100\n",
            "55/55 [==============================] - 0s 6ms/step - loss: 2.2741 - accuracy: 0.1246\n",
            "Epoch 17/100\n",
            "55/55 [==============================] - 0s 6ms/step - loss: 2.2616 - accuracy: 0.1287\n",
            "Epoch 18/100\n",
            "55/55 [==============================] - 0s 6ms/step - loss: 2.2330 - accuracy: 0.1459\n",
            "Epoch 19/100\n",
            "55/55 [==============================] - 0s 6ms/step - loss: 2.2045 - accuracy: 0.1570\n",
            "Epoch 20/100\n",
            "55/55 [==============================] - 0s 6ms/step - loss: 2.1616 - accuracy: 0.1729\n",
            "Epoch 21/100\n",
            "55/55 [==============================] - 0s 6ms/step - loss: 2.1204 - accuracy: 0.1833\n",
            "Epoch 22/100\n",
            "55/55 [==============================] - 0s 6ms/step - loss: 2.0762 - accuracy: 0.2039\n",
            "Epoch 23/100\n",
            "55/55 [==============================] - 0s 6ms/step - loss: 2.0370 - accuracy: 0.2162\n",
            "Epoch 24/100\n",
            "55/55 [==============================] - 0s 6ms/step - loss: 1.9963 - accuracy: 0.2284\n",
            "Epoch 25/100\n",
            "55/55 [==============================] - 0s 6ms/step - loss: 1.9682 - accuracy: 0.2338\n",
            "Epoch 26/100\n",
            "55/55 [==============================] - 0s 6ms/step - loss: 1.9176 - accuracy: 0.2523\n",
            "Epoch 27/100\n",
            "55/55 [==============================] - 0s 5ms/step - loss: 1.9031 - accuracy: 0.2600\n",
            "Epoch 28/100\n",
            "55/55 [==============================] - 0s 6ms/step - loss: 1.8711 - accuracy: 0.2747\n",
            "Epoch 29/100\n",
            "55/55 [==============================] - 0s 5ms/step - loss: 1.8490 - accuracy: 0.2843\n",
            "Epoch 30/100\n",
            "55/55 [==============================] - 0s 6ms/step - loss: 1.8236 - accuracy: 0.2876\n",
            "Epoch 31/100\n",
            "55/55 [==============================] - 0s 6ms/step - loss: 1.8076 - accuracy: 0.2937\n",
            "Epoch 32/100\n",
            "55/55 [==============================] - 0s 6ms/step - loss: 1.7876 - accuracy: 0.3072\n",
            "Epoch 33/100\n",
            "55/55 [==============================] - 0s 6ms/step - loss: 1.7711 - accuracy: 0.3172\n",
            "Epoch 34/100\n",
            "55/55 [==============================] - 0s 5ms/step - loss: 1.7577 - accuracy: 0.3149\n",
            "Epoch 35/100\n",
            "55/55 [==============================] - 0s 6ms/step - loss: 1.7455 - accuracy: 0.3292\n",
            "Epoch 36/100\n",
            "55/55 [==============================] - 0s 6ms/step - loss: 1.7368 - accuracy: 0.3352\n",
            "Epoch 37/100\n",
            "55/55 [==============================] - 0s 6ms/step - loss: 1.7309 - accuracy: 0.3269\n",
            "Epoch 38/100\n",
            "55/55 [==============================] - 0s 6ms/step - loss: 1.7130 - accuracy: 0.3411\n",
            "Epoch 39/100\n",
            "55/55 [==============================] - 0s 6ms/step - loss: 1.7110 - accuracy: 0.3411\n",
            "Epoch 40/100\n",
            "55/55 [==============================] - 0s 5ms/step - loss: 1.7027 - accuracy: 0.3443\n",
            "Epoch 41/100\n",
            "55/55 [==============================] - 0s 6ms/step - loss: 1.6870 - accuracy: 0.3418\n",
            "Epoch 42/100\n",
            "55/55 [==============================] - 0s 6ms/step - loss: 1.6719 - accuracy: 0.3521\n",
            "Epoch 43/100\n",
            "55/55 [==============================] - 0s 6ms/step - loss: 1.6623 - accuracy: 0.3657\n",
            "Epoch 44/100\n",
            "55/55 [==============================] - 0s 6ms/step - loss: 1.6700 - accuracy: 0.3612\n",
            "Epoch 45/100\n",
            "55/55 [==============================] - 0s 6ms/step - loss: 1.6602 - accuracy: 0.3599\n",
            "Epoch 46/100\n",
            "55/55 [==============================] - 0s 5ms/step - loss: 1.6505 - accuracy: 0.3618\n",
            "Epoch 47/100\n",
            "55/55 [==============================] - 0s 6ms/step - loss: 1.6500 - accuracy: 0.3707\n",
            "Epoch 48/100\n",
            "55/55 [==============================] - 0s 6ms/step - loss: 1.6399 - accuracy: 0.3679\n",
            "Epoch 49/100\n",
            "55/55 [==============================] - 0s 6ms/step - loss: 1.6351 - accuracy: 0.3747\n",
            "Epoch 50/100\n",
            "55/55 [==============================] - 0s 6ms/step - loss: 1.6201 - accuracy: 0.3767\n",
            "Epoch 51/100\n",
            "55/55 [==============================] - 0s 6ms/step - loss: 1.6263 - accuracy: 0.3797\n",
            "Epoch 52/100\n",
            "55/55 [==============================] - 0s 6ms/step - loss: 1.6268 - accuracy: 0.3818\n",
            "Epoch 53/100\n",
            "55/55 [==============================] - 0s 6ms/step - loss: 1.6220 - accuracy: 0.3894\n",
            "Epoch 54/100\n",
            "55/55 [==============================] - 0s 6ms/step - loss: 1.6030 - accuracy: 0.3887\n",
            "Epoch 55/100\n",
            "55/55 [==============================] - 0s 6ms/step - loss: 1.5911 - accuracy: 0.3921\n",
            "Epoch 56/100\n",
            "55/55 [==============================] - 0s 6ms/step - loss: 1.5978 - accuracy: 0.3920\n",
            "Epoch 57/100\n",
            "55/55 [==============================] - 0s 6ms/step - loss: 1.5961 - accuracy: 0.3888\n",
            "Epoch 58/100\n",
            "55/55 [==============================] - 0s 6ms/step - loss: 1.5945 - accuracy: 0.3944\n",
            "Epoch 59/100\n",
            "55/55 [==============================] - 0s 5ms/step - loss: 1.5756 - accuracy: 0.4058\n",
            "Epoch 60/100\n",
            "55/55 [==============================] - 0s 6ms/step - loss: 1.5689 - accuracy: 0.4048\n",
            "Epoch 61/100\n",
            "55/55 [==============================] - 0s 6ms/step - loss: 1.5713 - accuracy: 0.4054\n",
            "Epoch 62/100\n",
            "55/55 [==============================] - 0s 5ms/step - loss: 1.5596 - accuracy: 0.4126\n",
            "Epoch 63/100\n",
            "55/55 [==============================] - 0s 6ms/step - loss: 1.5597 - accuracy: 0.4118\n",
            "Epoch 64/100\n",
            "55/55 [==============================] - 0s 6ms/step - loss: 1.5612 - accuracy: 0.4163\n",
            "Epoch 65/100\n",
            "55/55 [==============================] - 0s 6ms/step - loss: 1.5504 - accuracy: 0.4073\n",
            "Epoch 66/100\n",
            "55/55 [==============================] - 0s 6ms/step - loss: 1.5513 - accuracy: 0.4157\n",
            "Epoch 67/100\n",
            "55/55 [==============================] - 0s 6ms/step - loss: 1.5366 - accuracy: 0.4233\n",
            "Epoch 68/100\n",
            "55/55 [==============================] - 0s 6ms/step - loss: 1.5338 - accuracy: 0.4241\n",
            "Epoch 69/100\n",
            "55/55 [==============================] - 0s 6ms/step - loss: 1.5326 - accuracy: 0.4184\n",
            "Epoch 70/100\n",
            "55/55 [==============================] - 0s 6ms/step - loss: 1.5177 - accuracy: 0.4231\n",
            "Epoch 71/100\n",
            "55/55 [==============================] - 0s 5ms/step - loss: 1.5143 - accuracy: 0.4284\n",
            "Epoch 72/100\n",
            "55/55 [==============================] - 0s 6ms/step - loss: 1.5080 - accuracy: 0.4326\n",
            "Epoch 73/100\n",
            "55/55 [==============================] - 0s 6ms/step - loss: 1.5068 - accuracy: 0.4307\n",
            "Epoch 74/100\n",
            "55/55 [==============================] - 0s 5ms/step - loss: 1.5070 - accuracy: 0.4283\n",
            "Epoch 75/100\n",
            "55/55 [==============================] - 0s 5ms/step - loss: 1.4953 - accuracy: 0.4470\n",
            "Epoch 76/100\n",
            "55/55 [==============================] - 0s 6ms/step - loss: 1.4950 - accuracy: 0.4412\n",
            "Epoch 77/100\n",
            "55/55 [==============================] - 0s 6ms/step - loss: 1.4917 - accuracy: 0.4400\n",
            "Epoch 78/100\n",
            "55/55 [==============================] - 0s 6ms/step - loss: 1.4778 - accuracy: 0.4446\n",
            "Epoch 79/100\n",
            "55/55 [==============================] - 0s 6ms/step - loss: 1.4898 - accuracy: 0.4447\n",
            "Epoch 80/100\n",
            "55/55 [==============================] - 0s 6ms/step - loss: 1.4644 - accuracy: 0.4587\n",
            "Epoch 81/100\n",
            "55/55 [==============================] - 0s 6ms/step - loss: 1.4859 - accuracy: 0.4447\n",
            "Epoch 82/100\n",
            "55/55 [==============================] - 0s 6ms/step - loss: 1.4629 - accuracy: 0.4539\n",
            "Epoch 83/100\n",
            "55/55 [==============================] - 0s 6ms/step - loss: 1.4743 - accuracy: 0.4463\n",
            "Epoch 84/100\n",
            "55/55 [==============================] - 0s 6ms/step - loss: 1.4612 - accuracy: 0.4499\n",
            "Epoch 85/100\n",
            "55/55 [==============================] - 0s 6ms/step - loss: 1.4526 - accuracy: 0.4562\n",
            "Epoch 86/100\n",
            "55/55 [==============================] - 0s 5ms/step - loss: 1.4341 - accuracy: 0.4678\n",
            "Epoch 87/100\n",
            "55/55 [==============================] - 0s 5ms/step - loss: 1.4466 - accuracy: 0.4637\n",
            "Epoch 88/100\n",
            "55/55 [==============================] - 0s 5ms/step - loss: 1.4322 - accuracy: 0.4637\n",
            "Epoch 89/100\n",
            "55/55 [==============================] - 0s 6ms/step - loss: 1.4521 - accuracy: 0.4563\n",
            "Epoch 90/100\n",
            "55/55 [==============================] - 0s 5ms/step - loss: 1.4303 - accuracy: 0.4636\n",
            "Epoch 91/100\n",
            "55/55 [==============================] - 0s 5ms/step - loss: 1.4435 - accuracy: 0.4636\n",
            "Epoch 92/100\n",
            "55/55 [==============================] - 0s 6ms/step - loss: 1.4284 - accuracy: 0.4622\n",
            "Epoch 93/100\n",
            "55/55 [==============================] - 0s 5ms/step - loss: 1.4226 - accuracy: 0.4656\n",
            "Epoch 94/100\n",
            "55/55 [==============================] - 0s 6ms/step - loss: 1.4398 - accuracy: 0.4725\n",
            "Epoch 95/100\n",
            "55/55 [==============================] - 0s 6ms/step - loss: 1.4166 - accuracy: 0.4690\n",
            "Epoch 96/100\n",
            "55/55 [==============================] - 0s 5ms/step - loss: 1.4217 - accuracy: 0.4718\n",
            "Epoch 97/100\n",
            "55/55 [==============================] - 0s 6ms/step - loss: 1.3933 - accuracy: 0.4842\n",
            "Epoch 98/100\n",
            "55/55 [==============================] - 0s 6ms/step - loss: 1.4039 - accuracy: 0.4729\n",
            "Epoch 99/100\n",
            "55/55 [==============================] - 0s 5ms/step - loss: 1.4081 - accuracy: 0.4672\n",
            "Epoch 100/100\n",
            "55/55 [==============================] - 0s 6ms/step - loss: 1.4051 - accuracy: 0.4718\n"
          ]
        }
      ]
    },
    {
      "cell_type": "code",
      "source": [
        "classifierDPMax = np.argmax(model.fit(X_trainMax,y_trainMax,epochs=100,batch_size=128),axis=-1)"
      ],
      "metadata": {
        "colab": {
          "base_uri": "https://localhost:8080/"
        },
        "id": "oa4B-gjXoTf5",
        "outputId": "6ad51407-9ce0-4cb4-d1c8-968663ed83c6"
      },
      "execution_count": null,
      "outputs": [
        {
          "output_type": "stream",
          "name": "stdout",
          "text": [
            "Epoch 1/100\n",
            "55/55 [==============================] - 0s 6ms/step - loss: 2.6501 - accuracy: 0.3596\n",
            "Epoch 2/100\n",
            "55/55 [==============================] - 0s 6ms/step - loss: 1.4029 - accuracy: 0.4979\n",
            "Epoch 3/100\n",
            "55/55 [==============================] - 0s 6ms/step - loss: 1.1905 - accuracy: 0.5822\n",
            "Epoch 4/100\n",
            "55/55 [==============================] - 0s 6ms/step - loss: 1.0932 - accuracy: 0.6273\n",
            "Epoch 5/100\n",
            "55/55 [==============================] - 0s 5ms/step - loss: 1.0231 - accuracy: 0.6462\n",
            "Epoch 6/100\n",
            "55/55 [==============================] - 0s 5ms/step - loss: 0.9781 - accuracy: 0.6648\n",
            "Epoch 7/100\n",
            "55/55 [==============================] - 0s 6ms/step - loss: 0.9251 - accuracy: 0.6904\n",
            "Epoch 8/100\n",
            "55/55 [==============================] - 0s 6ms/step - loss: 0.8903 - accuracy: 0.6986\n",
            "Epoch 9/100\n",
            "55/55 [==============================] - 0s 6ms/step - loss: 0.8486 - accuracy: 0.7124\n",
            "Epoch 10/100\n",
            "55/55 [==============================] - 0s 6ms/step - loss: 0.8151 - accuracy: 0.7247\n",
            "Epoch 11/100\n",
            "55/55 [==============================] - 0s 6ms/step - loss: 0.7799 - accuracy: 0.7324\n",
            "Epoch 12/100\n",
            "55/55 [==============================] - 0s 6ms/step - loss: 0.7472 - accuracy: 0.7456\n",
            "Epoch 13/100\n",
            "55/55 [==============================] - 0s 6ms/step - loss: 0.7204 - accuracy: 0.7618\n",
            "Epoch 14/100\n",
            "55/55 [==============================] - 0s 6ms/step - loss: 0.7215 - accuracy: 0.7550\n",
            "Epoch 15/100\n",
            "55/55 [==============================] - 0s 5ms/step - loss: 0.6906 - accuracy: 0.7671\n",
            "Epoch 16/100\n",
            "55/55 [==============================] - 0s 6ms/step - loss: 0.6675 - accuracy: 0.7761\n",
            "Epoch 17/100\n",
            "55/55 [==============================] - 0s 6ms/step - loss: 0.6357 - accuracy: 0.7864\n",
            "Epoch 18/100\n",
            "55/55 [==============================] - 0s 5ms/step - loss: 0.6445 - accuracy: 0.7861\n",
            "Epoch 19/100\n",
            "55/55 [==============================] - 0s 5ms/step - loss: 0.6067 - accuracy: 0.7948\n",
            "Epoch 20/100\n",
            "55/55 [==============================] - 0s 6ms/step - loss: 0.5823 - accuracy: 0.8012\n",
            "Epoch 21/100\n",
            "55/55 [==============================] - 0s 5ms/step - loss: 0.5963 - accuracy: 0.7987\n",
            "Epoch 22/100\n",
            "55/55 [==============================] - 0s 6ms/step - loss: 0.5825 - accuracy: 0.8041\n",
            "Epoch 23/100\n",
            "55/55 [==============================] - 0s 6ms/step - loss: 0.5649 - accuracy: 0.8121\n",
            "Epoch 24/100\n",
            "55/55 [==============================] - 0s 5ms/step - loss: 0.5536 - accuracy: 0.8095\n",
            "Epoch 25/100\n",
            "55/55 [==============================] - 0s 5ms/step - loss: 0.5363 - accuracy: 0.8210\n",
            "Epoch 26/100\n",
            "55/55 [==============================] - 0s 6ms/step - loss: 0.5162 - accuracy: 0.8243\n",
            "Epoch 27/100\n",
            "55/55 [==============================] - 0s 6ms/step - loss: 0.5154 - accuracy: 0.8298\n",
            "Epoch 28/100\n",
            "55/55 [==============================] - 0s 5ms/step - loss: 0.5105 - accuracy: 0.8270\n",
            "Epoch 29/100\n",
            "55/55 [==============================] - 0s 6ms/step - loss: 0.4940 - accuracy: 0.8357\n",
            "Epoch 30/100\n",
            "55/55 [==============================] - 0s 6ms/step - loss: 0.5023 - accuracy: 0.8285\n",
            "Epoch 31/100\n",
            "55/55 [==============================] - 0s 6ms/step - loss: 0.4740 - accuracy: 0.8398\n",
            "Epoch 32/100\n",
            "55/55 [==============================] - 0s 6ms/step - loss: 0.4748 - accuracy: 0.8437\n",
            "Epoch 33/100\n",
            "55/55 [==============================] - 0s 6ms/step - loss: 0.4566 - accuracy: 0.8468\n",
            "Epoch 34/100\n",
            "55/55 [==============================] - 0s 6ms/step - loss: 0.4606 - accuracy: 0.8438\n",
            "Epoch 35/100\n",
            "55/55 [==============================] - 0s 5ms/step - loss: 0.4479 - accuracy: 0.8509\n",
            "Epoch 36/100\n",
            "55/55 [==============================] - 0s 5ms/step - loss: 0.4344 - accuracy: 0.8531\n",
            "Epoch 37/100\n",
            "55/55 [==============================] - 0s 6ms/step - loss: 0.4328 - accuracy: 0.8541\n",
            "Epoch 38/100\n",
            "55/55 [==============================] - 0s 6ms/step - loss: 0.4353 - accuracy: 0.8546\n",
            "Epoch 39/100\n",
            "55/55 [==============================] - 0s 5ms/step - loss: 0.4177 - accuracy: 0.8611\n",
            "Epoch 40/100\n",
            "55/55 [==============================] - 0s 6ms/step - loss: 0.4208 - accuracy: 0.8616\n",
            "Epoch 41/100\n",
            "55/55 [==============================] - 0s 6ms/step - loss: 0.4105 - accuracy: 0.8606\n",
            "Epoch 42/100\n",
            "55/55 [==============================] - 0s 6ms/step - loss: 0.3864 - accuracy: 0.8713\n",
            "Epoch 43/100\n",
            "55/55 [==============================] - 0s 5ms/step - loss: 0.3912 - accuracy: 0.8680\n",
            "Epoch 44/100\n",
            "55/55 [==============================] - 0s 5ms/step - loss: 0.3920 - accuracy: 0.8694\n",
            "Epoch 45/100\n",
            "55/55 [==============================] - 0s 6ms/step - loss: 0.3783 - accuracy: 0.8796\n",
            "Epoch 46/100\n",
            "55/55 [==============================] - 0s 6ms/step - loss: 0.3779 - accuracy: 0.8674\n",
            "Epoch 47/100\n",
            "55/55 [==============================] - 0s 5ms/step - loss: 0.3759 - accuracy: 0.8789\n",
            "Epoch 48/100\n",
            "55/55 [==============================] - 0s 6ms/step - loss: 0.3597 - accuracy: 0.8786\n",
            "Epoch 49/100\n",
            "55/55 [==============================] - 0s 6ms/step - loss: 0.3670 - accuracy: 0.8777\n",
            "Epoch 50/100\n",
            "55/55 [==============================] - 0s 6ms/step - loss: 0.3558 - accuracy: 0.8782\n",
            "Epoch 51/100\n",
            "55/55 [==============================] - 0s 6ms/step - loss: 0.3547 - accuracy: 0.8829\n",
            "Epoch 52/100\n",
            "55/55 [==============================] - 0s 5ms/step - loss: 0.3526 - accuracy: 0.8800\n",
            "Epoch 53/100\n",
            "55/55 [==============================] - 0s 6ms/step - loss: 0.3338 - accuracy: 0.8886\n",
            "Epoch 54/100\n",
            "55/55 [==============================] - 0s 6ms/step - loss: 0.3410 - accuracy: 0.8847\n",
            "Epoch 55/100\n",
            "55/55 [==============================] - 0s 6ms/step - loss: 0.3356 - accuracy: 0.8870\n",
            "Epoch 56/100\n",
            "55/55 [==============================] - 0s 6ms/step - loss: 0.3353 - accuracy: 0.8885\n",
            "Epoch 57/100\n",
            "55/55 [==============================] - 0s 6ms/step - loss: 0.3173 - accuracy: 0.8939\n",
            "Epoch 58/100\n",
            "55/55 [==============================] - 0s 6ms/step - loss: 0.3067 - accuracy: 0.8980\n",
            "Epoch 59/100\n",
            "55/55 [==============================] - 0s 6ms/step - loss: 0.3141 - accuracy: 0.8953\n",
            "Epoch 60/100\n",
            "55/55 [==============================] - 0s 6ms/step - loss: 0.3104 - accuracy: 0.8975\n",
            "Epoch 61/100\n",
            "55/55 [==============================] - 0s 6ms/step - loss: 0.3039 - accuracy: 0.8966\n",
            "Epoch 62/100\n",
            "55/55 [==============================] - 0s 6ms/step - loss: 0.3082 - accuracy: 0.8952\n",
            "Epoch 63/100\n",
            "55/55 [==============================] - 0s 6ms/step - loss: 0.2959 - accuracy: 0.9029\n",
            "Epoch 64/100\n",
            "55/55 [==============================] - 0s 5ms/step - loss: 0.2813 - accuracy: 0.9113\n",
            "Epoch 65/100\n",
            "55/55 [==============================] - 0s 6ms/step - loss: 0.2974 - accuracy: 0.9002\n",
            "Epoch 66/100\n",
            "55/55 [==============================] - 0s 6ms/step - loss: 0.2978 - accuracy: 0.8980\n",
            "Epoch 67/100\n",
            "55/55 [==============================] - 0s 5ms/step - loss: 0.2780 - accuracy: 0.9081\n",
            "Epoch 68/100\n",
            "55/55 [==============================] - 0s 6ms/step - loss: 0.2833 - accuracy: 0.9083\n",
            "Epoch 69/100\n",
            "55/55 [==============================] - 0s 7ms/step - loss: 0.2715 - accuracy: 0.9102\n",
            "Epoch 70/100\n",
            "55/55 [==============================] - 0s 6ms/step - loss: 0.2791 - accuracy: 0.9073\n",
            "Epoch 71/100\n",
            "55/55 [==============================] - 0s 6ms/step - loss: 0.2532 - accuracy: 0.9126\n",
            "Epoch 72/100\n",
            "55/55 [==============================] - 0s 6ms/step - loss: 0.2642 - accuracy: 0.9126\n",
            "Epoch 73/100\n",
            "55/55 [==============================] - 0s 6ms/step - loss: 0.2641 - accuracy: 0.9112\n",
            "Epoch 74/100\n",
            "55/55 [==============================] - 0s 6ms/step - loss: 0.2657 - accuracy: 0.9101\n",
            "Epoch 75/100\n",
            "55/55 [==============================] - 0s 6ms/step - loss: 0.2548 - accuracy: 0.9152\n",
            "Epoch 76/100\n",
            "55/55 [==============================] - 0s 6ms/step - loss: 0.2608 - accuracy: 0.9156\n",
            "Epoch 77/100\n",
            "55/55 [==============================] - 0s 6ms/step - loss: 0.2551 - accuracy: 0.9136\n",
            "Epoch 78/100\n",
            "55/55 [==============================] - 0s 6ms/step - loss: 0.2358 - accuracy: 0.9209\n",
            "Epoch 79/100\n",
            "55/55 [==============================] - 0s 6ms/step - loss: 0.2517 - accuracy: 0.9149\n",
            "Epoch 80/100\n",
            "55/55 [==============================] - 0s 6ms/step - loss: 0.2444 - accuracy: 0.9171\n",
            "Epoch 81/100\n",
            "55/55 [==============================] - 0s 6ms/step - loss: 0.2405 - accuracy: 0.9229\n",
            "Epoch 82/100\n",
            "55/55 [==============================] - 0s 6ms/step - loss: 0.2529 - accuracy: 0.9192\n",
            "Epoch 83/100\n",
            "55/55 [==============================] - 0s 6ms/step - loss: 0.2299 - accuracy: 0.9242\n",
            "Epoch 84/100\n",
            "55/55 [==============================] - 0s 6ms/step - loss: 0.2373 - accuracy: 0.9208\n",
            "Epoch 85/100\n",
            "55/55 [==============================] - 0s 6ms/step - loss: 0.2319 - accuracy: 0.9249\n",
            "Epoch 86/100\n",
            "55/55 [==============================] - 0s 6ms/step - loss: 0.2258 - accuracy: 0.9248\n",
            "Epoch 87/100\n",
            "55/55 [==============================] - 0s 6ms/step - loss: 0.2353 - accuracy: 0.9236\n",
            "Epoch 88/100\n",
            "55/55 [==============================] - 0s 6ms/step - loss: 0.2141 - accuracy: 0.9296\n",
            "Epoch 89/100\n",
            "55/55 [==============================] - 0s 5ms/step - loss: 0.2296 - accuracy: 0.9245\n",
            "Epoch 90/100\n",
            "55/55 [==============================] - 0s 6ms/step - loss: 0.2310 - accuracy: 0.9221\n",
            "Epoch 91/100\n",
            "55/55 [==============================] - 0s 6ms/step - loss: 0.2192 - accuracy: 0.9272\n",
            "Epoch 92/100\n",
            "55/55 [==============================] - 0s 5ms/step - loss: 0.2336 - accuracy: 0.9236\n",
            "Epoch 93/100\n",
            "55/55 [==============================] - 0s 5ms/step - loss: 0.2083 - accuracy: 0.9332\n",
            "Epoch 94/100\n",
            "55/55 [==============================] - 0s 6ms/step - loss: 0.2161 - accuracy: 0.9282\n",
            "Epoch 95/100\n",
            "55/55 [==============================] - 0s 6ms/step - loss: 0.2180 - accuracy: 0.9294\n",
            "Epoch 96/100\n",
            "55/55 [==============================] - 0s 5ms/step - loss: 0.2154 - accuracy: 0.9294\n",
            "Epoch 97/100\n",
            "55/55 [==============================] - 0s 6ms/step - loss: 0.2129 - accuracy: 0.9292\n",
            "Epoch 98/100\n",
            "55/55 [==============================] - 0s 6ms/step - loss: 0.2145 - accuracy: 0.9291\n",
            "Epoch 99/100\n",
            "55/55 [==============================] - 0s 5ms/step - loss: 0.2052 - accuracy: 0.9322\n",
            "Epoch 100/100\n",
            "55/55 [==============================] - 0s 6ms/step - loss: 0.1974 - accuracy: 0.9329\n"
          ]
        }
      ]
    },
    {
      "cell_type": "code",
      "source": [
        "test_lossDP, test_accDP = model.evaluate(X_test,y_test)\n",
        "print('test_acc: ',test_accDP)\n",
        "\n",
        "#Validating our approach¶\n",
        "x_valDP = X_train\n",
        "partial_x_trainDP = X_train\n",
        "\n",
        "y_valDP = y_train\n",
        "partial_y_trainDP = y_train"
      ],
      "metadata": {
        "colab": {
          "base_uri": "https://localhost:8080/"
        },
        "id": "HbO4JcjTo5CN",
        "outputId": "4e6f2cb6-001a-4627-9312-79b2a0e95ed1"
      },
      "execution_count": null,
      "outputs": [
        {
          "output_type": "stream",
          "name": "stdout",
          "text": [
            "94/94 [==============================] - 0s 2ms/step - loss: 657168.1875 - accuracy: 0.1185\n",
            "test_acc:  0.11845178157091141\n"
          ]
        }
      ]
    },
    {
      "cell_type": "code",
      "source": [
        "test_lossDPStandard, test_accDPStandard = model.evaluate(X_testStandard,y_testStandard)\n",
        "print('test_acc: ',test_accDPStandard)\n",
        "\n",
        "#Validating our approach¶\n",
        "x_valDPStandard = X_trainStandard\n",
        "partial_x_trainDPStandard = X_trainStandard\n",
        "\n",
        "y_valDPStandard = y_trainStandard\n",
        "partial_y_trainDPStandard = y_trainStandard"
      ],
      "metadata": {
        "colab": {
          "base_uri": "https://localhost:8080/"
        },
        "id": "xnj0dxbDo461",
        "outputId": "56c24ac8-0b6c-4ba2-b084-75c6dd9fd9e9"
      },
      "execution_count": null,
      "outputs": [
        {
          "output_type": "stream",
          "name": "stdout",
          "text": [
            "94/94 [==============================] - 0s 2ms/step - loss: 50.9404 - accuracy: 0.5055\n",
            "test_acc:  0.5055055022239685\n"
          ]
        }
      ]
    },
    {
      "cell_type": "code",
      "source": [
        "test_lossDPL1, test_accDPL1 = model.evaluate(X_testL1,y_testL1)\n",
        "print('test_acc: ',test_accDPL1)\n",
        "\n",
        "#Validating our approach¶\n",
        "x_valDPL1 = X_trainL1\n",
        "partial_x_trainDPL1 = X_trainL1\n",
        "\n",
        "y_valDPL1 = y_trainL1\n",
        "partial_y_trainDPL1 = y_trainL1"
      ],
      "metadata": {
        "colab": {
          "base_uri": "https://localhost:8080/"
        },
        "id": "EswFV7azo4zB",
        "outputId": "4fa307dc-90cf-4f30-8586-3abf732a1d42"
      },
      "execution_count": null,
      "outputs": [
        {
          "output_type": "stream",
          "name": "stdout",
          "text": [
            "94/94 [==============================] - 0s 2ms/step - loss: 7.2199 - accuracy: 0.0938\n",
            "test_acc:  0.0937604308128357\n"
          ]
        }
      ]
    },
    {
      "cell_type": "code",
      "source": [
        "test_lossDPL2, test_accDPL2 = model.evaluate(X_testL2,y_testL2)\n",
        "print('test_acc: ',test_accDPL2)\n",
        "\n",
        "#Validating our approach¶\n",
        "x_valDPL2 = X_trainL2\n",
        "partial_x_trainDPL2 = X_trainL2\n",
        "\n",
        "y_valDPL2 = y_trainL2\n",
        "partial_y_trainDPL2 = y_trainL2"
      ],
      "metadata": {
        "colab": {
          "base_uri": "https://localhost:8080/"
        },
        "id": "7G76TzQRo4rj",
        "outputId": "b7f095ef-9525-4b3e-b042-ed358a231cfd"
      },
      "execution_count": null,
      "outputs": [
        {
          "output_type": "stream",
          "name": "stdout",
          "text": [
            "94/94 [==============================] - 0s 2ms/step - loss: 2.6050 - accuracy: 0.2222\n",
            "test_acc:  0.2222222238779068\n"
          ]
        }
      ]
    },
    {
      "cell_type": "code",
      "source": [
        "test_lossDPMax, test_accDPMax = model.evaluate(X_testMax,y_testMax)\n",
        "print('test_acc: ',test_accDPMax)\n",
        "\n",
        "#Validating our approach¶\n",
        "x_valDPMax = X_trainMax\n",
        "partial_x_trainDPMax = X_trainMax\n",
        "\n",
        "y_valDPMax = y_trainMax\n",
        "partial_y_trainDPMax = y_trainMax"
      ],
      "metadata": {
        "colab": {
          "base_uri": "https://localhost:8080/"
        },
        "id": "4zi_i29So4ja",
        "outputId": "d7dd2de7-f0c9-41ba-9909-8e9a975e3829"
      },
      "execution_count": null,
      "outputs": [
        {
          "output_type": "stream",
          "name": "stdout",
          "text": [
            "94/94 [==============================] - 0s 2ms/step - loss: 0.3223 - accuracy: 0.8939\n",
            "test_acc:  0.8938938975334167\n"
          ]
        }
      ]
    },
    {
      "cell_type": "markdown",
      "source": [
        "### **Results**\n",
        "\n",
        "The new neural network with dropout layers did show better results. A comparison of the results is shown in the below table.\n",
        "\n",
        "![ANN_Results.png](data:image/png;base64,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)\n",
        "\n",
        "As you can see, we did get some more generalised results as compared to the first neural network without the dropout layers.\n",
        "Once again, the best results were obtained for the max normalised dataset, consistent with our previous results."
      ],
      "metadata": {
        "id": "RfobK51GQFNu"
      }
    },
    {
      "cell_type": "markdown",
      "source": [
        "# Experimental\n",
        "\n",
        "The following section is an experiment on splitting the audio files into 3s long. We tried using the pydub library but were unsuccessful."
      ],
      "metadata": {
        "id": "mkQuQ5FUhOjz"
      }
    },
    {
      "cell_type": "code",
      "source": [
        "# pip install pydub"
      ],
      "metadata": {
        "id": "7yS-wpLZhYt3"
      },
      "execution_count": null,
      "outputs": []
    },
    {
      "cell_type": "code",
      "source": [
        "from pydub import AudioSegment\n",
        "import math\n",
        "\n",
        "class SplitWavAudioMubin():\n",
        "    def __init__(self, filepath):\n",
        "        self.filepath = filepath\n",
        "        \n",
        "        self.audio = AudioSegment.from_wav(self.filepath)\n",
        "    \n",
        "    def get_duration(self):\n",
        "      return self.audio.duration_seconds\n",
        "    \n",
        "    def single_split(self, from_min, to_min, split_filename):\n",
        "        t1 = from_min * 1000\n",
        "        t2 = to_min * 1000\n",
        "        split_audio = self.audio[t1:t2]\n",
        "        split_audio.export(self.filepath, format=\"wav\")\n",
        "        \n",
        "    def multiple_split(self, min_per_split):\n",
        "        total_mins = math.ceil(self.get_duration())\n",
        "        print(total_mins)\n",
        "        for i in range(0, total_mins, min_per_split):\n",
        "            split_fn = str(i) + '_' + self.filepath\n",
        "            self.single_split(i, i+min_per_split, split_fn)\n",
        "            print(str(i) + ' Done')\n",
        "            if i == total_mins - min_per_split:\n",
        "                print('All splited successfully')"
      ],
      "metadata": {
        "id": "OBtIINFhhNxR",
        "colab": {
          "base_uri": "https://localhost:8080/",
          "height": 391
        },
        "outputId": "baefad99-2cbd-404d-f929-8e5c1bf7ec44"
      },
      "execution_count": null,
      "outputs": [
        {
          "output_type": "error",
          "ename": "ModuleNotFoundError",
          "evalue": "ignored",
          "traceback": [
            "\u001b[0;31m---------------------------------------------------------------------------\u001b[0m",
            "\u001b[0;31mModuleNotFoundError\u001b[0m                       Traceback (most recent call last)",
            "\u001b[0;32m<ipython-input-85-21c6beeb48e2>\u001b[0m in \u001b[0;36m<module>\u001b[0;34m\u001b[0m\n\u001b[0;32m----> 1\u001b[0;31m \u001b[0;32mfrom\u001b[0m \u001b[0mpydub\u001b[0m \u001b[0;32mimport\u001b[0m \u001b[0mAudioSegment\u001b[0m\u001b[0;34m\u001b[0m\u001b[0;34m\u001b[0m\u001b[0m\n\u001b[0m\u001b[1;32m      2\u001b[0m \u001b[0;32mimport\u001b[0m \u001b[0mmath\u001b[0m\u001b[0;34m\u001b[0m\u001b[0;34m\u001b[0m\u001b[0m\n\u001b[1;32m      3\u001b[0m \u001b[0;34m\u001b[0m\u001b[0m\n\u001b[1;32m      4\u001b[0m \u001b[0;32mclass\u001b[0m \u001b[0mSplitWavAudioMubin\u001b[0m\u001b[0;34m(\u001b[0m\u001b[0;34m)\u001b[0m\u001b[0;34m:\u001b[0m\u001b[0;34m\u001b[0m\u001b[0;34m\u001b[0m\u001b[0m\n\u001b[1;32m      5\u001b[0m     \u001b[0;32mdef\u001b[0m \u001b[0m__init__\u001b[0m\u001b[0;34m(\u001b[0m\u001b[0mself\u001b[0m\u001b[0;34m,\u001b[0m \u001b[0mfilepath\u001b[0m\u001b[0;34m)\u001b[0m\u001b[0;34m:\u001b[0m\u001b[0;34m\u001b[0m\u001b[0;34m\u001b[0m\u001b[0m\n",
            "\u001b[0;31mModuleNotFoundError\u001b[0m: No module named 'pydub'",
            "",
            "\u001b[0;31m---------------------------------------------------------------------------\u001b[0;32m\nNOTE: If your import is failing due to a missing package, you can\nmanually install dependencies using either !pip or !apt.\n\nTo view examples of installing some common dependencies, click the\n\"Open Examples\" button below.\n\u001b[0;31m---------------------------------------------------------------------------\u001b[0m\n"
          ],
          "errorDetails": {
            "actions": [
              {
                "action": "open_url",
                "actionText": "Open Examples",
                "url": "/notebooks/snippets/importing_libraries.ipynb"
              }
            ]
          }
        }
      ]
    },
    {
      "cell_type": "code",
      "source": [
        "audio = '/content/drive/MyDrive/ML/Final_Project/Data/genres_original/blues/blues.00000.wav'\n",
        "split_wav = SplitWavAudioMubin(audio)\n",
        "split_wav.multiple_split(min_per_split=3)"
      ],
      "metadata": {
        "id": "dSQJR7phhdY3"
      },
      "execution_count": null,
      "outputs": []
    },
    {
      "cell_type": "code",
      "source": [
        "for i, chunk in enumerate(audio[::3000]):\n",
        "  with open(\"sound-%s.mp3\" % i, \"wb\") as f:\n",
        "    chunk.export(f, format=\"mp3\")"
      ],
      "metadata": {
        "id": "EyKUBlt_l1a_"
      },
      "execution_count": null,
      "outputs": []
    }
  ]
}